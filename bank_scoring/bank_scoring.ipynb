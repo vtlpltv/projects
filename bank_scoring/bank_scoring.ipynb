{
 "cells": [
  {
   "cell_type": "markdown",
   "metadata": {},
   "source": [
    "# Исследование надёжности заёмщиков\n",
    "\n",
    "Заказчик — кредитный отдел банка. Нужно разобраться, влияет ли семейное положение и количество детей клиента на факт погашения кредита в срок. Входные данные от банка — статистика о платёжеспособности клиентов.\n",
    "\n",
    "Результаты исследования будут учтены при построении модели **кредитного скоринга** — специальной системы, которая оценивает способность потенциального заёмщика вернуть кредит банку."
   ]
  },
  {
   "cell_type": "markdown",
   "metadata": {},
   "source": [
    "## Шаг 1. Откройте файл с данными и изучите общую информацию"
   ]
  },
  {
   "cell_type": "code",
   "execution_count": 1,
   "metadata": {},
   "outputs": [],
   "source": [
    "import pandas as pd\n",
    "from collections import Counter\n",
    "from pymystem3 import Mystem"
   ]
  },
  {
   "cell_type": "code",
   "execution_count": 2,
   "metadata": {},
   "outputs": [],
   "source": [
    "df = pd.read_csv('/datasets/data.csv')"
   ]
  },
  {
   "cell_type": "code",
   "execution_count": 3,
   "metadata": {
    "scrolled": true
   },
   "outputs": [
    {
     "data": {
      "text/html": [
       "<div>\n",
       "<style scoped>\n",
       "    .dataframe tbody tr th:only-of-type {\n",
       "        vertical-align: middle;\n",
       "    }\n",
       "\n",
       "    .dataframe tbody tr th {\n",
       "        vertical-align: top;\n",
       "    }\n",
       "\n",
       "    .dataframe thead th {\n",
       "        text-align: right;\n",
       "    }\n",
       "</style>\n",
       "<table border=\"1\" class=\"dataframe\">\n",
       "  <thead>\n",
       "    <tr style=\"text-align: right;\">\n",
       "      <th></th>\n",
       "      <th>children</th>\n",
       "      <th>days_employed</th>\n",
       "      <th>dob_years</th>\n",
       "      <th>education</th>\n",
       "      <th>education_id</th>\n",
       "      <th>family_status</th>\n",
       "      <th>family_status_id</th>\n",
       "      <th>gender</th>\n",
       "      <th>income_type</th>\n",
       "      <th>debt</th>\n",
       "      <th>total_income</th>\n",
       "      <th>purpose</th>\n",
       "    </tr>\n",
       "  </thead>\n",
       "  <tbody>\n",
       "    <tr>\n",
       "      <td>0</td>\n",
       "      <td>1</td>\n",
       "      <td>-8437.673028</td>\n",
       "      <td>42</td>\n",
       "      <td>высшее</td>\n",
       "      <td>0</td>\n",
       "      <td>женат / замужем</td>\n",
       "      <td>0</td>\n",
       "      <td>F</td>\n",
       "      <td>сотрудник</td>\n",
       "      <td>0</td>\n",
       "      <td>253875.639453</td>\n",
       "      <td>покупка жилья</td>\n",
       "    </tr>\n",
       "    <tr>\n",
       "      <td>1</td>\n",
       "      <td>1</td>\n",
       "      <td>-4024.803754</td>\n",
       "      <td>36</td>\n",
       "      <td>среднее</td>\n",
       "      <td>1</td>\n",
       "      <td>женат / замужем</td>\n",
       "      <td>0</td>\n",
       "      <td>F</td>\n",
       "      <td>сотрудник</td>\n",
       "      <td>0</td>\n",
       "      <td>112080.014102</td>\n",
       "      <td>приобретение автомобиля</td>\n",
       "    </tr>\n",
       "    <tr>\n",
       "      <td>2</td>\n",
       "      <td>0</td>\n",
       "      <td>-5623.422610</td>\n",
       "      <td>33</td>\n",
       "      <td>Среднее</td>\n",
       "      <td>1</td>\n",
       "      <td>женат / замужем</td>\n",
       "      <td>0</td>\n",
       "      <td>M</td>\n",
       "      <td>сотрудник</td>\n",
       "      <td>0</td>\n",
       "      <td>145885.952297</td>\n",
       "      <td>покупка жилья</td>\n",
       "    </tr>\n",
       "    <tr>\n",
       "      <td>3</td>\n",
       "      <td>3</td>\n",
       "      <td>-4124.747207</td>\n",
       "      <td>32</td>\n",
       "      <td>среднее</td>\n",
       "      <td>1</td>\n",
       "      <td>женат / замужем</td>\n",
       "      <td>0</td>\n",
       "      <td>M</td>\n",
       "      <td>сотрудник</td>\n",
       "      <td>0</td>\n",
       "      <td>267628.550329</td>\n",
       "      <td>дополнительное образование</td>\n",
       "    </tr>\n",
       "    <tr>\n",
       "      <td>4</td>\n",
       "      <td>0</td>\n",
       "      <td>340266.072047</td>\n",
       "      <td>53</td>\n",
       "      <td>среднее</td>\n",
       "      <td>1</td>\n",
       "      <td>гражданский брак</td>\n",
       "      <td>1</td>\n",
       "      <td>F</td>\n",
       "      <td>пенсионер</td>\n",
       "      <td>0</td>\n",
       "      <td>158616.077870</td>\n",
       "      <td>сыграть свадьбу</td>\n",
       "    </tr>\n",
       "    <tr>\n",
       "      <td>5</td>\n",
       "      <td>0</td>\n",
       "      <td>-926.185831</td>\n",
       "      <td>27</td>\n",
       "      <td>высшее</td>\n",
       "      <td>0</td>\n",
       "      <td>гражданский брак</td>\n",
       "      <td>1</td>\n",
       "      <td>M</td>\n",
       "      <td>компаньон</td>\n",
       "      <td>0</td>\n",
       "      <td>255763.565419</td>\n",
       "      <td>покупка жилья</td>\n",
       "    </tr>\n",
       "    <tr>\n",
       "      <td>6</td>\n",
       "      <td>0</td>\n",
       "      <td>-2879.202052</td>\n",
       "      <td>43</td>\n",
       "      <td>высшее</td>\n",
       "      <td>0</td>\n",
       "      <td>женат / замужем</td>\n",
       "      <td>0</td>\n",
       "      <td>F</td>\n",
       "      <td>компаньон</td>\n",
       "      <td>0</td>\n",
       "      <td>240525.971920</td>\n",
       "      <td>операции с жильем</td>\n",
       "    </tr>\n",
       "    <tr>\n",
       "      <td>7</td>\n",
       "      <td>0</td>\n",
       "      <td>-152.779569</td>\n",
       "      <td>50</td>\n",
       "      <td>СРЕДНЕЕ</td>\n",
       "      <td>1</td>\n",
       "      <td>женат / замужем</td>\n",
       "      <td>0</td>\n",
       "      <td>M</td>\n",
       "      <td>сотрудник</td>\n",
       "      <td>0</td>\n",
       "      <td>135823.934197</td>\n",
       "      <td>образование</td>\n",
       "    </tr>\n",
       "    <tr>\n",
       "      <td>8</td>\n",
       "      <td>2</td>\n",
       "      <td>-6929.865299</td>\n",
       "      <td>35</td>\n",
       "      <td>ВЫСШЕЕ</td>\n",
       "      <td>0</td>\n",
       "      <td>гражданский брак</td>\n",
       "      <td>1</td>\n",
       "      <td>F</td>\n",
       "      <td>сотрудник</td>\n",
       "      <td>0</td>\n",
       "      <td>95856.832424</td>\n",
       "      <td>на проведение свадьбы</td>\n",
       "    </tr>\n",
       "    <tr>\n",
       "      <td>9</td>\n",
       "      <td>0</td>\n",
       "      <td>-2188.756445</td>\n",
       "      <td>41</td>\n",
       "      <td>среднее</td>\n",
       "      <td>1</td>\n",
       "      <td>женат / замужем</td>\n",
       "      <td>0</td>\n",
       "      <td>M</td>\n",
       "      <td>сотрудник</td>\n",
       "      <td>0</td>\n",
       "      <td>144425.938277</td>\n",
       "      <td>покупка жилья для семьи</td>\n",
       "    </tr>\n",
       "  </tbody>\n",
       "</table>\n",
       "</div>"
      ],
      "text/plain": [
       "   children  days_employed  dob_years education  education_id  \\\n",
       "0         1   -8437.673028         42    высшее             0   \n",
       "1         1   -4024.803754         36   среднее             1   \n",
       "2         0   -5623.422610         33   Среднее             1   \n",
       "3         3   -4124.747207         32   среднее             1   \n",
       "4         0  340266.072047         53   среднее             1   \n",
       "5         0    -926.185831         27    высшее             0   \n",
       "6         0   -2879.202052         43    высшее             0   \n",
       "7         0    -152.779569         50   СРЕДНЕЕ             1   \n",
       "8         2   -6929.865299         35    ВЫСШЕЕ             0   \n",
       "9         0   -2188.756445         41   среднее             1   \n",
       "\n",
       "      family_status  family_status_id gender income_type  debt   total_income  \\\n",
       "0   женат / замужем                 0      F   сотрудник     0  253875.639453   \n",
       "1   женат / замужем                 0      F   сотрудник     0  112080.014102   \n",
       "2   женат / замужем                 0      M   сотрудник     0  145885.952297   \n",
       "3   женат / замужем                 0      M   сотрудник     0  267628.550329   \n",
       "4  гражданский брак                 1      F   пенсионер     0  158616.077870   \n",
       "5  гражданский брак                 1      M   компаньон     0  255763.565419   \n",
       "6   женат / замужем                 0      F   компаньон     0  240525.971920   \n",
       "7   женат / замужем                 0      M   сотрудник     0  135823.934197   \n",
       "8  гражданский брак                 1      F   сотрудник     0   95856.832424   \n",
       "9   женат / замужем                 0      M   сотрудник     0  144425.938277   \n",
       "\n",
       "                      purpose  \n",
       "0               покупка жилья  \n",
       "1     приобретение автомобиля  \n",
       "2               покупка жилья  \n",
       "3  дополнительное образование  \n",
       "4             сыграть свадьбу  \n",
       "5               покупка жилья  \n",
       "6           операции с жильем  \n",
       "7                 образование  \n",
       "8       на проведение свадьбы  \n",
       "9     покупка жилья для семьи  "
      ]
     },
     "execution_count": 3,
     "metadata": {},
     "output_type": "execute_result"
    }
   ],
   "source": [
    "df.head(10)"
   ]
  },
  {
   "cell_type": "code",
   "execution_count": 4,
   "metadata": {},
   "outputs": [
    {
     "name": "stdout",
     "output_type": "stream",
     "text": [
      "<class 'pandas.core.frame.DataFrame'>\n",
      "RangeIndex: 21525 entries, 0 to 21524\n",
      "Data columns (total 12 columns):\n",
      "children            21525 non-null int64\n",
      "days_employed       19351 non-null float64\n",
      "dob_years           21525 non-null int64\n",
      "education           21525 non-null object\n",
      "education_id        21525 non-null int64\n",
      "family_status       21525 non-null object\n",
      "family_status_id    21525 non-null int64\n",
      "gender              21525 non-null object\n",
      "income_type         21525 non-null object\n",
      "debt                21525 non-null int64\n",
      "total_income        19351 non-null float64\n",
      "purpose             21525 non-null object\n",
      "dtypes: float64(2), int64(5), object(5)\n",
      "memory usage: 2.0+ MB\n"
     ]
    }
   ],
   "source": [
    "df.info()"
   ]
  },
  {
   "cell_type": "markdown",
   "metadata": {},
   "source": [
    "**Вывод**\n",
    "\n",
    "Итак, в таблице 12 столбцов. Тип данных: int64, float64, object.\n",
    "В названиях колонок не видны нарушения стиля.\n",
    "\n",
    "1. Количество значений в столбцах `days_employed` и `total_income` различается. Значит, в данных есть пропущенные значения.\n",
    "2. В столбце `days_employed` присутствуют отрицательные значения.\n",
    "3. В столбце `education` встречаются неявные дубликаты.\n",
    "4. Столбцы `total_income` и `days_employed` следует привести к целочисленным значениям.\n",
    "\n",
    "- children — количество детей в семье\n",
    "- days_employed — общий трудовой стаж в днях\n",
    "- dob_years — возраст клиента в годах\n",
    "- education — уровень образования клиента\n",
    "- education_id — идентификатор уровня образования\n",
    "- family_status — семейное положение\n",
    "- family_status_id — идентификатор семейного положения\n",
    "- gender — пол клиента\n",
    "- income_type — тип занятости\n",
    "- debt — имел ли задолженность по возврату кредитов\n",
    "- total_income — ежемесячный доход\n",
    "- purpose — цель получения кредита"
   ]
  },
  {
   "cell_type": "markdown",
   "metadata": {},
   "source": [
    "Отвечая на первый вопрос, столкнулся с неправильными данными в столбце `children` (количество детей: -1 и 20)"
   ]
  },
  {
   "cell_type": "code",
   "execution_count": 5,
   "metadata": {},
   "outputs": [],
   "source": [
    "df['children'] = df['children'].replace(20, 2)\n",
    "df['children'] = df['children'].replace(-1, 1)"
   ]
  },
  {
   "cell_type": "markdown",
   "metadata": {},
   "source": [
    "## Шаг 2. Предобработка данных"
   ]
  },
  {
   "cell_type": "markdown",
   "metadata": {},
   "source": [
    "### Обработка пропусков"
   ]
  },
  {
   "cell_type": "code",
   "execution_count": 6,
   "metadata": {
    "scrolled": true
   },
   "outputs": [
    {
     "data": {
      "text/plain": [
       "children               0\n",
       "days_employed       2174\n",
       "dob_years              0\n",
       "education              0\n",
       "education_id           0\n",
       "family_status          0\n",
       "family_status_id       0\n",
       "gender                 0\n",
       "income_type            0\n",
       "debt                   0\n",
       "total_income        2174\n",
       "purpose                0\n",
       "dtype: int64"
      ]
     },
     "execution_count": 6,
     "metadata": {},
     "output_type": "execute_result"
    }
   ],
   "source": [
    "# подсчёт пропусков\n",
    "df.isna().sum()"
   ]
  },
  {
   "cell_type": "markdown",
   "metadata": {},
   "source": [
    "Пропущенные значения, возможно, появились из-за отсутствия данных у банка, либо клиенты не захотели предоставить информацию об опыте работы и ежемесячных доходах, либо заемщики не имели опыта работы и соотвественно не получали зарплату. Также нельзя исключать, что пропуски в столбцах появились из-за неправильной записи данных.\n",
    "\n",
    "Пропуски в столбцах `days_employed` и `total_income` можно заменить на медианные значения обоих столбцов (среднее значение не подойдет, так как в данных присутствуют аномальные значения). Предварительно необходимо привести все значения в столбце `days_employed` к модулю функцей `abs()`."
   ]
  },
  {
   "cell_type": "code",
   "execution_count": 7,
   "metadata": {},
   "outputs": [],
   "source": [
    "df['days_employed'] = df['days_employed'].abs()"
   ]
  },
  {
   "cell_type": "code",
   "execution_count": 8,
   "metadata": {},
   "outputs": [],
   "source": [
    "# заполняем пропущенные значения\n",
    "df['days_employed'] = df['days_employed'].fillna(df['days_employed'].median())\n",
    "df['total_income'].fillna(df.groupby('income_type')['total_income'].transform('median'))"
   ]
  },
  {
   "cell_type": "code",
   "execution_count": 9,
   "metadata": {},
   "outputs": [
    {
     "data": {
      "text/plain": [
       "children            0\n",
       "days_employed       0\n",
       "dob_years           0\n",
       "education           0\n",
       "education_id        0\n",
       "family_status       0\n",
       "family_status_id    0\n",
       "gender              0\n",
       "income_type         0\n",
       "debt                0\n",
       "total_income        0\n",
       "purpose             0\n",
       "dtype: int64"
      ]
     },
     "execution_count": 9,
     "metadata": {},
     "output_type": "execute_result"
    }
   ],
   "source": [
    "df.isna().sum()"
   ]
  },
  {
   "cell_type": "markdown",
   "metadata": {},
   "source": [
    "**Вывод**"
   ]
  },
  {
   "cell_type": "markdown",
   "metadata": {},
   "source": [
    "В таблице не осталось пропусков."
   ]
  },
  {
   "cell_type": "markdown",
   "metadata": {},
   "source": [
    "### Замена типа данных"
   ]
  },
  {
   "cell_type": "markdown",
   "metadata": {},
   "source": [
    "Для удобства расчетов предлагаю привести значения к int64. Для этого используем метод `astype`"
   ]
  },
  {
   "cell_type": "code",
   "execution_count": 10,
   "metadata": {},
   "outputs": [],
   "source": [
    "columns_to_replace = ['days_employed', 'total_income']\n",
    "for row in columns_to_replace:\n",
    "    df[row] = df[row].astype('int')"
   ]
  },
  {
   "cell_type": "code",
   "execution_count": 11,
   "metadata": {},
   "outputs": [
    {
     "name": "stdout",
     "output_type": "stream",
     "text": [
      "<class 'pandas.core.frame.DataFrame'>\n",
      "RangeIndex: 21525 entries, 0 to 21524\n",
      "Data columns (total 12 columns):\n",
      "children            21525 non-null int64\n",
      "days_employed       21525 non-null int64\n",
      "dob_years           21525 non-null int64\n",
      "education           21525 non-null object\n",
      "education_id        21525 non-null int64\n",
      "family_status       21525 non-null object\n",
      "family_status_id    21525 non-null int64\n",
      "gender              21525 non-null object\n",
      "income_type         21525 non-null object\n",
      "debt                21525 non-null int64\n",
      "total_income        21525 non-null int64\n",
      "purpose             21525 non-null object\n",
      "dtypes: int64(7), object(5)\n",
      "memory usage: 2.0+ MB\n"
     ]
    }
   ],
   "source": [
    "df.info()"
   ]
  },
  {
   "cell_type": "code",
   "execution_count": 12,
   "metadata": {},
   "outputs": [
    {
     "data": {
      "text/html": [
       "<div>\n",
       "<style scoped>\n",
       "    .dataframe tbody tr th:only-of-type {\n",
       "        vertical-align: middle;\n",
       "    }\n",
       "\n",
       "    .dataframe tbody tr th {\n",
       "        vertical-align: top;\n",
       "    }\n",
       "\n",
       "    .dataframe thead th {\n",
       "        text-align: right;\n",
       "    }\n",
       "</style>\n",
       "<table border=\"1\" class=\"dataframe\">\n",
       "  <thead>\n",
       "    <tr style=\"text-align: right;\">\n",
       "      <th></th>\n",
       "      <th>children</th>\n",
       "      <th>days_employed</th>\n",
       "      <th>dob_years</th>\n",
       "      <th>education</th>\n",
       "      <th>education_id</th>\n",
       "      <th>family_status</th>\n",
       "      <th>family_status_id</th>\n",
       "      <th>gender</th>\n",
       "      <th>income_type</th>\n",
       "      <th>debt</th>\n",
       "      <th>total_income</th>\n",
       "      <th>purpose</th>\n",
       "    </tr>\n",
       "  </thead>\n",
       "  <tbody>\n",
       "    <tr>\n",
       "      <td>0</td>\n",
       "      <td>1</td>\n",
       "      <td>8437</td>\n",
       "      <td>42</td>\n",
       "      <td>высшее</td>\n",
       "      <td>0</td>\n",
       "      <td>женат / замужем</td>\n",
       "      <td>0</td>\n",
       "      <td>F</td>\n",
       "      <td>сотрудник</td>\n",
       "      <td>0</td>\n",
       "      <td>253875</td>\n",
       "      <td>покупка жилья</td>\n",
       "    </tr>\n",
       "    <tr>\n",
       "      <td>1</td>\n",
       "      <td>1</td>\n",
       "      <td>4024</td>\n",
       "      <td>36</td>\n",
       "      <td>среднее</td>\n",
       "      <td>1</td>\n",
       "      <td>женат / замужем</td>\n",
       "      <td>0</td>\n",
       "      <td>F</td>\n",
       "      <td>сотрудник</td>\n",
       "      <td>0</td>\n",
       "      <td>112080</td>\n",
       "      <td>приобретение автомобиля</td>\n",
       "    </tr>\n",
       "    <tr>\n",
       "      <td>2</td>\n",
       "      <td>0</td>\n",
       "      <td>5623</td>\n",
       "      <td>33</td>\n",
       "      <td>Среднее</td>\n",
       "      <td>1</td>\n",
       "      <td>женат / замужем</td>\n",
       "      <td>0</td>\n",
       "      <td>M</td>\n",
       "      <td>сотрудник</td>\n",
       "      <td>0</td>\n",
       "      <td>145885</td>\n",
       "      <td>покупка жилья</td>\n",
       "    </tr>\n",
       "    <tr>\n",
       "      <td>3</td>\n",
       "      <td>3</td>\n",
       "      <td>4124</td>\n",
       "      <td>32</td>\n",
       "      <td>среднее</td>\n",
       "      <td>1</td>\n",
       "      <td>женат / замужем</td>\n",
       "      <td>0</td>\n",
       "      <td>M</td>\n",
       "      <td>сотрудник</td>\n",
       "      <td>0</td>\n",
       "      <td>267628</td>\n",
       "      <td>дополнительное образование</td>\n",
       "    </tr>\n",
       "    <tr>\n",
       "      <td>4</td>\n",
       "      <td>0</td>\n",
       "      <td>340266</td>\n",
       "      <td>53</td>\n",
       "      <td>среднее</td>\n",
       "      <td>1</td>\n",
       "      <td>гражданский брак</td>\n",
       "      <td>1</td>\n",
       "      <td>F</td>\n",
       "      <td>пенсионер</td>\n",
       "      <td>0</td>\n",
       "      <td>158616</td>\n",
       "      <td>сыграть свадьбу</td>\n",
       "    </tr>\n",
       "  </tbody>\n",
       "</table>\n",
       "</div>"
      ],
      "text/plain": [
       "   children  days_employed  dob_years education  education_id  \\\n",
       "0         1           8437         42    высшее             0   \n",
       "1         1           4024         36   среднее             1   \n",
       "2         0           5623         33   Среднее             1   \n",
       "3         3           4124         32   среднее             1   \n",
       "4         0         340266         53   среднее             1   \n",
       "\n",
       "      family_status  family_status_id gender income_type  debt  total_income  \\\n",
       "0   женат / замужем                 0      F   сотрудник     0        253875   \n",
       "1   женат / замужем                 0      F   сотрудник     0        112080   \n",
       "2   женат / замужем                 0      M   сотрудник     0        145885   \n",
       "3   женат / замужем                 0      M   сотрудник     0        267628   \n",
       "4  гражданский брак                 1      F   пенсионер     0        158616   \n",
       "\n",
       "                      purpose  \n",
       "0               покупка жилья  \n",
       "1     приобретение автомобиля  \n",
       "2               покупка жилья  \n",
       "3  дополнительное образование  \n",
       "4             сыграть свадьбу  "
      ]
     },
     "execution_count": 12,
     "metadata": {},
     "output_type": "execute_result"
    }
   ],
   "source": [
    "df.head()"
   ]
  },
  {
   "cell_type": "markdown",
   "metadata": {},
   "source": [
    "**Вывод**"
   ]
  },
  {
   "cell_type": "markdown",
   "metadata": {},
   "source": [
    "Благодаря замене вещественного типа данных на целочисленный таблицу стало удобнее читать."
   ]
  },
  {
   "cell_type": "markdown",
   "metadata": {},
   "source": [
    "### Обработка дубликатов"
   ]
  },
  {
   "cell_type": "markdown",
   "metadata": {},
   "source": [
    "При первом знакомстве с таблицей бросились в глаза неявные дубликаты в столбце `education`. Поэтому необходимо привести все значения этого столбца к одному регистру - нижнему "
   ]
  },
  {
   "cell_type": "code",
   "execution_count": 13,
   "metadata": {
    "scrolled": true
   },
   "outputs": [
    {
     "data": {
      "text/plain": [
       "array(['высшее', 'среднее', 'Среднее', 'СРЕДНЕЕ', 'ВЫСШЕЕ',\n",
       "       'неоконченное высшее', 'начальное', 'Высшее',\n",
       "       'НЕОКОНЧЕННОЕ ВЫСШЕЕ', 'Неоконченное высшее', 'НАЧАЛЬНОЕ',\n",
       "       'Начальное', 'Ученая степень', 'УЧЕНАЯ СТЕПЕНЬ', 'ученая степень'],\n",
       "      dtype=object)"
      ]
     },
     "execution_count": 13,
     "metadata": {},
     "output_type": "execute_result"
    }
   ],
   "source": [
    "df['education'].unique()"
   ]
  },
  {
   "cell_type": "markdown",
   "metadata": {},
   "source": [
    "Такие дубликаты возникают в результате неправильного заполнения данных."
   ]
  },
  {
   "cell_type": "code",
   "execution_count": 14,
   "metadata": {},
   "outputs": [],
   "source": [
    "df['education'] = df['education'].str.lower()"
   ]
  },
  {
   "cell_type": "code",
   "execution_count": 15,
   "metadata": {},
   "outputs": [
    {
     "data": {
      "text/plain": [
       "array(['высшее', 'среднее', 'неоконченное высшее', 'начальное',\n",
       "       'ученая степень'], dtype=object)"
      ]
     },
     "execution_count": 15,
     "metadata": {},
     "output_type": "execute_result"
    }
   ],
   "source": [
    "df['education'].unique()"
   ]
  },
  {
   "cell_type": "markdown",
   "metadata": {},
   "source": [
    "Теперь у нас вместо 15 видов образования всего лишь 5 разновидностей."
   ]
  },
  {
   "cell_type": "markdown",
   "metadata": {},
   "source": [
    "Посчитаем явные дубликаты в таблице:"
   ]
  },
  {
   "cell_type": "code",
   "execution_count": 16,
   "metadata": {
    "scrolled": false
   },
   "outputs": [
    {
     "data": {
      "text/plain": [
       "71"
      ]
     },
     "execution_count": 16,
     "metadata": {},
     "output_type": "execute_result"
    }
   ],
   "source": [
    "# подсчёт явных дубликатов\n",
    "df.duplicated().sum()"
   ]
  },
  {
   "cell_type": "code",
   "execution_count": 17,
   "metadata": {},
   "outputs": [],
   "source": [
    "# удаление явных дубликатов (с удалением старых индексов и формированием новых)\n",
    "df = df.drop_duplicates().reset_index(drop = True)"
   ]
  },
  {
   "cell_type": "code",
   "execution_count": 18,
   "metadata": {
    "scrolled": true
   },
   "outputs": [
    {
     "data": {
      "text/plain": [
       "0"
      ]
     },
     "execution_count": 18,
     "metadata": {},
     "output_type": "execute_result"
    }
   ],
   "source": [
    "# проверка на отсутствие дубликатов\n",
    "df.duplicated().sum()"
   ]
  },
  {
   "cell_type": "code",
   "execution_count": 19,
   "metadata": {},
   "outputs": [
    {
     "name": "stdout",
     "output_type": "stream",
     "text": [
      "<class 'pandas.core.frame.DataFrame'>\n",
      "RangeIndex: 21454 entries, 0 to 21453\n",
      "Data columns (total 12 columns):\n",
      "children            21454 non-null int64\n",
      "days_employed       21454 non-null int64\n",
      "dob_years           21454 non-null int64\n",
      "education           21454 non-null object\n",
      "education_id        21454 non-null int64\n",
      "family_status       21454 non-null object\n",
      "family_status_id    21454 non-null int64\n",
      "gender              21454 non-null object\n",
      "income_type         21454 non-null object\n",
      "debt                21454 non-null int64\n",
      "total_income        21454 non-null int64\n",
      "purpose             21454 non-null object\n",
      "dtypes: int64(7), object(5)\n",
      "memory usage: 2.0+ MB\n"
     ]
    }
   ],
   "source": [
    "df.info()"
   ]
  },
  {
   "cell_type": "markdown",
   "metadata": {},
   "source": [
    "**Вывод**"
   ]
  },
  {
   "cell_type": "markdown",
   "metadata": {},
   "source": [
    "Мы убрали явные и неявные дубликаты, то есть данные стали чище. А это означает, что мы сможем сделать более точные выводы."
   ]
  },
  {
   "cell_type": "markdown",
   "metadata": {},
   "source": [
    "### Лемматизация"
   ]
  },
  {
   "cell_type": "markdown",
   "metadata": {},
   "source": [
    "Для категоризации данных необходимо выделить леммы в значениях столбца с целями получения кредита."
   ]
  },
  {
   "cell_type": "code",
   "execution_count": 21,
   "metadata": {},
   "outputs": [],
   "source": [
    "def lemma_purpose(purpose):\n",
    "    lemma = ' ' .join(m.lemmatize(purpose))\n",
    "    return lemma\n",
    "\n",
    "df['purpose_lemmatized'] = df['purpose'].apply(lemma_purpose)"
   ]
  },
  {
   "cell_type": "code",
   "execution_count": 22,
   "metadata": {
    "scrolled": true
   },
   "outputs": [
    {
     "data": {
      "text/html": [
       "<div>\n",
       "<style scoped>\n",
       "    .dataframe tbody tr th:only-of-type {\n",
       "        vertical-align: middle;\n",
       "    }\n",
       "\n",
       "    .dataframe tbody tr th {\n",
       "        vertical-align: top;\n",
       "    }\n",
       "\n",
       "    .dataframe thead th {\n",
       "        text-align: right;\n",
       "    }\n",
       "</style>\n",
       "<table border=\"1\" class=\"dataframe\">\n",
       "  <thead>\n",
       "    <tr style=\"text-align: right;\">\n",
       "      <th></th>\n",
       "      <th>children</th>\n",
       "      <th>days_employed</th>\n",
       "      <th>dob_years</th>\n",
       "      <th>education</th>\n",
       "      <th>education_id</th>\n",
       "      <th>family_status</th>\n",
       "      <th>family_status_id</th>\n",
       "      <th>gender</th>\n",
       "      <th>income_type</th>\n",
       "      <th>debt</th>\n",
       "      <th>total_income</th>\n",
       "      <th>purpose</th>\n",
       "      <th>purpose_lemmatized</th>\n",
       "    </tr>\n",
       "  </thead>\n",
       "  <tbody>\n",
       "    <tr>\n",
       "      <td>0</td>\n",
       "      <td>1</td>\n",
       "      <td>8437</td>\n",
       "      <td>42</td>\n",
       "      <td>высшее</td>\n",
       "      <td>0</td>\n",
       "      <td>женат / замужем</td>\n",
       "      <td>0</td>\n",
       "      <td>F</td>\n",
       "      <td>сотрудник</td>\n",
       "      <td>0</td>\n",
       "      <td>253875</td>\n",
       "      <td>покупка жилья</td>\n",
       "      <td>покупка   жилье \\n</td>\n",
       "    </tr>\n",
       "    <tr>\n",
       "      <td>1</td>\n",
       "      <td>1</td>\n",
       "      <td>4024</td>\n",
       "      <td>36</td>\n",
       "      <td>среднее</td>\n",
       "      <td>1</td>\n",
       "      <td>женат / замужем</td>\n",
       "      <td>0</td>\n",
       "      <td>F</td>\n",
       "      <td>сотрудник</td>\n",
       "      <td>0</td>\n",
       "      <td>112080</td>\n",
       "      <td>приобретение автомобиля</td>\n",
       "      <td>приобретение   автомобиль \\n</td>\n",
       "    </tr>\n",
       "    <tr>\n",
       "      <td>2</td>\n",
       "      <td>0</td>\n",
       "      <td>5623</td>\n",
       "      <td>33</td>\n",
       "      <td>среднее</td>\n",
       "      <td>1</td>\n",
       "      <td>женат / замужем</td>\n",
       "      <td>0</td>\n",
       "      <td>M</td>\n",
       "      <td>сотрудник</td>\n",
       "      <td>0</td>\n",
       "      <td>145885</td>\n",
       "      <td>покупка жилья</td>\n",
       "      <td>покупка   жилье \\n</td>\n",
       "    </tr>\n",
       "    <tr>\n",
       "      <td>3</td>\n",
       "      <td>3</td>\n",
       "      <td>4124</td>\n",
       "      <td>32</td>\n",
       "      <td>среднее</td>\n",
       "      <td>1</td>\n",
       "      <td>женат / замужем</td>\n",
       "      <td>0</td>\n",
       "      <td>M</td>\n",
       "      <td>сотрудник</td>\n",
       "      <td>0</td>\n",
       "      <td>267628</td>\n",
       "      <td>дополнительное образование</td>\n",
       "      <td>дополнительный   образование \\n</td>\n",
       "    </tr>\n",
       "    <tr>\n",
       "      <td>4</td>\n",
       "      <td>0</td>\n",
       "      <td>340266</td>\n",
       "      <td>53</td>\n",
       "      <td>среднее</td>\n",
       "      <td>1</td>\n",
       "      <td>гражданский брак</td>\n",
       "      <td>1</td>\n",
       "      <td>F</td>\n",
       "      <td>пенсионер</td>\n",
       "      <td>0</td>\n",
       "      <td>158616</td>\n",
       "      <td>сыграть свадьбу</td>\n",
       "      <td>сыграть   свадьба \\n</td>\n",
       "    </tr>\n",
       "    <tr>\n",
       "      <td>5</td>\n",
       "      <td>0</td>\n",
       "      <td>926</td>\n",
       "      <td>27</td>\n",
       "      <td>высшее</td>\n",
       "      <td>0</td>\n",
       "      <td>гражданский брак</td>\n",
       "      <td>1</td>\n",
       "      <td>M</td>\n",
       "      <td>компаньон</td>\n",
       "      <td>0</td>\n",
       "      <td>255763</td>\n",
       "      <td>покупка жилья</td>\n",
       "      <td>покупка   жилье \\n</td>\n",
       "    </tr>\n",
       "    <tr>\n",
       "      <td>6</td>\n",
       "      <td>0</td>\n",
       "      <td>2879</td>\n",
       "      <td>43</td>\n",
       "      <td>высшее</td>\n",
       "      <td>0</td>\n",
       "      <td>женат / замужем</td>\n",
       "      <td>0</td>\n",
       "      <td>F</td>\n",
       "      <td>компаньон</td>\n",
       "      <td>0</td>\n",
       "      <td>240525</td>\n",
       "      <td>операции с жильем</td>\n",
       "      <td>операция   с   жилье \\n</td>\n",
       "    </tr>\n",
       "    <tr>\n",
       "      <td>7</td>\n",
       "      <td>0</td>\n",
       "      <td>152</td>\n",
       "      <td>50</td>\n",
       "      <td>среднее</td>\n",
       "      <td>1</td>\n",
       "      <td>женат / замужем</td>\n",
       "      <td>0</td>\n",
       "      <td>M</td>\n",
       "      <td>сотрудник</td>\n",
       "      <td>0</td>\n",
       "      <td>135823</td>\n",
       "      <td>образование</td>\n",
       "      <td>образование \\n</td>\n",
       "    </tr>\n",
       "    <tr>\n",
       "      <td>8</td>\n",
       "      <td>2</td>\n",
       "      <td>6929</td>\n",
       "      <td>35</td>\n",
       "      <td>высшее</td>\n",
       "      <td>0</td>\n",
       "      <td>гражданский брак</td>\n",
       "      <td>1</td>\n",
       "      <td>F</td>\n",
       "      <td>сотрудник</td>\n",
       "      <td>0</td>\n",
       "      <td>95856</td>\n",
       "      <td>на проведение свадьбы</td>\n",
       "      <td>на   проведение   свадьба \\n</td>\n",
       "    </tr>\n",
       "    <tr>\n",
       "      <td>9</td>\n",
       "      <td>0</td>\n",
       "      <td>2188</td>\n",
       "      <td>41</td>\n",
       "      <td>среднее</td>\n",
       "      <td>1</td>\n",
       "      <td>женат / замужем</td>\n",
       "      <td>0</td>\n",
       "      <td>M</td>\n",
       "      <td>сотрудник</td>\n",
       "      <td>0</td>\n",
       "      <td>144425</td>\n",
       "      <td>покупка жилья для семьи</td>\n",
       "      <td>покупка   жилье   для   семья \\n</td>\n",
       "    </tr>\n",
       "  </tbody>\n",
       "</table>\n",
       "</div>"
      ],
      "text/plain": [
       "   children  days_employed  dob_years education  education_id  \\\n",
       "0         1           8437         42    высшее             0   \n",
       "1         1           4024         36   среднее             1   \n",
       "2         0           5623         33   среднее             1   \n",
       "3         3           4124         32   среднее             1   \n",
       "4         0         340266         53   среднее             1   \n",
       "5         0            926         27    высшее             0   \n",
       "6         0           2879         43    высшее             0   \n",
       "7         0            152         50   среднее             1   \n",
       "8         2           6929         35    высшее             0   \n",
       "9         0           2188         41   среднее             1   \n",
       "\n",
       "      family_status  family_status_id gender income_type  debt  total_income  \\\n",
       "0   женат / замужем                 0      F   сотрудник     0        253875   \n",
       "1   женат / замужем                 0      F   сотрудник     0        112080   \n",
       "2   женат / замужем                 0      M   сотрудник     0        145885   \n",
       "3   женат / замужем                 0      M   сотрудник     0        267628   \n",
       "4  гражданский брак                 1      F   пенсионер     0        158616   \n",
       "5  гражданский брак                 1      M   компаньон     0        255763   \n",
       "6   женат / замужем                 0      F   компаньон     0        240525   \n",
       "7   женат / замужем                 0      M   сотрудник     0        135823   \n",
       "8  гражданский брак                 1      F   сотрудник     0         95856   \n",
       "9   женат / замужем                 0      M   сотрудник     0        144425   \n",
       "\n",
       "                      purpose                purpose_lemmatized  \n",
       "0               покупка жилья                покупка   жилье \\n  \n",
       "1     приобретение автомобиля      приобретение   автомобиль \\n  \n",
       "2               покупка жилья                покупка   жилье \\n  \n",
       "3  дополнительное образование   дополнительный   образование \\n  \n",
       "4             сыграть свадьбу              сыграть   свадьба \\n  \n",
       "5               покупка жилья                покупка   жилье \\n  \n",
       "6           операции с жильем           операция   с   жилье \\n  \n",
       "7                 образование                    образование \\n  \n",
       "8       на проведение свадьбы      на   проведение   свадьба \\n  \n",
       "9     покупка жилья для семьи  покупка   жилье   для   семья \\n  "
      ]
     },
     "execution_count": 22,
     "metadata": {},
     "output_type": "execute_result"
    }
   ],
   "source": [
    "df.head(10)"
   ]
  },
  {
   "cell_type": "code",
   "execution_count": 23,
   "metadata": {
    "scrolled": true
   },
   "outputs": [
    {
     "data": {
      "text/plain": [
       "array(['покупка   жилье \\n', 'приобретение   автомобиль \\n',\n",
       "       'дополнительный   образование \\n', 'сыграть   свадьба \\n',\n",
       "       'операция   с   жилье \\n', 'образование \\n',\n",
       "       'на   проведение   свадьба \\n', 'покупка   жилье   для   семья \\n',\n",
       "       'покупка   недвижимость \\n',\n",
       "       'покупка   коммерческий   недвижимость \\n',\n",
       "       'покупка   жилой   недвижимость \\n',\n",
       "       'строительство   собственный   недвижимость \\n', 'недвижимость \\n',\n",
       "       'строительство   недвижимость \\n',\n",
       "       'на   покупка   подержать   автомобиль \\n',\n",
       "       'на   покупка   свой   автомобиль \\n',\n",
       "       'операция   с   коммерческий   недвижимость \\n',\n",
       "       'строительство   жилой   недвижимость \\n', 'жилье \\n',\n",
       "       'операция   со   свой   недвижимость \\n', 'автомобиль \\n',\n",
       "       'заниматься   образование \\n',\n",
       "       'сделка   с   подержанный   автомобиль \\n',\n",
       "       'получение   образование \\n', 'свадьба \\n',\n",
       "       'получение   дополнительный   образование \\n',\n",
       "       'покупка   свой   жилье \\n', 'операция   с   недвижимость \\n',\n",
       "       'получение   высокий   образование \\n', 'свой   автомобиль \\n',\n",
       "       'сделка   с   автомобиль \\n', 'профильный   образование \\n',\n",
       "       'высокий   образование \\n', 'покупка   жилье   для   сдача \\n',\n",
       "       'на   покупка   автомобиль \\n', 'ремонт   жилье \\n',\n",
       "       'заниматься   высокий   образование \\n'], dtype=object)"
      ]
     },
     "execution_count": 23,
     "metadata": {},
     "output_type": "execute_result"
    }
   ],
   "source": [
    "df['purpose_lemmatized'].unique()"
   ]
  },
  {
   "cell_type": "markdown",
   "metadata": {},
   "source": [
    "Можно выделить четыре группы значений: **автомобиль, образование, свадьба и недвижимость**"
   ]
  },
  {
   "cell_type": "markdown",
   "metadata": {},
   "source": [
    "**Вывод**"
   ]
  },
  {
   "cell_type": "markdown",
   "metadata": {},
   "source": [
    "Благодаря лемматизации в следующем разделе мы сможем разбить по категориям цели кредита."
   ]
  },
  {
   "cell_type": "markdown",
   "metadata": {},
   "source": [
    "### Категоризация данных"
   ]
  },
  {
   "cell_type": "markdown",
   "metadata": {},
   "source": [
    "Создадим фунцию, которая будет принимать значения из столбца с лемматизированными значениями целей кредита и возвращать категорию в соседней ячейке столбца `purpose_cat`\n",
    "\n"
   ]
  },
  {
   "cell_type": "code",
   "execution_count": 24,
   "metadata": {},
   "outputs": [],
   "source": [
    "def main_purpose(lemmas):\n",
    "    if 'автомобиль' in lemmas:\n",
    "        return 'автомобиль'\n",
    "    if 'образование' in lemmas:\n",
    "        return 'образование'\n",
    "    if 'свадьба' in lemmas:\n",
    "        return 'свадьба'\n",
    "    if 'недвижимость' or 'жилье' in lemmas:\n",
    "        return 'недвижимость'\n",
    "\n",
    "df['main_purpose'] = df['purpose_lemmatized'].apply(main_purpose)"
   ]
  },
  {
   "cell_type": "code",
   "execution_count": 25,
   "metadata": {},
   "outputs": [
    {
     "data": {
      "text/plain": [
       "недвижимость    10811\n",
       "автомобиль       4306\n",
       "образование      4013\n",
       "свадьба          2324\n",
       "Name: main_purpose, dtype: int64"
      ]
     },
     "execution_count": 25,
     "metadata": {},
     "output_type": "execute_result"
    }
   ],
   "source": [
    "df['main_purpose'].value_counts()"
   ]
  },
  {
   "cell_type": "markdown",
   "metadata": {},
   "source": [
    "Также категоризируем данные по признаку дохода. Можно выделить три группы: люди с доходом до 100 тысяч, от 100 до 200 и выше 200.\n",
    "\n",
    "Для этого создадим фунцкию"
   ]
  },
  {
   "cell_type": "code",
   "execution_count": 26,
   "metadata": {},
   "outputs": [],
   "source": [
    "def define_total_income(row):\n",
    "    if row <= 100000:\n",
    "        return 'низкая'\n",
    "    elif 100000 < row <= 200000:\n",
    "        return 'средняя'\n",
    "    else:\n",
    "        return 'высокая'\n",
    "df['income_status'] = df['total_income'].apply(define_total_income)"
   ]
  },
  {
   "cell_type": "code",
   "execution_count": 27,
   "metadata": {},
   "outputs": [
    {
     "data": {
      "text/plain": [
       "средняя    11925\n",
       "высокая     5066\n",
       "низкая      4463\n",
       "Name: income_status, dtype: int64"
      ]
     },
     "execution_count": 27,
     "metadata": {},
     "output_type": "execute_result"
    }
   ],
   "source": [
    "df['income_status'].value_counts()"
   ]
  },
  {
   "cell_type": "markdown",
   "metadata": {},
   "source": [
    "**Вывод**"
   ]
  },
  {
   "cell_type": "markdown",
   "metadata": {},
   "source": [
    "Для ответа на третий вопрос исследования (**Есть ли зависимость между уровнем дохода и возвратом кредита в срок?**) мы осуществили категоризацию данных по признаку - уровень дохода.\n",
    "\n",
    "Для ответа на четвертый вопрос исследования (**Как разные цели кредита влияют на его возврат в срок?**) мы осуществили категоризацию данных по признаку - цель кредита."
   ]
  },
  {
   "cell_type": "markdown",
   "metadata": {},
   "source": [
    "## Шаг 3. Ответьте на вопросы"
   ]
  },
  {
   "cell_type": "markdown",
   "metadata": {},
   "source": [
    "- Есть ли зависимость между наличием детей и возвратом кредита в срок?"
   ]
  },
  {
   "cell_type": "markdown",
   "metadata": {},
   "source": [
    "Для ответа на данный вопрос необходимо сгруппировать данные по наличию детей и возвратом кредита в срок."
   ]
  },
  {
   "cell_type": "code",
   "execution_count": 28,
   "metadata": {},
   "outputs": [
    {
     "data": {
      "text/html": [
       "<div>\n",
       "<style scoped>\n",
       "    .dataframe tbody tr th:only-of-type {\n",
       "        vertical-align: middle;\n",
       "    }\n",
       "\n",
       "    .dataframe tbody tr th {\n",
       "        vertical-align: top;\n",
       "    }\n",
       "\n",
       "    .dataframe thead tr th {\n",
       "        text-align: left;\n",
       "    }\n",
       "\n",
       "    .dataframe thead tr:last-of-type th {\n",
       "        text-align: right;\n",
       "    }\n",
       "</style>\n",
       "<table border=\"1\" class=\"dataframe\">\n",
       "  <thead>\n",
       "    <tr>\n",
       "      <th></th>\n",
       "      <th></th>\n",
       "      <th>debt</th>\n",
       "    </tr>\n",
       "    <tr>\n",
       "      <th></th>\n",
       "      <th></th>\n",
       "      <th>count</th>\n",
       "    </tr>\n",
       "    <tr>\n",
       "      <th>children</th>\n",
       "      <th>debt</th>\n",
       "      <th></th>\n",
       "    </tr>\n",
       "  </thead>\n",
       "  <tbody>\n",
       "    <tr>\n",
       "      <td rowspan=\"2\" valign=\"top\">0</td>\n",
       "      <td>0</td>\n",
       "      <td>13028</td>\n",
       "    </tr>\n",
       "    <tr>\n",
       "      <td>1</td>\n",
       "      <td>1063</td>\n",
       "    </tr>\n",
       "    <tr>\n",
       "      <td rowspan=\"2\" valign=\"top\">1</td>\n",
       "      <td>0</td>\n",
       "      <td>4410</td>\n",
       "    </tr>\n",
       "    <tr>\n",
       "      <td>1</td>\n",
       "      <td>445</td>\n",
       "    </tr>\n",
       "    <tr>\n",
       "      <td rowspan=\"2\" valign=\"top\">2</td>\n",
       "      <td>0</td>\n",
       "      <td>1926</td>\n",
       "    </tr>\n",
       "    <tr>\n",
       "      <td>1</td>\n",
       "      <td>202</td>\n",
       "    </tr>\n",
       "    <tr>\n",
       "      <td rowspan=\"2\" valign=\"top\">3</td>\n",
       "      <td>0</td>\n",
       "      <td>303</td>\n",
       "    </tr>\n",
       "    <tr>\n",
       "      <td>1</td>\n",
       "      <td>27</td>\n",
       "    </tr>\n",
       "    <tr>\n",
       "      <td rowspan=\"2\" valign=\"top\">4</td>\n",
       "      <td>0</td>\n",
       "      <td>37</td>\n",
       "    </tr>\n",
       "    <tr>\n",
       "      <td>1</td>\n",
       "      <td>4</td>\n",
       "    </tr>\n",
       "    <tr>\n",
       "      <td>5</td>\n",
       "      <td>0</td>\n",
       "      <td>9</td>\n",
       "    </tr>\n",
       "  </tbody>\n",
       "</table>\n",
       "</div>"
      ],
      "text/plain": [
       "                debt\n",
       "               count\n",
       "children debt       \n",
       "0        0     13028\n",
       "         1      1063\n",
       "1        0      4410\n",
       "         1       445\n",
       "2        0      1926\n",
       "         1       202\n",
       "3        0       303\n",
       "         1        27\n",
       "4        0        37\n",
       "         1         4\n",
       "5        0         9"
      ]
     },
     "execution_count": 28,
     "metadata": {},
     "output_type": "execute_result"
    }
   ],
   "source": [
    "df.groupby(['children','debt']).agg({'debt':[\"count\"]})"
   ]
  },
  {
   "cell_type": "code",
   "execution_count": 29,
   "metadata": {},
   "outputs": [
    {
     "data": {
      "text/plain": [
       "children\n",
       "0    0.075438\n",
       "1    0.091658\n",
       "2    0.094925\n",
       "3    0.081818\n",
       "4    0.097561\n",
       "5    0.000000\n",
       "Name: debt, dtype: float64"
      ]
     },
     "execution_count": 29,
     "metadata": {},
     "output_type": "execute_result"
    }
   ],
   "source": [
    "df.groupby('children')['debt'].mean()"
   ]
  },
  {
   "cell_type": "code",
   "execution_count": 30,
   "metadata": {},
   "outputs": [
    {
     "data": {
      "text/html": [
       "<div>\n",
       "<style scoped>\n",
       "    .dataframe tbody tr th:only-of-type {\n",
       "        vertical-align: middle;\n",
       "    }\n",
       "\n",
       "    .dataframe tbody tr th {\n",
       "        vertical-align: top;\n",
       "    }\n",
       "\n",
       "    .dataframe thead th {\n",
       "        text-align: right;\n",
       "    }\n",
       "</style>\n",
       "<table border=\"1\" class=\"dataframe\">\n",
       "  <thead>\n",
       "    <tr style=\"text-align: right;\">\n",
       "      <th></th>\n",
       "      <th>debt</th>\n",
       "    </tr>\n",
       "    <tr>\n",
       "      <th>children</th>\n",
       "      <th></th>\n",
       "    </tr>\n",
       "  </thead>\n",
       "  <tbody>\n",
       "    <tr>\n",
       "      <td>0</td>\n",
       "      <td>0.075438</td>\n",
       "    </tr>\n",
       "    <tr>\n",
       "      <td>1</td>\n",
       "      <td>0.091658</td>\n",
       "    </tr>\n",
       "    <tr>\n",
       "      <td>2</td>\n",
       "      <td>0.094925</td>\n",
       "    </tr>\n",
       "    <tr>\n",
       "      <td>3</td>\n",
       "      <td>0.081818</td>\n",
       "    </tr>\n",
       "    <tr>\n",
       "      <td>4</td>\n",
       "      <td>0.097561</td>\n",
       "    </tr>\n",
       "    <tr>\n",
       "      <td>5</td>\n",
       "      <td>0.000000</td>\n",
       "    </tr>\n",
       "  </tbody>\n",
       "</table>\n",
       "</div>"
      ],
      "text/plain": [
       "              debt\n",
       "children          \n",
       "0         0.075438\n",
       "1         0.091658\n",
       "2         0.094925\n",
       "3         0.081818\n",
       "4         0.097561\n",
       "5         0.000000"
      ]
     },
     "execution_count": 30,
     "metadata": {},
     "output_type": "execute_result"
    }
   ],
   "source": [
    "df.pivot_table('debt', index='children', aggfunc='mean')"
   ]
  },
  {
   "cell_type": "markdown",
   "metadata": {},
   "source": [
    "**Вывод**"
   ]
  },
  {
   "cell_type": "markdown",
   "metadata": {},
   "source": [
    "Как видно, бездетные заемщики немного реже допускают просрочки по кредитам, чем люди с детьми. Кроме того, люди с четырьмя детьми немного чаще допускают просрочки, чем люди с меньшими количеством детей. Людей с пятью детьми всего лишь 9, поэтому отсутствие просрочек нельзя назвать закономерным.\n",
    "\n",
    "Зависимость есть, но незначительная."
   ]
  },
  {
   "cell_type": "markdown",
   "metadata": {},
   "source": [
    "- Есть ли зависимость между семейным положением и возвратом кредита в срок?"
   ]
  },
  {
   "cell_type": "code",
   "execution_count": 31,
   "metadata": {
    "scrolled": true
   },
   "outputs": [
    {
     "data": {
      "text/html": [
       "<div>\n",
       "<style scoped>\n",
       "    .dataframe tbody tr th:only-of-type {\n",
       "        vertical-align: middle;\n",
       "    }\n",
       "\n",
       "    .dataframe tbody tr th {\n",
       "        vertical-align: top;\n",
       "    }\n",
       "\n",
       "    .dataframe thead tr th {\n",
       "        text-align: left;\n",
       "    }\n",
       "\n",
       "    .dataframe thead tr:last-of-type th {\n",
       "        text-align: right;\n",
       "    }\n",
       "</style>\n",
       "<table border=\"1\" class=\"dataframe\">\n",
       "  <thead>\n",
       "    <tr>\n",
       "      <th></th>\n",
       "      <th></th>\n",
       "      <th>debt</th>\n",
       "    </tr>\n",
       "    <tr>\n",
       "      <th></th>\n",
       "      <th></th>\n",
       "      <th>count</th>\n",
       "    </tr>\n",
       "    <tr>\n",
       "      <th>family_status</th>\n",
       "      <th>debt</th>\n",
       "      <th></th>\n",
       "    </tr>\n",
       "  </thead>\n",
       "  <tbody>\n",
       "    <tr>\n",
       "      <td rowspan=\"2\" valign=\"top\">Не женат / не замужем</td>\n",
       "      <td>0</td>\n",
       "      <td>2536</td>\n",
       "    </tr>\n",
       "    <tr>\n",
       "      <td>1</td>\n",
       "      <td>274</td>\n",
       "    </tr>\n",
       "    <tr>\n",
       "      <td rowspan=\"2\" valign=\"top\">в разводе</td>\n",
       "      <td>0</td>\n",
       "      <td>1110</td>\n",
       "    </tr>\n",
       "    <tr>\n",
       "      <td>1</td>\n",
       "      <td>85</td>\n",
       "    </tr>\n",
       "    <tr>\n",
       "      <td rowspan=\"2\" valign=\"top\">вдовец / вдова</td>\n",
       "      <td>0</td>\n",
       "      <td>896</td>\n",
       "    </tr>\n",
       "    <tr>\n",
       "      <td>1</td>\n",
       "      <td>63</td>\n",
       "    </tr>\n",
       "    <tr>\n",
       "      <td rowspan=\"2\" valign=\"top\">гражданский брак</td>\n",
       "      <td>0</td>\n",
       "      <td>3763</td>\n",
       "    </tr>\n",
       "    <tr>\n",
       "      <td>1</td>\n",
       "      <td>388</td>\n",
       "    </tr>\n",
       "    <tr>\n",
       "      <td rowspan=\"2\" valign=\"top\">женат / замужем</td>\n",
       "      <td>0</td>\n",
       "      <td>11408</td>\n",
       "    </tr>\n",
       "    <tr>\n",
       "      <td>1</td>\n",
       "      <td>931</td>\n",
       "    </tr>\n",
       "  </tbody>\n",
       "</table>\n",
       "</div>"
      ],
      "text/plain": [
       "                             debt\n",
       "                            count\n",
       "family_status         debt       \n",
       "Не женат / не замужем 0      2536\n",
       "                      1       274\n",
       "в разводе             0      1110\n",
       "                      1        85\n",
       "вдовец / вдова        0       896\n",
       "                      1        63\n",
       "гражданский брак      0      3763\n",
       "                      1       388\n",
       "женат / замужем       0     11408\n",
       "                      1       931"
      ]
     },
     "execution_count": 31,
     "metadata": {},
     "output_type": "execute_result"
    }
   ],
   "source": [
    "df.groupby(['family_status','debt']).agg({'debt':[\"count\"]})"
   ]
  },
  {
   "cell_type": "code",
   "execution_count": 32,
   "metadata": {},
   "outputs": [
    {
     "data": {
      "text/plain": [
       "family_status\n",
       "Не женат / не замужем    0.097509\n",
       "в разводе                0.071130\n",
       "вдовец / вдова           0.065693\n",
       "гражданский брак         0.093471\n",
       "женат / замужем          0.075452\n",
       "Name: debt, dtype: float64"
      ]
     },
     "execution_count": 32,
     "metadata": {},
     "output_type": "execute_result"
    }
   ],
   "source": [
    "df.groupby('family_status')['debt'].mean()"
   ]
  },
  {
   "cell_type": "markdown",
   "metadata": {},
   "source": [
    "**Вывод**"
   ]
  },
  {
   "cell_type": "markdown",
   "metadata": {},
   "source": [
    "Зависимость есть: неженатые\\незамужние, а также лица, состоящие в гражданском браке, чаще допускают просрочки по кредитам по сравнению с заемщиками, которые состояли или состоят в официальном браке."
   ]
  },
  {
   "cell_type": "markdown",
   "metadata": {},
   "source": [
    "- Есть ли зависимость между уровнем дохода и возвратом кредита в срок?"
   ]
  },
  {
   "cell_type": "code",
   "execution_count": 33,
   "metadata": {
    "scrolled": true
   },
   "outputs": [
    {
     "data": {
      "text/html": [
       "<div>\n",
       "<style scoped>\n",
       "    .dataframe tbody tr th:only-of-type {\n",
       "        vertical-align: middle;\n",
       "    }\n",
       "\n",
       "    .dataframe tbody tr th {\n",
       "        vertical-align: top;\n",
       "    }\n",
       "\n",
       "    .dataframe thead tr th {\n",
       "        text-align: left;\n",
       "    }\n",
       "\n",
       "    .dataframe thead tr:last-of-type th {\n",
       "        text-align: right;\n",
       "    }\n",
       "</style>\n",
       "<table border=\"1\" class=\"dataframe\">\n",
       "  <thead>\n",
       "    <tr>\n",
       "      <th></th>\n",
       "      <th></th>\n",
       "      <th>debt</th>\n",
       "    </tr>\n",
       "    <tr>\n",
       "      <th></th>\n",
       "      <th></th>\n",
       "      <th>count</th>\n",
       "    </tr>\n",
       "    <tr>\n",
       "      <th>income_status</th>\n",
       "      <th>debt</th>\n",
       "      <th></th>\n",
       "    </tr>\n",
       "  </thead>\n",
       "  <tbody>\n",
       "    <tr>\n",
       "      <td rowspan=\"2\" valign=\"top\">высокая</td>\n",
       "      <td>0</td>\n",
       "      <td>4708</td>\n",
       "    </tr>\n",
       "    <tr>\n",
       "      <td>1</td>\n",
       "      <td>358</td>\n",
       "    </tr>\n",
       "    <tr>\n",
       "      <td rowspan=\"2\" valign=\"top\">низкая</td>\n",
       "      <td>0</td>\n",
       "      <td>4109</td>\n",
       "    </tr>\n",
       "    <tr>\n",
       "      <td>1</td>\n",
       "      <td>354</td>\n",
       "    </tr>\n",
       "    <tr>\n",
       "      <td rowspan=\"2\" valign=\"top\">средняя</td>\n",
       "      <td>0</td>\n",
       "      <td>10896</td>\n",
       "    </tr>\n",
       "    <tr>\n",
       "      <td>1</td>\n",
       "      <td>1029</td>\n",
       "    </tr>\n",
       "  </tbody>\n",
       "</table>\n",
       "</div>"
      ],
      "text/plain": [
       "                     debt\n",
       "                    count\n",
       "income_status debt       \n",
       "высокая       0      4708\n",
       "              1       358\n",
       "низкая        0      4109\n",
       "              1       354\n",
       "средняя       0     10896\n",
       "              1      1029"
      ]
     },
     "execution_count": 33,
     "metadata": {},
     "output_type": "execute_result"
    }
   ],
   "source": [
    "df.groupby(['income_status','debt']).agg({'debt':[\"count\"]})"
   ]
  },
  {
   "cell_type": "code",
   "execution_count": 34,
   "metadata": {},
   "outputs": [
    {
     "data": {
      "text/plain": [
       "income_status\n",
       "высокая    0.070667\n",
       "низкая     0.079319\n",
       "средняя    0.086289\n",
       "Name: debt, dtype: float64"
      ]
     },
     "execution_count": 34,
     "metadata": {},
     "output_type": "execute_result"
    }
   ],
   "source": [
    "df.groupby('income_status')['debt'].mean()"
   ]
  },
  {
   "cell_type": "markdown",
   "metadata": {},
   "source": [
    "**Вывод**"
   ]
  },
  {
   "cell_type": "markdown",
   "metadata": {},
   "source": [
    "Зависимость есть: люди со средним доходом (от 100 до 200) чаще допускаюют просрочки по кредитам."
   ]
  },
  {
   "cell_type": "markdown",
   "metadata": {},
   "source": [
    "- Как разные цели кредита влияют на его возврат в срок?"
   ]
  },
  {
   "cell_type": "code",
   "execution_count": 35,
   "metadata": {
    "scrolled": true
   },
   "outputs": [
    {
     "data": {
      "text/html": [
       "<div>\n",
       "<style scoped>\n",
       "    .dataframe tbody tr th:only-of-type {\n",
       "        vertical-align: middle;\n",
       "    }\n",
       "\n",
       "    .dataframe tbody tr th {\n",
       "        vertical-align: top;\n",
       "    }\n",
       "\n",
       "    .dataframe thead tr th {\n",
       "        text-align: left;\n",
       "    }\n",
       "\n",
       "    .dataframe thead tr:last-of-type th {\n",
       "        text-align: right;\n",
       "    }\n",
       "</style>\n",
       "<table border=\"1\" class=\"dataframe\">\n",
       "  <thead>\n",
       "    <tr>\n",
       "      <th></th>\n",
       "      <th></th>\n",
       "      <th>debt</th>\n",
       "    </tr>\n",
       "    <tr>\n",
       "      <th></th>\n",
       "      <th></th>\n",
       "      <th>count</th>\n",
       "    </tr>\n",
       "    <tr>\n",
       "      <th>main_purpose</th>\n",
       "      <th>debt</th>\n",
       "      <th></th>\n",
       "    </tr>\n",
       "  </thead>\n",
       "  <tbody>\n",
       "    <tr>\n",
       "      <td rowspan=\"2\" valign=\"top\">автомобиль</td>\n",
       "      <td>0</td>\n",
       "      <td>3903</td>\n",
       "    </tr>\n",
       "    <tr>\n",
       "      <td>1</td>\n",
       "      <td>403</td>\n",
       "    </tr>\n",
       "    <tr>\n",
       "      <td rowspan=\"2\" valign=\"top\">недвижимость</td>\n",
       "      <td>0</td>\n",
       "      <td>10029</td>\n",
       "    </tr>\n",
       "    <tr>\n",
       "      <td>1</td>\n",
       "      <td>782</td>\n",
       "    </tr>\n",
       "    <tr>\n",
       "      <td rowspan=\"2\" valign=\"top\">образование</td>\n",
       "      <td>0</td>\n",
       "      <td>3643</td>\n",
       "    </tr>\n",
       "    <tr>\n",
       "      <td>1</td>\n",
       "      <td>370</td>\n",
       "    </tr>\n",
       "    <tr>\n",
       "      <td rowspan=\"2\" valign=\"top\">свадьба</td>\n",
       "      <td>0</td>\n",
       "      <td>2138</td>\n",
       "    </tr>\n",
       "    <tr>\n",
       "      <td>1</td>\n",
       "      <td>186</td>\n",
       "    </tr>\n",
       "  </tbody>\n",
       "</table>\n",
       "</div>"
      ],
      "text/plain": [
       "                    debt\n",
       "                   count\n",
       "main_purpose debt       \n",
       "автомобиль   0      3903\n",
       "             1       403\n",
       "недвижимость 0     10029\n",
       "             1       782\n",
       "образование  0      3643\n",
       "             1       370\n",
       "свадьба      0      2138\n",
       "             1       186"
      ]
     },
     "execution_count": 35,
     "metadata": {},
     "output_type": "execute_result"
    }
   ],
   "source": [
    "df.groupby(['main_purpose','debt']).agg({'debt':[\"count\"]})"
   ]
  },
  {
   "cell_type": "code",
   "execution_count": 36,
   "metadata": {},
   "outputs": [
    {
     "data": {
      "text/plain": [
       "main_purpose\n",
       "автомобиль      0.093590\n",
       "недвижимость    0.072334\n",
       "образование     0.092200\n",
       "свадьба         0.080034\n",
       "Name: debt, dtype: float64"
      ]
     },
     "execution_count": 36,
     "metadata": {},
     "output_type": "execute_result"
    }
   ],
   "source": [
    "df.groupby('main_purpose')['debt'].mean()"
   ]
  },
  {
   "cell_type": "markdown",
   "metadata": {},
   "source": [
    "**Вывод**"
   ]
  },
  {
   "cell_type": "markdown",
   "metadata": {},
   "source": [
    "По кредитам на автомобиль и образование чаще допускают просрочки. Заемщики более ответственно подходят к кредитам на недвижимость."
   ]
  },
  {
   "cell_type": "markdown",
   "metadata": {},
   "source": [
    "## Шаг 4. Общий вывод"
   ]
  },
  {
   "cell_type": "markdown",
   "metadata": {},
   "source": [
    " По результатам исследования, можно сказать, что семейное положение и количество детей клиента влияет на факт погашения кредита в срок.\n",
    " \n",
    " Самая надежная группа заемщиков: бездетные официально зарегистрированные семьи с высоким доходом, которые берут кредит на недвижимость."
   ]
  }
 ],
 "metadata": {
  "ExecuteTimeLog": [
   {
    "duration": 753,
    "start_time": "2022-01-06T07:49:04.969Z"
   },
   {
    "duration": 64,
    "start_time": "2022-01-06T07:49:58.359Z"
   },
   {
    "duration": 18,
    "start_time": "2022-01-06T07:50:12.015Z"
   },
   {
    "duration": 31,
    "start_time": "2022-01-06T07:55:40.001Z"
   },
   {
    "duration": 6,
    "start_time": "2022-01-06T08:05:09.391Z"
   },
   {
    "duration": 372,
    "start_time": "2022-01-08T07:20:02.345Z"
   },
   {
    "duration": 573,
    "start_time": "2022-01-08T07:20:12.533Z"
   },
   {
    "duration": 47,
    "start_time": "2022-01-08T07:20:13.108Z"
   },
   {
    "duration": 16,
    "start_time": "2022-01-08T07:20:13.156Z"
   },
   {
    "duration": 7,
    "start_time": "2022-01-08T07:20:13.173Z"
   },
   {
    "duration": 10,
    "start_time": "2022-01-08T07:20:42.837Z"
   },
   {
    "duration": 8,
    "start_time": "2022-01-08T07:33:40.859Z"
   },
   {
    "duration": 114,
    "start_time": "2022-01-08T07:35:54.737Z"
   },
   {
    "duration": 348,
    "start_time": "2022-01-08T07:43:24.803Z"
   },
   {
    "duration": 5,
    "start_time": "2022-01-08T07:43:31.139Z"
   },
   {
    "duration": 274,
    "start_time": "2022-01-08T07:46:41.899Z"
   },
   {
    "duration": 6,
    "start_time": "2022-01-08T07:49:37.763Z"
   },
   {
    "duration": 4,
    "start_time": "2022-01-08T07:49:54.346Z"
   },
   {
    "duration": 6,
    "start_time": "2022-01-08T07:49:56.118Z"
   },
   {
    "duration": 5,
    "start_time": "2022-01-08T07:50:20.875Z"
   },
   {
    "duration": 6,
    "start_time": "2022-01-08T07:50:59.390Z"
   },
   {
    "duration": 6,
    "start_time": "2022-01-08T07:51:00.004Z"
   },
   {
    "duration": 9,
    "start_time": "2022-01-08T07:51:02.810Z"
   },
   {
    "duration": 4,
    "start_time": "2022-01-08T07:51:37.521Z"
   },
   {
    "duration": 4,
    "start_time": "2022-01-08T07:51:38.273Z"
   },
   {
    "duration": 4,
    "start_time": "2022-01-08T07:51:40.752Z"
   },
   {
    "duration": 12,
    "start_time": "2022-01-08T07:51:41.739Z"
   },
   {
    "duration": 4,
    "start_time": "2022-01-08T07:53:37.365Z"
   },
   {
    "duration": 4,
    "start_time": "2022-01-08T07:53:37.994Z"
   },
   {
    "duration": 11,
    "start_time": "2022-01-08T07:53:47.950Z"
   },
   {
    "duration": 551,
    "start_time": "2022-01-08T08:00:28.022Z"
   },
   {
    "duration": 47,
    "start_time": "2022-01-08T08:00:28.575Z"
   },
   {
    "duration": 16,
    "start_time": "2022-01-08T08:00:28.626Z"
   },
   {
    "duration": 9,
    "start_time": "2022-01-08T08:00:28.644Z"
   },
   {
    "duration": 8,
    "start_time": "2022-01-08T08:00:28.654Z"
   },
   {
    "duration": 5,
    "start_time": "2022-01-08T08:00:28.664Z"
   },
   {
    "duration": 6,
    "start_time": "2022-01-08T08:00:28.671Z"
   },
   {
    "duration": 8,
    "start_time": "2022-01-08T08:00:28.679Z"
   },
   {
    "duration": 4,
    "start_time": "2022-01-08T08:00:28.688Z"
   },
   {
    "duration": 39,
    "start_time": "2022-01-08T08:00:28.694Z"
   },
   {
    "duration": 4,
    "start_time": "2022-01-08T08:05:54.026Z"
   },
   {
    "duration": 13,
    "start_time": "2022-01-08T08:06:03.043Z"
   },
   {
    "duration": 10,
    "start_time": "2022-01-08T08:10:54.499Z"
   },
   {
    "duration": 9,
    "start_time": "2022-01-08T08:11:08.425Z"
   },
   {
    "duration": 11,
    "start_time": "2022-01-08T08:11:24.298Z"
   },
   {
    "duration": 14,
    "start_time": "2022-01-08T08:15:37.339Z"
   },
   {
    "duration": 5,
    "start_time": "2022-01-08T08:22:28.848Z"
   },
   {
    "duration": 10,
    "start_time": "2022-01-08T08:23:01.845Z"
   },
   {
    "duration": 6,
    "start_time": "2022-01-08T08:23:08.181Z"
   },
   {
    "duration": 16,
    "start_time": "2022-01-08T08:27:46.168Z"
   },
   {
    "duration": 16,
    "start_time": "2022-01-08T08:28:07.193Z"
   },
   {
    "duration": 13,
    "start_time": "2022-01-08T08:28:20.330Z"
   },
   {
    "duration": 9,
    "start_time": "2022-01-08T08:28:28.477Z"
   },
   {
    "duration": 6,
    "start_time": "2022-01-08T08:35:44.494Z"
   },
   {
    "duration": 353,
    "start_time": "2022-01-08T08:39:21.128Z"
   },
   {
    "duration": 296,
    "start_time": "2022-01-08T08:40:07.400Z"
   },
   {
    "duration": 3695,
    "start_time": "2022-01-08T08:42:02.817Z"
   },
   {
    "duration": 4609,
    "start_time": "2022-01-08T08:46:45.578Z"
   },
   {
    "duration": 320,
    "start_time": "2022-01-08T08:47:07.509Z"
   },
   {
    "duration": 274,
    "start_time": "2022-01-08T08:47:16.074Z"
   },
   {
    "duration": 3995,
    "start_time": "2022-01-08T08:47:27.412Z"
   },
   {
    "duration": 92,
    "start_time": "2022-01-08T08:48:33.002Z"
   },
   {
    "duration": 598,
    "start_time": "2022-01-08T08:48:37.868Z"
   },
   {
    "duration": 597,
    "start_time": "2022-01-08T08:48:44.592Z"
   },
   {
    "duration": 608,
    "start_time": "2022-01-08T08:48:58.984Z"
   },
   {
    "duration": 117,
    "start_time": "2022-01-08T08:50:31.522Z"
   },
   {
    "duration": 88,
    "start_time": "2022-01-08T08:50:41.936Z"
   },
   {
    "duration": 114,
    "start_time": "2022-01-08T08:50:48.458Z"
   },
   {
    "duration": 97,
    "start_time": "2022-01-08T08:50:55.076Z"
   },
   {
    "duration": 4105,
    "start_time": "2022-01-08T08:51:01.433Z"
   },
   {
    "duration": 4072,
    "start_time": "2022-01-08T08:51:51.270Z"
   },
   {
    "duration": 568,
    "start_time": "2022-01-08T08:52:11.293Z"
   },
   {
    "duration": 46,
    "start_time": "2022-01-08T08:52:11.862Z"
   },
   {
    "duration": 15,
    "start_time": "2022-01-08T08:52:11.910Z"
   },
   {
    "duration": 11,
    "start_time": "2022-01-08T08:52:11.927Z"
   },
   {
    "duration": 7,
    "start_time": "2022-01-08T08:52:11.939Z"
   },
   {
    "duration": 2,
    "start_time": "2022-01-08T08:52:11.948Z"
   },
   {
    "duration": 5,
    "start_time": "2022-01-08T08:52:11.952Z"
   },
   {
    "duration": 10,
    "start_time": "2022-01-08T08:52:11.959Z"
   },
   {
    "duration": 6,
    "start_time": "2022-01-08T08:52:11.970Z"
   },
   {
    "duration": 12,
    "start_time": "2022-01-08T08:52:11.977Z"
   },
   {
    "duration": 9,
    "start_time": "2022-01-08T08:52:11.990Z"
   },
   {
    "duration": 4,
    "start_time": "2022-01-08T08:52:12.027Z"
   },
   {
    "duration": 10,
    "start_time": "2022-01-08T08:52:12.032Z"
   },
   {
    "duration": 19,
    "start_time": "2022-01-08T08:52:12.044Z"
   },
   {
    "duration": 20,
    "start_time": "2022-01-08T08:52:12.064Z"
   },
   {
    "duration": 21,
    "start_time": "2022-01-08T08:52:12.086Z"
   },
   {
    "duration": 18,
    "start_time": "2022-01-08T08:52:12.109Z"
   },
   {
    "duration": 9,
    "start_time": "2022-01-08T08:52:12.128Z"
   },
   {
    "duration": 4,
    "start_time": "2022-01-08T08:52:12.139Z"
   },
   {
    "duration": 4546,
    "start_time": "2022-01-08T08:52:12.145Z"
   },
   {
    "duration": 3857,
    "start_time": "2022-01-08T08:53:33.893Z"
   },
   {
    "duration": 4069,
    "start_time": "2022-01-08T08:56:09.603Z"
   },
   {
    "duration": 3962,
    "start_time": "2022-01-08T08:56:51.466Z"
   },
   {
    "duration": 5,
    "start_time": "2022-01-08T09:00:12.278Z"
   },
   {
    "duration": 278,
    "start_time": "2022-01-08T09:00:19.949Z"
   },
   {
    "duration": 294,
    "start_time": "2022-01-08T09:00:27.445Z"
   },
   {
    "duration": 5,
    "start_time": "2022-01-08T09:00:35.916Z"
   },
   {
    "duration": 4861,
    "start_time": "2022-01-08T09:03:20.266Z"
   },
   {
    "duration": 4171,
    "start_time": "2022-01-08T09:04:06.381Z"
   },
   {
    "duration": 5240,
    "start_time": "2022-01-08T09:04:48.271Z"
   },
   {
    "duration": 11,
    "start_time": "2022-01-08T09:05:14.505Z"
   },
   {
    "duration": 4412,
    "start_time": "2022-01-08T09:05:54.876Z"
   },
   {
    "duration": 14,
    "start_time": "2022-01-08T09:36:31.610Z"
   },
   {
    "duration": 5,
    "start_time": "2022-01-08T09:36:46.997Z"
   },
   {
    "duration": 4,
    "start_time": "2022-01-08T09:36:53.119Z"
   },
   {
    "duration": 4,
    "start_time": "2022-01-08T09:36:59.352Z"
   },
   {
    "duration": 4,
    "start_time": "2022-01-08T09:37:04.177Z"
   },
   {
    "duration": 10,
    "start_time": "2022-01-08T09:37:20.136Z"
   },
   {
    "duration": 30,
    "start_time": "2022-01-08T09:38:30.766Z"
   },
   {
    "duration": 444,
    "start_time": "2022-01-08T09:42:18.969Z"
   },
   {
    "duration": 20,
    "start_time": "2022-01-08T09:42:40.052Z"
   },
   {
    "duration": 3,
    "start_time": "2022-01-08T09:44:40.918Z"
   },
   {
    "duration": 338,
    "start_time": "2022-01-08T09:47:18.463Z"
   },
   {
    "duration": 601,
    "start_time": "2022-01-08T09:49:32.674Z"
   },
   {
    "duration": 1368,
    "start_time": "2022-01-08T09:49:51.157Z"
   },
   {
    "duration": 286,
    "start_time": "2022-01-08T09:53:32.877Z"
   },
   {
    "duration": 542,
    "start_time": "2022-01-08T09:55:29.877Z"
   },
   {
    "duration": 9,
    "start_time": "2022-01-08T09:56:04.380Z"
   },
   {
    "duration": 4532,
    "start_time": "2022-01-08T09:56:59.810Z"
   },
   {
    "duration": 4,
    "start_time": "2022-01-08T09:57:08.465Z"
   },
   {
    "duration": 4,
    "start_time": "2022-01-08T09:57:22.418Z"
   },
   {
    "duration": 31,
    "start_time": "2022-01-08T09:58:21.127Z"
   },
   {
    "duration": 31,
    "start_time": "2022-01-08T09:58:33.366Z"
   },
   {
    "duration": 4,
    "start_time": "2022-01-08T09:58:54.435Z"
   },
   {
    "duration": 337,
    "start_time": "2022-01-08T09:58:57.491Z"
   },
   {
    "duration": 280,
    "start_time": "2022-01-08T09:59:12.029Z"
   },
   {
    "duration": 282,
    "start_time": "2022-01-08T09:59:26.566Z"
   },
   {
    "duration": 269,
    "start_time": "2022-01-08T09:59:37.843Z"
   },
   {
    "duration": 4,
    "start_time": "2022-01-08T09:59:40.313Z"
   },
   {
    "duration": 277,
    "start_time": "2022-01-08T09:59:43.134Z"
   },
   {
    "duration": 299,
    "start_time": "2022-01-08T10:00:28.977Z"
   },
   {
    "duration": 441,
    "start_time": "2022-01-08T10:00:43.780Z"
   },
   {
    "duration": 336,
    "start_time": "2022-01-08T10:00:51.667Z"
   },
   {
    "duration": 4,
    "start_time": "2022-01-08T10:01:01.224Z"
   },
   {
    "duration": 29,
    "start_time": "2022-01-08T10:01:02.010Z"
   },
   {
    "duration": 272,
    "start_time": "2022-01-08T10:01:13.629Z"
   },
   {
    "duration": 28,
    "start_time": "2022-01-08T10:01:27.899Z"
   },
   {
    "duration": 4,
    "start_time": "2022-01-08T10:04:32.294Z"
   },
   {
    "duration": 276,
    "start_time": "2022-01-08T10:04:33.622Z"
   },
   {
    "duration": 2884,
    "start_time": "2022-01-08T10:06:30.468Z"
   },
   {
    "duration": 12,
    "start_time": "2022-01-08T10:06:35.966Z"
   },
   {
    "duration": 625,
    "start_time": "2022-01-08T10:08:31.346Z"
   },
   {
    "duration": 46,
    "start_time": "2022-01-08T10:08:31.973Z"
   },
   {
    "duration": 16,
    "start_time": "2022-01-08T10:08:32.021Z"
   },
   {
    "duration": 9,
    "start_time": "2022-01-08T10:08:32.039Z"
   },
   {
    "duration": 7,
    "start_time": "2022-01-08T10:08:32.050Z"
   },
   {
    "duration": 7,
    "start_time": "2022-01-08T10:08:32.058Z"
   },
   {
    "duration": 6,
    "start_time": "2022-01-08T10:08:32.067Z"
   },
   {
    "duration": 8,
    "start_time": "2022-01-08T10:08:32.075Z"
   },
   {
    "duration": 3,
    "start_time": "2022-01-08T10:08:32.085Z"
   },
   {
    "duration": 47,
    "start_time": "2022-01-08T10:08:32.089Z"
   },
   {
    "duration": 9,
    "start_time": "2022-01-08T10:08:32.137Z"
   },
   {
    "duration": 7,
    "start_time": "2022-01-08T10:08:32.148Z"
   },
   {
    "duration": 17,
    "start_time": "2022-01-08T10:08:32.156Z"
   },
   {
    "duration": 10,
    "start_time": "2022-01-08T10:08:32.175Z"
   },
   {
    "duration": 42,
    "start_time": "2022-01-08T10:08:32.186Z"
   },
   {
    "duration": 22,
    "start_time": "2022-01-08T10:08:32.229Z"
   },
   {
    "duration": 19,
    "start_time": "2022-01-08T10:08:32.253Z"
   },
   {
    "duration": 13,
    "start_time": "2022-01-08T10:08:32.274Z"
   },
   {
    "duration": 4288,
    "start_time": "2022-01-08T10:08:32.288Z"
   },
   {
    "duration": 2802,
    "start_time": "2022-01-08T10:08:36.578Z"
   },
   {
    "duration": 12,
    "start_time": "2022-01-08T10:08:39.381Z"
   },
   {
    "duration": 345,
    "start_time": "2022-01-08T10:08:39.394Z"
   },
   {
    "duration": -183,
    "start_time": "2022-01-08T10:08:39.924Z"
   },
   {
    "duration": -187,
    "start_time": "2022-01-08T10:08:39.928Z"
   },
   {
    "duration": 7574,
    "start_time": "2022-01-08T10:13:36.127Z"
   },
   {
    "duration": 8,
    "start_time": "2022-01-08T10:14:42.612Z"
   },
   {
    "duration": 7,
    "start_time": "2022-01-08T10:17:33.932Z"
   },
   {
    "duration": 3,
    "start_time": "2022-01-08T10:17:55.801Z"
   },
   {
    "duration": 9,
    "start_time": "2022-01-08T10:17:58.364Z"
   },
   {
    "duration": 15,
    "start_time": "2022-01-08T10:18:07.168Z"
   },
   {
    "duration": 2,
    "start_time": "2022-01-08T10:19:37.312Z"
   },
   {
    "duration": 8,
    "start_time": "2022-01-08T10:19:37.901Z"
   },
   {
    "duration": 14,
    "start_time": "2022-01-08T10:19:39.407Z"
   },
   {
    "duration": 3,
    "start_time": "2022-01-08T10:20:21.140Z"
   },
   {
    "duration": 10,
    "start_time": "2022-01-08T10:20:21.731Z"
   },
   {
    "duration": 15,
    "start_time": "2022-01-08T10:20:22.406Z"
   },
   {
    "duration": 4,
    "start_time": "2022-01-08T10:25:18.257Z"
   },
   {
    "duration": 13,
    "start_time": "2022-01-08T10:25:18.933Z"
   },
   {
    "duration": 21,
    "start_time": "2022-01-08T10:25:20.958Z"
   },
   {
    "duration": 11,
    "start_time": "2022-01-08T10:26:45.188Z"
   },
   {
    "duration": 18,
    "start_time": "2022-01-08T10:26:46.660Z"
   },
   {
    "duration": 570,
    "start_time": "2022-01-08T10:31:15.753Z"
   },
   {
    "duration": 46,
    "start_time": "2022-01-08T10:31:16.324Z"
   },
   {
    "duration": 15,
    "start_time": "2022-01-08T10:31:16.372Z"
   },
   {
    "duration": 23,
    "start_time": "2022-01-08T10:31:16.388Z"
   },
   {
    "duration": 7,
    "start_time": "2022-01-08T10:31:16.413Z"
   },
   {
    "duration": 3,
    "start_time": "2022-01-08T10:31:16.422Z"
   },
   {
    "duration": 9,
    "start_time": "2022-01-08T10:31:16.426Z"
   },
   {
    "duration": 8,
    "start_time": "2022-01-08T10:31:16.437Z"
   },
   {
    "duration": 7,
    "start_time": "2022-01-08T10:31:16.447Z"
   },
   {
    "duration": 11,
    "start_time": "2022-01-08T10:31:16.455Z"
   },
   {
    "duration": 9,
    "start_time": "2022-01-08T10:31:16.467Z"
   },
   {
    "duration": 6,
    "start_time": "2022-01-08T10:31:16.477Z"
   },
   {
    "duration": 11,
    "start_time": "2022-01-08T10:31:16.484Z"
   },
   {
    "duration": 11,
    "start_time": "2022-01-08T10:31:16.497Z"
   },
   {
    "duration": 15,
    "start_time": "2022-01-08T10:31:16.527Z"
   },
   {
    "duration": 15,
    "start_time": "2022-01-08T10:31:16.544Z"
   },
   {
    "duration": 18,
    "start_time": "2022-01-08T10:31:16.561Z"
   },
   {
    "duration": 13,
    "start_time": "2022-01-08T10:31:16.581Z"
   },
   {
    "duration": 4107,
    "start_time": "2022-01-08T10:31:16.595Z"
   },
   {
    "duration": 2781,
    "start_time": "2022-01-08T10:31:20.704Z"
   },
   {
    "duration": 12,
    "start_time": "2022-01-08T10:31:23.486Z"
   },
   {
    "duration": 11,
    "start_time": "2022-01-08T10:31:23.499Z"
   },
   {
    "duration": 26,
    "start_time": "2022-01-08T10:31:23.513Z"
   },
   {
    "duration": 16,
    "start_time": "2022-01-08T10:31:23.540Z"
   },
   {
    "duration": 11,
    "start_time": "2022-01-08T11:13:30.343Z"
   },
   {
    "duration": 8,
    "start_time": "2022-01-08T11:14:11.787Z"
   },
   {
    "duration": 4,
    "start_time": "2022-01-08T11:14:55.246Z"
   },
   {
    "duration": 625,
    "start_time": "2022-01-08T11:15:01.505Z"
   },
   {
    "duration": 47,
    "start_time": "2022-01-08T11:15:02.132Z"
   },
   {
    "duration": 16,
    "start_time": "2022-01-08T11:15:02.180Z"
   },
   {
    "duration": 15,
    "start_time": "2022-01-08T11:15:02.198Z"
   },
   {
    "duration": 14,
    "start_time": "2022-01-08T11:15:02.214Z"
   },
   {
    "duration": 17,
    "start_time": "2022-01-08T11:15:02.229Z"
   },
   {
    "duration": 8,
    "start_time": "2022-01-08T11:15:02.247Z"
   },
   {
    "duration": 13,
    "start_time": "2022-01-08T11:15:02.256Z"
   },
   {
    "duration": 4,
    "start_time": "2022-01-08T11:15:02.270Z"
   },
   {
    "duration": 11,
    "start_time": "2022-01-08T11:15:02.276Z"
   },
   {
    "duration": 10,
    "start_time": "2022-01-08T11:15:02.288Z"
   },
   {
    "duration": 6,
    "start_time": "2022-01-08T11:15:02.299Z"
   },
   {
    "duration": 11,
    "start_time": "2022-01-08T11:15:02.307Z"
   },
   {
    "duration": 6,
    "start_time": "2022-01-08T11:15:02.327Z"
   },
   {
    "duration": 26,
    "start_time": "2022-01-08T11:15:02.334Z"
   },
   {
    "duration": 14,
    "start_time": "2022-01-08T11:15:02.361Z"
   },
   {
    "duration": 19,
    "start_time": "2022-01-08T11:15:02.377Z"
   },
   {
    "duration": 9,
    "start_time": "2022-01-08T11:15:02.397Z"
   },
   {
    "duration": 3787,
    "start_time": "2022-01-08T11:15:02.407Z"
   },
   {
    "duration": 2604,
    "start_time": "2022-01-08T11:15:06.196Z"
   },
   {
    "duration": 11,
    "start_time": "2022-01-08T11:15:08.802Z"
   },
   {
    "duration": 19,
    "start_time": "2022-01-08T11:15:08.815Z"
   },
   {
    "duration": 10,
    "start_time": "2022-01-08T11:15:08.836Z"
   },
   {
    "duration": 13,
    "start_time": "2022-01-08T11:15:08.848Z"
   },
   {
    "duration": 10,
    "start_time": "2022-01-08T11:15:08.862Z"
   },
   {
    "duration": 4,
    "start_time": "2022-01-08T11:15:16.996Z"
   },
   {
    "duration": 4,
    "start_time": "2022-01-08T11:15:43.089Z"
   },
   {
    "duration": 8,
    "start_time": "2022-01-08T11:18:04.942Z"
   },
   {
    "duration": 6,
    "start_time": "2022-01-08T11:18:11.047Z"
   },
   {
    "duration": 26,
    "start_time": "2022-01-08T11:24:08.040Z"
   },
   {
    "duration": 13,
    "start_time": "2022-01-08T11:26:04.290Z"
   },
   {
    "duration": 324,
    "start_time": "2022-01-08T11:31:50.964Z"
   },
   {
    "duration": 8,
    "start_time": "2022-01-08T11:31:55.002Z"
   },
   {
    "duration": 12,
    "start_time": "2022-01-08T11:32:06.759Z"
   },
   {
    "duration": 11,
    "start_time": "2022-01-08T11:32:32.274Z"
   },
   {
    "duration": 96,
    "start_time": "2022-01-08T11:36:11.576Z"
   },
   {
    "duration": 5,
    "start_time": "2022-01-08T11:36:52.249Z"
   },
   {
    "duration": 561,
    "start_time": "2022-01-08T11:37:14.048Z"
   },
   {
    "duration": 46,
    "start_time": "2022-01-08T11:37:14.611Z"
   },
   {
    "duration": 16,
    "start_time": "2022-01-08T11:37:14.659Z"
   },
   {
    "duration": 11,
    "start_time": "2022-01-08T11:37:14.676Z"
   },
   {
    "duration": 3,
    "start_time": "2022-01-08T11:37:14.689Z"
   },
   {
    "duration": 9,
    "start_time": "2022-01-08T11:37:14.693Z"
   },
   {
    "duration": 3,
    "start_time": "2022-01-08T11:37:14.704Z"
   },
   {
    "duration": 18,
    "start_time": "2022-01-08T11:37:14.709Z"
   },
   {
    "duration": 10,
    "start_time": "2022-01-08T11:37:14.728Z"
   },
   {
    "duration": 4,
    "start_time": "2022-01-08T11:37:14.739Z"
   },
   {
    "duration": 11,
    "start_time": "2022-01-08T11:37:14.744Z"
   },
   {
    "duration": 9,
    "start_time": "2022-01-08T11:37:14.756Z"
   },
   {
    "duration": 6,
    "start_time": "2022-01-08T11:37:14.766Z"
   },
   {
    "duration": 10,
    "start_time": "2022-01-08T11:37:14.773Z"
   },
   {
    "duration": 7,
    "start_time": "2022-01-08T11:37:14.784Z"
   },
   {
    "duration": 43,
    "start_time": "2022-01-08T11:37:14.792Z"
   },
   {
    "duration": 17,
    "start_time": "2022-01-08T11:37:14.837Z"
   },
   {
    "duration": 15,
    "start_time": "2022-01-08T11:37:14.855Z"
   },
   {
    "duration": 10,
    "start_time": "2022-01-08T11:37:14.871Z"
   },
   {
    "duration": 4476,
    "start_time": "2022-01-08T11:37:14.883Z"
   },
   {
    "duration": 2833,
    "start_time": "2022-01-08T11:37:19.361Z"
   },
   {
    "duration": 12,
    "start_time": "2022-01-08T11:37:22.196Z"
   },
   {
    "duration": 24,
    "start_time": "2022-01-08T11:37:22.211Z"
   },
   {
    "duration": 8,
    "start_time": "2022-01-08T11:37:22.237Z"
   },
   {
    "duration": 10,
    "start_time": "2022-01-08T11:37:22.247Z"
   },
   {
    "duration": 13,
    "start_time": "2022-01-08T11:37:22.258Z"
   },
   {
    "duration": 18,
    "start_time": "2022-01-08T11:37:22.272Z"
   },
   {
    "duration": 13,
    "start_time": "2022-01-08T11:45:53.400Z"
   },
   {
    "duration": 13,
    "start_time": "2022-01-08T11:46:43.673Z"
   },
   {
    "duration": 14,
    "start_time": "2022-01-08T11:48:52.169Z"
   },
   {
    "duration": 1985,
    "start_time": "2022-01-08T12:02:51.521Z"
   },
   {
    "duration": -245,
    "start_time": "2022-01-08T12:05:38.205Z"
   },
   {
    "duration": -250,
    "start_time": "2022-01-08T12:05:38.211Z"
   },
   {
    "duration": 596,
    "start_time": "2022-01-08T12:06:18.139Z"
   },
   {
    "duration": 49,
    "start_time": "2022-01-08T12:06:18.737Z"
   },
   {
    "duration": 17,
    "start_time": "2022-01-08T12:06:18.789Z"
   },
   {
    "duration": 10,
    "start_time": "2022-01-08T12:06:18.808Z"
   },
   {
    "duration": 11,
    "start_time": "2022-01-08T12:06:18.819Z"
   },
   {
    "duration": 13,
    "start_time": "2022-01-08T12:06:18.832Z"
   },
   {
    "duration": 3,
    "start_time": "2022-01-08T12:06:18.846Z"
   },
   {
    "duration": 7,
    "start_time": "2022-01-08T12:06:18.851Z"
   },
   {
    "duration": 9,
    "start_time": "2022-01-08T12:06:18.860Z"
   },
   {
    "duration": 4,
    "start_time": "2022-01-08T12:06:18.871Z"
   },
   {
    "duration": 10,
    "start_time": "2022-01-08T12:06:18.877Z"
   },
   {
    "duration": 41,
    "start_time": "2022-01-08T12:06:18.889Z"
   },
   {
    "duration": 7,
    "start_time": "2022-01-08T12:06:18.932Z"
   },
   {
    "duration": 12,
    "start_time": "2022-01-08T12:06:18.941Z"
   },
   {
    "duration": 7,
    "start_time": "2022-01-08T12:06:18.955Z"
   },
   {
    "duration": 13,
    "start_time": "2022-01-08T12:06:18.964Z"
   },
   {
    "duration": 15,
    "start_time": "2022-01-08T12:06:18.979Z"
   },
   {
    "duration": 47,
    "start_time": "2022-01-08T12:06:18.995Z"
   },
   {
    "duration": 10,
    "start_time": "2022-01-08T12:06:19.043Z"
   },
   {
    "duration": 4085,
    "start_time": "2022-01-08T12:06:19.055Z"
   },
   {
    "duration": 2873,
    "start_time": "2022-01-08T12:06:23.142Z"
   },
   {
    "duration": 21,
    "start_time": "2022-01-08T12:06:26.016Z"
   },
   {
    "duration": 10,
    "start_time": "2022-01-08T12:06:26.041Z"
   },
   {
    "duration": 1745,
    "start_time": "2022-01-08T12:06:26.053Z"
   },
   {
    "duration": 9,
    "start_time": "2022-01-08T12:06:27.800Z"
   },
   {
    "duration": 17,
    "start_time": "2022-01-08T12:06:27.810Z"
   },
   {
    "duration": 8,
    "start_time": "2022-01-08T12:06:27.829Z"
   },
   {
    "duration": 16,
    "start_time": "2022-01-08T12:06:27.838Z"
   },
   {
    "duration": 22,
    "start_time": "2022-01-08T12:06:27.855Z"
   },
   {
    "duration": 11,
    "start_time": "2022-01-08T12:06:27.878Z"
   },
   {
    "duration": 11,
    "start_time": "2022-01-08T12:06:27.891Z"
   },
   {
    "duration": 11,
    "start_time": "2022-01-08T12:06:27.927Z"
   },
   {
    "duration": 9,
    "start_time": "2022-01-08T12:08:06.994Z"
   },
   {
    "duration": 7,
    "start_time": "2022-01-08T12:10:54.545Z"
   },
   {
    "duration": 7,
    "start_time": "2022-01-08T12:22:07.636Z"
   },
   {
    "duration": 7,
    "start_time": "2022-01-08T12:26:24.330Z"
   },
   {
    "duration": 7,
    "start_time": "2022-01-08T12:27:54.684Z"
   },
   {
    "duration": 689,
    "start_time": "2022-01-08T12:40:54.609Z"
   },
   {
    "duration": 49,
    "start_time": "2022-01-08T12:40:55.299Z"
   },
   {
    "duration": 17,
    "start_time": "2022-01-08T12:40:55.350Z"
   },
   {
    "duration": 12,
    "start_time": "2022-01-08T12:40:55.368Z"
   },
   {
    "duration": 4,
    "start_time": "2022-01-08T12:40:55.381Z"
   },
   {
    "duration": 9,
    "start_time": "2022-01-08T12:40:55.386Z"
   },
   {
    "duration": 6,
    "start_time": "2022-01-08T12:40:55.397Z"
   },
   {
    "duration": 5,
    "start_time": "2022-01-08T12:40:55.405Z"
   },
   {
    "duration": 8,
    "start_time": "2022-01-08T12:40:55.427Z"
   },
   {
    "duration": 7,
    "start_time": "2022-01-08T12:40:55.437Z"
   },
   {
    "duration": 14,
    "start_time": "2022-01-08T12:40:55.446Z"
   },
   {
    "duration": 9,
    "start_time": "2022-01-08T12:40:55.462Z"
   },
   {
    "duration": 7,
    "start_time": "2022-01-08T12:40:55.472Z"
   },
   {
    "duration": 11,
    "start_time": "2022-01-08T12:40:55.481Z"
   },
   {
    "duration": 12,
    "start_time": "2022-01-08T12:40:55.493Z"
   },
   {
    "duration": 30,
    "start_time": "2022-01-08T12:40:55.506Z"
   },
   {
    "duration": 15,
    "start_time": "2022-01-08T12:40:55.538Z"
   },
   {
    "duration": 12,
    "start_time": "2022-01-08T12:40:55.555Z"
   },
   {
    "duration": 10,
    "start_time": "2022-01-08T12:40:55.569Z"
   },
   {
    "duration": 3882,
    "start_time": "2022-01-08T12:40:55.581Z"
   },
   {
    "duration": 2866,
    "start_time": "2022-01-08T12:40:59.464Z"
   },
   {
    "duration": 12,
    "start_time": "2022-01-08T12:41:02.331Z"
   },
   {
    "duration": 10,
    "start_time": "2022-01-08T12:41:02.346Z"
   },
   {
    "duration": 8,
    "start_time": "2022-01-08T12:41:02.358Z"
   },
   {
    "duration": 10,
    "start_time": "2022-01-08T12:41:02.368Z"
   },
   {
    "duration": 8,
    "start_time": "2022-01-08T12:41:02.380Z"
   },
   {
    "duration": 6,
    "start_time": "2022-01-08T12:41:02.389Z"
   },
   {
    "duration": 43,
    "start_time": "2022-01-08T12:41:02.397Z"
   },
   {
    "duration": 5,
    "start_time": "2022-01-08T12:41:02.441Z"
   },
   {
    "duration": 13,
    "start_time": "2022-01-08T12:41:02.447Z"
   },
   {
    "duration": 6,
    "start_time": "2022-01-08T12:41:02.461Z"
   },
   {
    "duration": 10,
    "start_time": "2022-01-08T12:41:02.468Z"
   },
   {
    "duration": 6,
    "start_time": "2022-01-08T12:41:02.479Z"
   },
   {
    "duration": 43,
    "start_time": "2022-01-08T12:41:02.486Z"
   },
   {
    "duration": 6,
    "start_time": "2022-01-08T12:41:02.530Z"
   },
   {
    "duration": 598,
    "start_time": "2022-01-08T12:50:21.808Z"
   },
   {
    "duration": 49,
    "start_time": "2022-01-08T12:50:22.407Z"
   },
   {
    "duration": 17,
    "start_time": "2022-01-08T12:50:22.457Z"
   },
   {
    "duration": 11,
    "start_time": "2022-01-08T12:50:22.475Z"
   },
   {
    "duration": 4,
    "start_time": "2022-01-08T12:50:22.487Z"
   },
   {
    "duration": 10,
    "start_time": "2022-01-08T12:50:22.492Z"
   },
   {
    "duration": 23,
    "start_time": "2022-01-08T12:50:22.504Z"
   },
   {
    "duration": 5,
    "start_time": "2022-01-08T12:50:22.529Z"
   },
   {
    "duration": 11,
    "start_time": "2022-01-08T12:50:22.535Z"
   },
   {
    "duration": 7,
    "start_time": "2022-01-08T12:50:22.547Z"
   },
   {
    "duration": 16,
    "start_time": "2022-01-08T12:50:22.556Z"
   },
   {
    "duration": 9,
    "start_time": "2022-01-08T12:50:22.573Z"
   },
   {
    "duration": 6,
    "start_time": "2022-01-08T12:50:22.583Z"
   },
   {
    "duration": 15,
    "start_time": "2022-01-08T12:50:22.590Z"
   },
   {
    "duration": 27,
    "start_time": "2022-01-08T12:50:22.606Z"
   },
   {
    "duration": 24,
    "start_time": "2022-01-08T12:50:22.635Z"
   },
   {
    "duration": 15,
    "start_time": "2022-01-08T12:50:22.660Z"
   },
   {
    "duration": 13,
    "start_time": "2022-01-08T12:50:22.676Z"
   },
   {
    "duration": 9,
    "start_time": "2022-01-08T12:50:22.690Z"
   },
   {
    "duration": 3979,
    "start_time": "2022-01-08T12:50:22.700Z"
   },
   {
    "duration": 2803,
    "start_time": "2022-01-08T12:50:26.681Z"
   },
   {
    "duration": 11,
    "start_time": "2022-01-08T12:50:29.486Z"
   },
   {
    "duration": 11,
    "start_time": "2022-01-08T12:50:29.500Z"
   },
   {
    "duration": 21,
    "start_time": "2022-01-08T12:50:29.512Z"
   },
   {
    "duration": 9,
    "start_time": "2022-01-08T12:50:29.534Z"
   },
   {
    "duration": 9,
    "start_time": "2022-01-08T12:50:29.545Z"
   },
   {
    "duration": 7,
    "start_time": "2022-01-08T12:50:29.555Z"
   },
   {
    "duration": 20,
    "start_time": "2022-01-08T12:50:29.564Z"
   },
   {
    "duration": 5,
    "start_time": "2022-01-08T12:50:29.585Z"
   },
   {
    "duration": 11,
    "start_time": "2022-01-08T12:50:29.592Z"
   },
   {
    "duration": 6,
    "start_time": "2022-01-08T12:50:29.627Z"
   },
   {
    "duration": 10,
    "start_time": "2022-01-08T12:50:29.635Z"
   },
   {
    "duration": 6,
    "start_time": "2022-01-08T12:50:29.647Z"
   },
   {
    "duration": 11,
    "start_time": "2022-01-08T12:50:29.655Z"
   },
   {
    "duration": 7,
    "start_time": "2022-01-08T12:50:29.667Z"
   },
   {
    "duration": 615,
    "start_time": "2022-01-09T17:13:09.256Z"
   },
   {
    "duration": 50,
    "start_time": "2022-01-09T17:13:09.872Z"
   },
   {
    "duration": 18,
    "start_time": "2022-01-09T17:13:09.923Z"
   },
   {
    "duration": 17,
    "start_time": "2022-01-09T17:13:09.943Z"
   },
   {
    "duration": 5,
    "start_time": "2022-01-09T17:13:09.962Z"
   },
   {
    "duration": 13,
    "start_time": "2022-01-09T17:13:09.968Z"
   },
   {
    "duration": 3,
    "start_time": "2022-01-09T17:13:09.982Z"
   },
   {
    "duration": 9,
    "start_time": "2022-01-09T17:13:09.988Z"
   },
   {
    "duration": 16,
    "start_time": "2022-01-09T17:13:09.999Z"
   },
   {
    "duration": 12,
    "start_time": "2022-01-09T17:13:10.017Z"
   },
   {
    "duration": 30,
    "start_time": "2022-01-09T17:13:10.031Z"
   },
   {
    "duration": 17,
    "start_time": "2022-01-09T17:13:10.064Z"
   },
   {
    "duration": 10,
    "start_time": "2022-01-09T17:13:10.083Z"
   },
   {
    "duration": 19,
    "start_time": "2022-01-09T17:13:10.095Z"
   },
   {
    "duration": 10,
    "start_time": "2022-01-09T17:13:10.116Z"
   },
   {
    "duration": 53,
    "start_time": "2022-01-09T17:13:10.128Z"
   },
   {
    "duration": 26,
    "start_time": "2022-01-09T17:13:10.183Z"
   },
   {
    "duration": 23,
    "start_time": "2022-01-09T17:13:10.211Z"
   },
   {
    "duration": 38,
    "start_time": "2022-01-09T17:13:10.236Z"
   },
   {
    "duration": 5495,
    "start_time": "2022-01-09T17:13:10.276Z"
   },
   {
    "duration": 3570,
    "start_time": "2022-01-09T17:13:15.773Z"
   },
   {
    "duration": 34,
    "start_time": "2022-01-09T17:13:19.345Z"
   },
   {
    "duration": 12,
    "start_time": "2022-01-09T17:13:19.382Z"
   },
   {
    "duration": 16,
    "start_time": "2022-01-09T17:13:19.397Z"
   },
   {
    "duration": 15,
    "start_time": "2022-01-09T17:13:19.415Z"
   },
   {
    "duration": 30,
    "start_time": "2022-01-09T17:13:19.432Z"
   },
   {
    "duration": 8,
    "start_time": "2022-01-09T17:13:19.464Z"
   },
   {
    "duration": 24,
    "start_time": "2022-01-09T17:13:19.474Z"
   },
   {
    "duration": 7,
    "start_time": "2022-01-09T17:13:19.500Z"
   },
   {
    "duration": 17,
    "start_time": "2022-01-09T17:13:19.509Z"
   },
   {
    "duration": 8,
    "start_time": "2022-01-09T17:13:19.561Z"
   },
   {
    "duration": 14,
    "start_time": "2022-01-09T17:13:19.571Z"
   },
   {
    "duration": 7,
    "start_time": "2022-01-09T17:13:19.587Z"
   },
   {
    "duration": 14,
    "start_time": "2022-01-09T17:13:19.595Z"
   },
   {
    "duration": 8,
    "start_time": "2022-01-09T17:13:19.611Z"
   },
   {
    "duration": 707,
    "start_time": "2022-01-11T18:39:40.560Z"
   },
   {
    "duration": 54,
    "start_time": "2022-01-11T18:39:41.269Z"
   },
   {
    "duration": 20,
    "start_time": "2022-01-11T18:39:41.325Z"
   },
   {
    "duration": 16,
    "start_time": "2022-01-11T18:39:41.347Z"
   },
   {
    "duration": 9,
    "start_time": "2022-01-11T18:39:41.367Z"
   },
   {
    "duration": 14,
    "start_time": "2022-01-11T18:39:41.378Z"
   },
   {
    "duration": 3,
    "start_time": "2022-01-11T18:39:41.393Z"
   },
   {
    "duration": 9,
    "start_time": "2022-01-11T18:39:41.399Z"
   },
   {
    "duration": 10,
    "start_time": "2022-01-11T18:39:41.411Z"
   },
   {
    "duration": 8,
    "start_time": "2022-01-11T18:39:41.423Z"
   },
   {
    "duration": 44,
    "start_time": "2022-01-11T18:39:41.433Z"
   },
   {
    "duration": 10,
    "start_time": "2022-01-11T18:39:41.479Z"
   },
   {
    "duration": 7,
    "start_time": "2022-01-11T18:39:41.492Z"
   },
   {
    "duration": 14,
    "start_time": "2022-01-11T18:39:41.501Z"
   },
   {
    "duration": 12,
    "start_time": "2022-01-11T18:39:41.517Z"
   },
   {
    "duration": 21,
    "start_time": "2022-01-11T18:39:41.530Z"
   },
   {
    "duration": 23,
    "start_time": "2022-01-11T18:39:41.563Z"
   },
   {
    "duration": 16,
    "start_time": "2022-01-11T18:39:41.588Z"
   },
   {
    "duration": 12,
    "start_time": "2022-01-11T18:39:41.606Z"
   },
   {
    "duration": 4528,
    "start_time": "2022-01-11T18:39:41.620Z"
   },
   {
    "duration": 3045,
    "start_time": "2022-01-11T18:39:46.150Z"
   },
   {
    "duration": 17,
    "start_time": "2022-01-11T18:39:49.197Z"
   },
   {
    "duration": 13,
    "start_time": "2022-01-11T18:39:49.218Z"
   },
   {
    "duration": 38,
    "start_time": "2022-01-11T18:39:49.234Z"
   },
   {
    "duration": 18,
    "start_time": "2022-01-11T18:39:49.274Z"
   },
   {
    "duration": 16,
    "start_time": "2022-01-11T18:39:49.294Z"
   },
   {
    "duration": 10,
    "start_time": "2022-01-11T18:39:49.311Z"
   },
   {
    "duration": 23,
    "start_time": "2022-01-11T18:39:49.322Z"
   },
   {
    "duration": 14,
    "start_time": "2022-01-11T18:39:49.347Z"
   },
   {
    "duration": 16,
    "start_time": "2022-01-11T18:39:49.366Z"
   },
   {
    "duration": 12,
    "start_time": "2022-01-11T18:39:49.384Z"
   },
   {
    "duration": 7,
    "start_time": "2022-01-11T18:39:49.398Z"
   },
   {
    "duration": 13,
    "start_time": "2022-01-11T18:39:49.407Z"
   },
   {
    "duration": 7,
    "start_time": "2022-01-11T18:39:49.422Z"
   },
   {
    "duration": 20,
    "start_time": "2022-01-11T18:39:49.461Z"
   },
   {
    "duration": 7,
    "start_time": "2022-01-11T18:39:49.484Z"
   }
  ],
  "kernelspec": {
   "display_name": "Python 3 (ipykernel)",
   "language": "python",
   "name": "python3"
  },
  "language_info": {
   "codemirror_mode": {
    "name": "ipython",
    "version": 3
   },
   "file_extension": ".py",
   "mimetype": "text/x-python",
   "name": "python",
   "nbconvert_exporter": "python",
   "pygments_lexer": "ipython3",
   "version": "3.9.7"
  },
  "toc": {
   "base_numbering": 1,
   "nav_menu": {},
   "number_sections": true,
   "sideBar": true,
   "skip_h1_title": true,
   "title_cell": "Table of Contents",
   "title_sidebar": "Contents",
   "toc_cell": false,
   "toc_position": {},
   "toc_section_display": true,
   "toc_window_display": false
  }
 },
 "nbformat": 4,
 "nbformat_minor": 2
}
