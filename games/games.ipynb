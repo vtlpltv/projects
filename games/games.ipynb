{
 "cells": [
  {
   "cell_type": "markdown",
   "metadata": {},
   "source": [
    "# Изучение закономерностей, определяющих успешность игр\n",
    "Мы работаем в интернет-магазине «Стримчик», который продаёт по всему миру компьютерные игры. Из открытых источников доступны исторические данные о продажах игр, оценки пользователей и экспертов, жанры и платформы. Нам необходимо выявить определяющие успешность игры закономерности.\n",
    "\n",
    "Цели исследования: выявить определяющие успешность игр закономерности, определить портрет пользователя для каждого из регионов, проверить рабочие гипотезы. \n",
    "\n",
    "Данные записаны в файл games.csv. Данные включают в себя информацию за период с 1983 по 2016 годы. Данные за 2016 год могут быть неполными.\n",
    "\n",
    "Описание данных games.csv:\n",
    "\n",
    "- Name — название игры\n",
    "- Platform — платформа\n",
    "- Year_of_Release — год выпуска\n",
    "- Genre — жанр игры\n",
    "- NA_sales — продажи в Северной Америке (миллионы долларов)\n",
    "- EU_sales — продажи в Европе (миллионы долларов)\n",
    "- JP_sales — продажи в Японии (миллионы долларов)\n",
    "- Other_sales — продажи в других странах (миллионы долларов)\n",
    "- Critic_Score — оценка критиков (от 0 до 100)\n",
    "- User_Score — оценка пользователей (от 0 до 10)\n",
    "- Rating — рейтинг от организации ESRB (англ. Entertainment Software Rating Board). Эта ассоциация определяет рейтинг компьютерных игр и присваивает им подходящую возрастную категорию."
   ]
  },
  {
   "cell_type": "markdown",
   "metadata": {},
   "source": [
    "## Изучение данных из файла"
   ]
  },
  {
   "cell_type": "code",
   "execution_count": 1,
   "metadata": {},
   "outputs": [],
   "source": [
    "import pandas as pd\n",
    "import matplotlib.pyplot as plt\n",
    "import seaborn as sns\n",
    "import numpy as np\n",
    "from scipy import stats as st\n",
    "sns.set_style(\"darkgrid\")"
   ]
  },
  {
   "cell_type": "code",
   "execution_count": 2,
   "metadata": {},
   "outputs": [],
   "source": [
    "df = pd.read_csv('/datasets/games.csv')"
   ]
  },
  {
   "cell_type": "code",
   "execution_count": 3,
   "metadata": {},
   "outputs": [
    {
     "name": "stdout",
     "output_type": "stream",
     "text": [
      "<class 'pandas.core.frame.DataFrame'>\n",
      "RangeIndex: 16715 entries, 0 to 16714\n",
      "Data columns (total 11 columns):\n",
      " #   Column           Non-Null Count  Dtype  \n",
      "---  ------           --------------  -----  \n",
      " 0   Name             16713 non-null  object \n",
      " 1   Platform         16715 non-null  object \n",
      " 2   Year_of_Release  16446 non-null  float64\n",
      " 3   Genre            16713 non-null  object \n",
      " 4   NA_sales         16715 non-null  float64\n",
      " 5   EU_sales         16715 non-null  float64\n",
      " 6   JP_sales         16715 non-null  float64\n",
      " 7   Other_sales      16715 non-null  float64\n",
      " 8   Critic_Score     8137 non-null   float64\n",
      " 9   User_Score       10014 non-null  object \n",
      " 10  Rating           9949 non-null   object \n",
      "dtypes: float64(6), object(5)\n",
      "memory usage: 1.4+ MB\n"
     ]
    }
   ],
   "source": [
    "df.info()"
   ]
  },
  {
   "cell_type": "code",
   "execution_count": 4,
   "metadata": {
    "scrolled": true
   },
   "outputs": [
    {
     "data": {
      "text/html": [
       "<div>\n",
       "<style scoped>\n",
       "    .dataframe tbody tr th:only-of-type {\n",
       "        vertical-align: middle;\n",
       "    }\n",
       "\n",
       "    .dataframe tbody tr th {\n",
       "        vertical-align: top;\n",
       "    }\n",
       "\n",
       "    .dataframe thead th {\n",
       "        text-align: right;\n",
       "    }\n",
       "</style>\n",
       "<table border=\"1\" class=\"dataframe\">\n",
       "  <thead>\n",
       "    <tr style=\"text-align: right;\">\n",
       "      <th></th>\n",
       "      <th>Year_of_Release</th>\n",
       "      <th>NA_sales</th>\n",
       "      <th>EU_sales</th>\n",
       "      <th>JP_sales</th>\n",
       "      <th>Other_sales</th>\n",
       "      <th>Critic_Score</th>\n",
       "    </tr>\n",
       "  </thead>\n",
       "  <tbody>\n",
       "    <tr>\n",
       "      <th>count</th>\n",
       "      <td>16446.000000</td>\n",
       "      <td>16715.000000</td>\n",
       "      <td>16715.000000</td>\n",
       "      <td>16715.000000</td>\n",
       "      <td>16715.000000</td>\n",
       "      <td>8137.000000</td>\n",
       "    </tr>\n",
       "    <tr>\n",
       "      <th>mean</th>\n",
       "      <td>2006.484616</td>\n",
       "      <td>0.263377</td>\n",
       "      <td>0.145060</td>\n",
       "      <td>0.077617</td>\n",
       "      <td>0.047342</td>\n",
       "      <td>68.967679</td>\n",
       "    </tr>\n",
       "    <tr>\n",
       "      <th>std</th>\n",
       "      <td>5.877050</td>\n",
       "      <td>0.813604</td>\n",
       "      <td>0.503339</td>\n",
       "      <td>0.308853</td>\n",
       "      <td>0.186731</td>\n",
       "      <td>13.938165</td>\n",
       "    </tr>\n",
       "    <tr>\n",
       "      <th>min</th>\n",
       "      <td>1980.000000</td>\n",
       "      <td>0.000000</td>\n",
       "      <td>0.000000</td>\n",
       "      <td>0.000000</td>\n",
       "      <td>0.000000</td>\n",
       "      <td>13.000000</td>\n",
       "    </tr>\n",
       "    <tr>\n",
       "      <th>25%</th>\n",
       "      <td>2003.000000</td>\n",
       "      <td>0.000000</td>\n",
       "      <td>0.000000</td>\n",
       "      <td>0.000000</td>\n",
       "      <td>0.000000</td>\n",
       "      <td>60.000000</td>\n",
       "    </tr>\n",
       "    <tr>\n",
       "      <th>50%</th>\n",
       "      <td>2007.000000</td>\n",
       "      <td>0.080000</td>\n",
       "      <td>0.020000</td>\n",
       "      <td>0.000000</td>\n",
       "      <td>0.010000</td>\n",
       "      <td>71.000000</td>\n",
       "    </tr>\n",
       "    <tr>\n",
       "      <th>75%</th>\n",
       "      <td>2010.000000</td>\n",
       "      <td>0.240000</td>\n",
       "      <td>0.110000</td>\n",
       "      <td>0.040000</td>\n",
       "      <td>0.030000</td>\n",
       "      <td>79.000000</td>\n",
       "    </tr>\n",
       "    <tr>\n",
       "      <th>max</th>\n",
       "      <td>2016.000000</td>\n",
       "      <td>41.360000</td>\n",
       "      <td>28.960000</td>\n",
       "      <td>10.220000</td>\n",
       "      <td>10.570000</td>\n",
       "      <td>98.000000</td>\n",
       "    </tr>\n",
       "  </tbody>\n",
       "</table>\n",
       "</div>"
      ],
      "text/plain": [
       "       Year_of_Release      NA_sales      EU_sales      JP_sales  \\\n",
       "count     16446.000000  16715.000000  16715.000000  16715.000000   \n",
       "mean       2006.484616      0.263377      0.145060      0.077617   \n",
       "std           5.877050      0.813604      0.503339      0.308853   \n",
       "min        1980.000000      0.000000      0.000000      0.000000   \n",
       "25%        2003.000000      0.000000      0.000000      0.000000   \n",
       "50%        2007.000000      0.080000      0.020000      0.000000   \n",
       "75%        2010.000000      0.240000      0.110000      0.040000   \n",
       "max        2016.000000     41.360000     28.960000     10.220000   \n",
       "\n",
       "        Other_sales  Critic_Score  \n",
       "count  16715.000000   8137.000000  \n",
       "mean       0.047342     68.967679  \n",
       "std        0.186731     13.938165  \n",
       "min        0.000000     13.000000  \n",
       "25%        0.000000     60.000000  \n",
       "50%        0.010000     71.000000  \n",
       "75%        0.030000     79.000000  \n",
       "max       10.570000     98.000000  "
      ]
     },
     "execution_count": 4,
     "metadata": {},
     "output_type": "execute_result"
    }
   ],
   "source": [
    "df.describe()"
   ]
  },
  {
   "cell_type": "code",
   "execution_count": 5,
   "metadata": {
    "scrolled": true
   },
   "outputs": [
    {
     "data": {
      "text/html": [
       "<div>\n",
       "<style scoped>\n",
       "    .dataframe tbody tr th:only-of-type {\n",
       "        vertical-align: middle;\n",
       "    }\n",
       "\n",
       "    .dataframe tbody tr th {\n",
       "        vertical-align: top;\n",
       "    }\n",
       "\n",
       "    .dataframe thead th {\n",
       "        text-align: right;\n",
       "    }\n",
       "</style>\n",
       "<table border=\"1\" class=\"dataframe\">\n",
       "  <thead>\n",
       "    <tr style=\"text-align: right;\">\n",
       "      <th></th>\n",
       "      <th>Name</th>\n",
       "      <th>Platform</th>\n",
       "      <th>Year_of_Release</th>\n",
       "      <th>Genre</th>\n",
       "      <th>NA_sales</th>\n",
       "      <th>EU_sales</th>\n",
       "      <th>JP_sales</th>\n",
       "      <th>Other_sales</th>\n",
       "      <th>Critic_Score</th>\n",
       "      <th>User_Score</th>\n",
       "      <th>Rating</th>\n",
       "    </tr>\n",
       "  </thead>\n",
       "  <tbody>\n",
       "    <tr>\n",
       "      <th>0</th>\n",
       "      <td>Wii Sports</td>\n",
       "      <td>Wii</td>\n",
       "      <td>2006.0</td>\n",
       "      <td>Sports</td>\n",
       "      <td>41.36</td>\n",
       "      <td>28.96</td>\n",
       "      <td>3.77</td>\n",
       "      <td>8.45</td>\n",
       "      <td>76.0</td>\n",
       "      <td>8</td>\n",
       "      <td>E</td>\n",
       "    </tr>\n",
       "    <tr>\n",
       "      <th>1</th>\n",
       "      <td>Super Mario Bros.</td>\n",
       "      <td>NES</td>\n",
       "      <td>1985.0</td>\n",
       "      <td>Platform</td>\n",
       "      <td>29.08</td>\n",
       "      <td>3.58</td>\n",
       "      <td>6.81</td>\n",
       "      <td>0.77</td>\n",
       "      <td>NaN</td>\n",
       "      <td>NaN</td>\n",
       "      <td>NaN</td>\n",
       "    </tr>\n",
       "    <tr>\n",
       "      <th>2</th>\n",
       "      <td>Mario Kart Wii</td>\n",
       "      <td>Wii</td>\n",
       "      <td>2008.0</td>\n",
       "      <td>Racing</td>\n",
       "      <td>15.68</td>\n",
       "      <td>12.76</td>\n",
       "      <td>3.79</td>\n",
       "      <td>3.29</td>\n",
       "      <td>82.0</td>\n",
       "      <td>8.3</td>\n",
       "      <td>E</td>\n",
       "    </tr>\n",
       "    <tr>\n",
       "      <th>3</th>\n",
       "      <td>Wii Sports Resort</td>\n",
       "      <td>Wii</td>\n",
       "      <td>2009.0</td>\n",
       "      <td>Sports</td>\n",
       "      <td>15.61</td>\n",
       "      <td>10.93</td>\n",
       "      <td>3.28</td>\n",
       "      <td>2.95</td>\n",
       "      <td>80.0</td>\n",
       "      <td>8</td>\n",
       "      <td>E</td>\n",
       "    </tr>\n",
       "    <tr>\n",
       "      <th>4</th>\n",
       "      <td>Pokemon Red/Pokemon Blue</td>\n",
       "      <td>GB</td>\n",
       "      <td>1996.0</td>\n",
       "      <td>Role-Playing</td>\n",
       "      <td>11.27</td>\n",
       "      <td>8.89</td>\n",
       "      <td>10.22</td>\n",
       "      <td>1.00</td>\n",
       "      <td>NaN</td>\n",
       "      <td>NaN</td>\n",
       "      <td>NaN</td>\n",
       "    </tr>\n",
       "  </tbody>\n",
       "</table>\n",
       "</div>"
      ],
      "text/plain": [
       "                       Name Platform  Year_of_Release         Genre  NA_sales  \\\n",
       "0                Wii Sports      Wii           2006.0        Sports     41.36   \n",
       "1         Super Mario Bros.      NES           1985.0      Platform     29.08   \n",
       "2            Mario Kart Wii      Wii           2008.0        Racing     15.68   \n",
       "3         Wii Sports Resort      Wii           2009.0        Sports     15.61   \n",
       "4  Pokemon Red/Pokemon Blue       GB           1996.0  Role-Playing     11.27   \n",
       "\n",
       "   EU_sales  JP_sales  Other_sales  Critic_Score User_Score Rating  \n",
       "0     28.96      3.77         8.45          76.0          8      E  \n",
       "1      3.58      6.81         0.77           NaN        NaN    NaN  \n",
       "2     12.76      3.79         3.29          82.0        8.3      E  \n",
       "3     10.93      3.28         2.95          80.0          8      E  \n",
       "4      8.89     10.22         1.00           NaN        NaN    NaN  "
      ]
     },
     "execution_count": 5,
     "metadata": {},
     "output_type": "execute_result"
    }
   ],
   "source": [
    "df.head()"
   ]
  },
  {
   "cell_type": "markdown",
   "metadata": {},
   "source": [
    "### Вывод"
   ]
  },
  {
   "cell_type": "markdown",
   "metadata": {},
   "source": [
    "В нашем распоряжении таблица с 11 столбцами. Тип данных: float64, object.\n",
    "\n",
    "Столбец `Year_of_Release` содержит целочисленные значения, однако они записаны в виде float. Столбцы с оценками критиков и пользователей, а также рейтингом игр содержит пропуски."
   ]
  },
  {
   "cell_type": "markdown",
   "metadata": {},
   "source": [
    "## Предобработка данных"
   ]
  },
  {
   "cell_type": "code",
   "execution_count": 6,
   "metadata": {
    "scrolled": true
   },
   "outputs": [
    {
     "data": {
      "text/plain": [
       "Index(['Name', 'Platform', 'Year_of_Release', 'Genre', 'NA_sales', 'EU_sales',\n",
       "       'JP_sales', 'Other_sales', 'Critic_Score', 'User_Score', 'Rating'],\n",
       "      dtype='object')"
      ]
     },
     "execution_count": 6,
     "metadata": {},
     "output_type": "execute_result"
    }
   ],
   "source": [
    "df.columns"
   ]
  },
  {
   "cell_type": "code",
   "execution_count": 7,
   "metadata": {},
   "outputs": [],
   "source": [
    "df.columns = df.columns.str.lower()"
   ]
  },
  {
   "cell_type": "code",
   "execution_count": 8,
   "metadata": {
    "scrolled": false
   },
   "outputs": [
    {
     "data": {
      "text/plain": [
       "name                  2\n",
       "platform              0\n",
       "year_of_release     269\n",
       "genre                 2\n",
       "na_sales              0\n",
       "eu_sales              0\n",
       "jp_sales              0\n",
       "other_sales           0\n",
       "critic_score       8578\n",
       "user_score         6701\n",
       "rating             6766\n",
       "dtype: int64"
      ]
     },
     "execution_count": 8,
     "metadata": {},
     "output_type": "execute_result"
    }
   ],
   "source": [
    "#посчитаем пропуски\n",
    "df.isna().sum()"
   ]
  },
  {
   "cell_type": "markdown",
   "metadata": {},
   "source": [
    "Пропущенные значения в столбцах `name` и `genre` можно убрать, так как нам важно знать эти значения"
   ]
  },
  {
   "cell_type": "markdown",
   "metadata": {},
   "source": [
    "Пропущенные значения в столбце `year_of_release` можно было бы заполнить данными о годе выпуска данной игры на другой платформе, однако производители игр могут выпускать свои продукты в разное время на разных платформах. Следовательно, уберем эти значения."
   ]
  },
  {
   "cell_type": "code",
   "execution_count": 9,
   "metadata": {},
   "outputs": [],
   "source": [
    "df = df.dropna(subset=['name', 'genre', 'year_of_release']).reset_index(drop=True)"
   ]
  },
  {
   "cell_type": "code",
   "execution_count": 10,
   "metadata": {},
   "outputs": [],
   "source": [
    "#изменим тип данных в столбце с годом выпуска игры\n",
    "df['year_of_release'] = pd.to_datetime(df['year_of_release'], format='%Y').dt.year"
   ]
  },
  {
   "cell_type": "code",
   "execution_count": 11,
   "metadata": {},
   "outputs": [
    {
     "data": {
      "text/plain": [
       "0"
      ]
     },
     "execution_count": 11,
     "metadata": {},
     "output_type": "execute_result"
    }
   ],
   "source": [
    "#подсчёт количества дубликатов\n",
    "df.duplicated().sum()"
   ]
  },
  {
   "cell_type": "code",
   "execution_count": 12,
   "metadata": {
    "scrolled": false
   },
   "outputs": [
    {
     "data": {
      "text/plain": [
       "name                  0\n",
       "platform              0\n",
       "year_of_release       0\n",
       "genre                 0\n",
       "na_sales              0\n",
       "eu_sales              0\n",
       "jp_sales              0\n",
       "other_sales           0\n",
       "critic_score       8461\n",
       "user_score         6605\n",
       "rating             6676\n",
       "dtype: int64"
      ]
     },
     "execution_count": 12,
     "metadata": {},
     "output_type": "execute_result"
    }
   ],
   "source": [
    "#посчитаем пропуски\n",
    "df.isna().sum()"
   ]
  },
  {
   "cell_type": "code",
   "execution_count": 13,
   "metadata": {},
   "outputs": [
    {
     "data": {
      "text/plain": [
       "tbd    2376\n",
       "7.8     322\n",
       "8       285\n",
       "8.2     276\n",
       "8.3     252\n",
       "       ... \n",
       "0.6       2\n",
       "1.1       2\n",
       "9.6       2\n",
       "9.7       1\n",
       "0         1\n",
       "Name: user_score, Length: 96, dtype: int64"
      ]
     },
     "execution_count": 13,
     "metadata": {},
     "output_type": "execute_result"
    }
   ],
   "source": [
    "#взглянем на оценку пользователей\n",
    "df['user_score'].value_counts()"
   ]
  },
  {
   "cell_type": "markdown",
   "metadata": {},
   "source": [
    "Бросается в глаза значение `tbd`. TBD — сокращение от To Be Determined. Значит данных пока нет."
   ]
  },
  {
   "cell_type": "code",
   "execution_count": 14,
   "metadata": {},
   "outputs": [],
   "source": [
    "# производим замену 'tbd' на NaN, затем необходимо изменить тип данных в данном столбце\n",
    "df = df.replace('tbd', np.nan)\n",
    "df['user_score'] = df['user_score'].astype('float')"
   ]
  },
  {
   "cell_type": "markdown",
   "metadata": {},
   "source": [
    "Осталось довольно много пропусков значений в столбцах с оценками пользователей и критиков, а также с рейтингом. Заполнять эти пропуски средним нельзя, удалять тоже, так как, в первую очередь, нам интересно определить успешность игр, а это совокупность количества продаж и оценок."
   ]
  },
  {
   "cell_type": "code",
   "execution_count": 15,
   "metadata": {},
   "outputs": [],
   "source": [
    "#замена пропущенных значений в столбце 'rating' на строку 'unknown'\n",
    "df['rating'] = df['rating'].fillna('unknown')"
   ]
  },
  {
   "cell_type": "code",
   "execution_count": 16,
   "metadata": {
    "scrolled": true
   },
   "outputs": [
    {
     "data": {
      "text/html": [
       "<div>\n",
       "<style scoped>\n",
       "    .dataframe tbody tr th:only-of-type {\n",
       "        vertical-align: middle;\n",
       "    }\n",
       "\n",
       "    .dataframe tbody tr th {\n",
       "        vertical-align: top;\n",
       "    }\n",
       "\n",
       "    .dataframe thead th {\n",
       "        text-align: right;\n",
       "    }\n",
       "</style>\n",
       "<table border=\"1\" class=\"dataframe\">\n",
       "  <thead>\n",
       "    <tr style=\"text-align: right;\">\n",
       "      <th></th>\n",
       "      <th>name</th>\n",
       "      <th>platform</th>\n",
       "      <th>year_of_release</th>\n",
       "      <th>genre</th>\n",
       "      <th>na_sales</th>\n",
       "      <th>eu_sales</th>\n",
       "      <th>jp_sales</th>\n",
       "      <th>other_sales</th>\n",
       "      <th>critic_score</th>\n",
       "      <th>user_score</th>\n",
       "      <th>rating</th>\n",
       "      <th>all_sales</th>\n",
       "    </tr>\n",
       "  </thead>\n",
       "  <tbody>\n",
       "    <tr>\n",
       "      <th>0</th>\n",
       "      <td>Wii Sports</td>\n",
       "      <td>Wii</td>\n",
       "      <td>2006</td>\n",
       "      <td>Sports</td>\n",
       "      <td>41.36</td>\n",
       "      <td>28.96</td>\n",
       "      <td>3.77</td>\n",
       "      <td>8.45</td>\n",
       "      <td>76.0</td>\n",
       "      <td>8.0</td>\n",
       "      <td>E</td>\n",
       "      <td>82.54</td>\n",
       "    </tr>\n",
       "    <tr>\n",
       "      <th>1</th>\n",
       "      <td>Super Mario Bros.</td>\n",
       "      <td>NES</td>\n",
       "      <td>1985</td>\n",
       "      <td>Platform</td>\n",
       "      <td>29.08</td>\n",
       "      <td>3.58</td>\n",
       "      <td>6.81</td>\n",
       "      <td>0.77</td>\n",
       "      <td>NaN</td>\n",
       "      <td>NaN</td>\n",
       "      <td>unknown</td>\n",
       "      <td>40.24</td>\n",
       "    </tr>\n",
       "    <tr>\n",
       "      <th>2</th>\n",
       "      <td>Mario Kart Wii</td>\n",
       "      <td>Wii</td>\n",
       "      <td>2008</td>\n",
       "      <td>Racing</td>\n",
       "      <td>15.68</td>\n",
       "      <td>12.76</td>\n",
       "      <td>3.79</td>\n",
       "      <td>3.29</td>\n",
       "      <td>82.0</td>\n",
       "      <td>8.3</td>\n",
       "      <td>E</td>\n",
       "      <td>35.52</td>\n",
       "    </tr>\n",
       "    <tr>\n",
       "      <th>3</th>\n",
       "      <td>Wii Sports Resort</td>\n",
       "      <td>Wii</td>\n",
       "      <td>2009</td>\n",
       "      <td>Sports</td>\n",
       "      <td>15.61</td>\n",
       "      <td>10.93</td>\n",
       "      <td>3.28</td>\n",
       "      <td>2.95</td>\n",
       "      <td>80.0</td>\n",
       "      <td>8.0</td>\n",
       "      <td>E</td>\n",
       "      <td>32.77</td>\n",
       "    </tr>\n",
       "    <tr>\n",
       "      <th>4</th>\n",
       "      <td>Pokemon Red/Pokemon Blue</td>\n",
       "      <td>GB</td>\n",
       "      <td>1996</td>\n",
       "      <td>Role-Playing</td>\n",
       "      <td>11.27</td>\n",
       "      <td>8.89</td>\n",
       "      <td>10.22</td>\n",
       "      <td>1.00</td>\n",
       "      <td>NaN</td>\n",
       "      <td>NaN</td>\n",
       "      <td>unknown</td>\n",
       "      <td>31.38</td>\n",
       "    </tr>\n",
       "  </tbody>\n",
       "</table>\n",
       "</div>"
      ],
      "text/plain": [
       "                       name platform  year_of_release         genre  na_sales  \\\n",
       "0                Wii Sports      Wii             2006        Sports     41.36   \n",
       "1         Super Mario Bros.      NES             1985      Platform     29.08   \n",
       "2            Mario Kart Wii      Wii             2008        Racing     15.68   \n",
       "3         Wii Sports Resort      Wii             2009        Sports     15.61   \n",
       "4  Pokemon Red/Pokemon Blue       GB             1996  Role-Playing     11.27   \n",
       "\n",
       "   eu_sales  jp_sales  other_sales  critic_score  user_score   rating  \\\n",
       "0     28.96      3.77         8.45          76.0         8.0        E   \n",
       "1      3.58      6.81         0.77           NaN         NaN  unknown   \n",
       "2     12.76      3.79         3.29          82.0         8.3        E   \n",
       "3     10.93      3.28         2.95          80.0         8.0        E   \n",
       "4      8.89     10.22         1.00           NaN         NaN  unknown   \n",
       "\n",
       "   all_sales  \n",
       "0      82.54  \n",
       "1      40.24  \n",
       "2      35.52  \n",
       "3      32.77  \n",
       "4      31.38  "
      ]
     },
     "execution_count": 16,
     "metadata": {},
     "output_type": "execute_result"
    }
   ],
   "source": [
    "#посчитаем суммарные продажи для каждой игры\n",
    "df['total_sales'] = df[['na_sales','eu_sales','jp_sales', 'other_sales']].sum(axis = 1)\n",
    "df.head()"
   ]
  },
  {
   "cell_type": "markdown",
   "metadata": {},
   "source": [
    "### Вывод"
   ]
  },
  {
   "cell_type": "markdown",
   "metadata": {},
   "source": [
    "При подготовке данных к анализу заменили названия столбцов, установили правильный тип данных во всех столбцах, заполнили пропуски, заменили значение tbd на NaN в столбце оценка пользователей,  посчитали суммарные продажи каждой игры во всех регионах."
   ]
  },
  {
   "cell_type": "markdown",
   "metadata": {},
   "source": [
    "## Исследовательский анализ данных"
   ]
  },
  {
   "cell_type": "code",
   "execution_count": 17,
   "metadata": {},
   "outputs": [
    {
     "data": {
      "image/png": "[encoded data removed]",
      "text/plain": [
       "<Figure size 1296x432 with 1 Axes>"
      ]
     },
     "metadata": {},
     "output_type": "display_data"
    }
   ],
   "source": [
    "#посмотрим, сколько ежегодно выпускалось игр\n",
    "df.pivot_table(index='year_of_release', values = 'name', aggfunc = 'count').plot(kind='bar', figsize=(18, 6))\n",
    "plt.title('Распределение количества выпущенных игр по годам релиза')\n",
    "plt.ylabel('Игр выпущено')\n",
    "plt.xlabel('Год релиза')\n",
    "plt.show()"
   ]
  },
  {
   "cell_type": "markdown",
   "metadata": {},
   "source": [
    "Как видим, рост в 2007-2011 годах сменился снижением количества выпущенных игр начиная с 2012 года. Для нашего исследования актуальным периодом можно назвать 2012-2016 годы - продажи в этот период примерно на одном уровне."
   ]
  },
  {
   "cell_type": "code",
   "execution_count": 18,
   "metadata": {
    "scrolled": true
   },
   "outputs": [
    {
     "data": {
      "image/png": "[encoded data removed]",
      "text/plain": [
       "<Figure size 1296x360 with 1 Axes>"
      ]
     },
     "metadata": {},
     "output_type": "display_data"
    }
   ],
   "source": [
    "#посмотрим самые популярные платформы\n",
    "df.pivot_table(index='platform', values = 'all_sales', aggfunc = 'sum').sort_values('all_sales', ascending=False).plot(kind='bar', figsize=(18, 5))\n",
    "plt.title('Суммарные продажи по игровым платформам')\n",
    "plt.ylabel('Продажи в млн. копий')\n",
    "plt.xlabel('Игровая платформа')\n",
    "plt.show()"
   ]
  },
  {
   "cell_type": "markdown",
   "metadata": {},
   "source": [
    "Самые популярные платформы: DS, PS, PS2, PS3, Wii, X360"
   ]
  },
  {
   "cell_type": "markdown",
   "metadata": {},
   "source": [
    "<div class=\"alert-success\">\n",
    "<b>Комментарий ревьюера ✔️</b>\n",
    "\n",
    "В целом - да, если смотреть весь период.</div>"
   ]
  },
  {
   "cell_type": "code",
   "execution_count": 19,
   "metadata": {},
   "outputs": [
    {
     "data": {
      "image/png": "[encoded data removed]",
      "text/plain": [
       "<Figure size 1296x360 with 1 Axes>"
      ]
     },
     "metadata": {},
     "output_type": "display_data"
    },
    {
     "data": {
      "image/png": "[encoded data removed]",
      "text/plain": [
       "<Figure size 1296x360 with 1 Axes>"
      ]
     },
     "metadata": {},
     "output_type": "display_data"
    },
    {
     "data": {
      "image/png": "[encoded data removed]",
      "text/plain": [
       "<Figure size 1296x360 with 1 Axes>"
      ]
     },
     "metadata": {},
     "output_type": "display_data"
    },
    {
     "data": {
      "image/png": "[encoded data removed]",
      "text/plain": [
       "<Figure size 1296x360 with 1 Axes>"
      ]
     },
     "metadata": {},
     "output_type": "display_data"
    },
    {
     "data": {
      "image/png": "[encoded data removed]",
      "text/plain": [
       "<Figure size 1296x360 with 1 Axes>"
      ]
     },
     "metadata": {},
     "output_type": "display_data"
    },
    {
     "data": {
      "image/png": "[encoded data removed]",
      "text/plain": [
       "<Figure size 1296x360 with 1 Axes>"
      ]
     },
     "metadata": {},
     "output_type": "display_data"
    }
   ],
   "source": [
    "#посмотрим распределение продаж по популярным платформам по годам\n",
    "top_platforms = ['PS', 'PS2', 'PS3','DS', 'Wii', 'X360']\n",
    "for platform in top_platforms:\n",
    "    df[df['platform'] == platform].pivot_table(index='year_of_release', values='all_sales', aggfunc='sum').plot(kind='bar', figsize=(18,5))\n",
    "    plt.title(platform)"
   ]
  },
  {
   "cell_type": "markdown",
   "metadata": {},
   "source": [
    "Срок жизни платформы около 10 лет, это видно на примере PlayStation. Пик популярности длится в течение 5 лет."
   ]
  },
  {
   "cell_type": "code",
   "execution_count": 20,
   "metadata": {},
   "outputs": [
    {
     "data": {
      "text/plain": [
       "Text(0.5, 1.0, 'X360')"
      ]
     },
     "execution_count": 20,
     "metadata": {},
     "output_type": "execute_result"
    },
    {
     "data": {
      "image/png": "[encoded data removed]",
      "text/plain": [
       "<Figure size 1296x576 with 6 Axes>"
      ]
     },
     "metadata": {},
     "output_type": "display_data"
    }
   ],
   "source": [
    "#посмотрим на пик популярности\n",
    "fig, axs = plt.subplots(1,6, figsize=(18, 8))\n",
    "top_platforms = ['PS', 'PS2', 'PS3','DS', 'Wii', 'X360']\n",
    "axs[0].plot(df[df['platform'] == 'PS'].pivot_table(index='year_of_release', values='all_sales', aggfunc='sum'))\n",
    "axs[0].set_title('PS')\n",
    "axs[1].plot(df[df['platform'] == 'PS2'].pivot_table(index='year_of_release', values='all_sales', aggfunc='sum'))\n",
    "axs[1].set_title('PS2')\n",
    "axs[2].plot(df[df['platform'] == 'PS3'].pivot_table(index='year_of_release', values='all_sales', aggfunc='sum'))\n",
    "axs[2].set_title('PS3')\n",
    "axs[3].plot(df[df['platform'] == 'DS'].pivot_table(index='year_of_release', values='all_sales', aggfunc='sum'))\n",
    "axs[3].set_title('DS')\n",
    "axs[4].plot(df[df['platform'] == 'Wii'].pivot_table(index='year_of_release', values='all_sales', aggfunc='sum'))\n",
    "axs[4].set_title('Wii')\n",
    "axs[5].plot(df[df['platform'] == 'X360'].pivot_table(index='year_of_release', values='all_sales', aggfunc='sum'))\n",
    "axs[5].set_title('X360')"
   ]
  },
  {
   "cell_type": "code",
   "execution_count": 21,
   "metadata": {
    "scrolled": false
   },
   "outputs": [
    {
     "data": {
      "image/png": "[encoded data removed]",
      "text/plain": [
       "<Figure size 1152x360 with 3 Axes>"
      ]
     },
     "metadata": {},
     "output_type": "display_data"
    }
   ],
   "source": [
    "#сравнение одной платформы\n",
    "fig, (ax1, ax2, ax3) = plt.subplots(1, 3, figsize=(16, 5))\n",
    "fig.suptitle('PS3 vs PS2 vs PS')\n",
    "\n",
    "ax1.plot(df[df['platform'] == 'PS3'].pivot_table(index='year_of_release', values='all_sales', aggfunc='sum'))\n",
    "ax1.set_title('PS3')\n",
    "ax2.plot(df[df['platform'] == 'PS2'].pivot_table(index='year_of_release', values='all_sales', aggfunc='sum'))\n",
    "ax2.set_title('PS2')\n",
    "ax3.plot(df[df['platform'] == 'PS'].pivot_table(index='year_of_release', values='all_sales', aggfunc='sum'))\n",
    "ax3.set_title('PS')\n",
    "plt.show()"
   ]
  },
  {
   "cell_type": "code",
   "execution_count": 23,
   "metadata": {},
   "outputs": [
    {
     "data": {
      "text/html": [
       "<div>\n",
       "<style scoped>\n",
       "    .dataframe tbody tr th:only-of-type {\n",
       "        vertical-align: middle;\n",
       "    }\n",
       "\n",
       "    .dataframe tbody tr th {\n",
       "        vertical-align: top;\n",
       "    }\n",
       "\n",
       "    .dataframe thead th {\n",
       "        text-align: right;\n",
       "    }\n",
       "</style>\n",
       "<table border=\"1\" class=\"dataframe\">\n",
       "  <thead>\n",
       "    <tr style=\"text-align: right;\">\n",
       "      <th></th>\n",
       "      <th>name</th>\n",
       "      <th>platform</th>\n",
       "      <th>year_of_release</th>\n",
       "      <th>genre</th>\n",
       "      <th>na_sales</th>\n",
       "      <th>eu_sales</th>\n",
       "      <th>jp_sales</th>\n",
       "      <th>other_sales</th>\n",
       "      <th>critic_score</th>\n",
       "      <th>user_score</th>\n",
       "      <th>rating</th>\n",
       "      <th>all_sales</th>\n",
       "    </tr>\n",
       "  </thead>\n",
       "  <tbody>\n",
       "    <tr>\n",
       "      <th>0</th>\n",
       "      <td>Grand Theft Auto V</td>\n",
       "      <td>PS3</td>\n",
       "      <td>2013</td>\n",
       "      <td>Action</td>\n",
       "      <td>7.02</td>\n",
       "      <td>9.09</td>\n",
       "      <td>0.98</td>\n",
       "      <td>3.96</td>\n",
       "      <td>97.0</td>\n",
       "      <td>8.2</td>\n",
       "      <td>M</td>\n",
       "      <td>21.05</td>\n",
       "    </tr>\n",
       "    <tr>\n",
       "      <th>1</th>\n",
       "      <td>Grand Theft Auto V</td>\n",
       "      <td>X360</td>\n",
       "      <td>2013</td>\n",
       "      <td>Action</td>\n",
       "      <td>9.66</td>\n",
       "      <td>5.14</td>\n",
       "      <td>0.06</td>\n",
       "      <td>1.41</td>\n",
       "      <td>97.0</td>\n",
       "      <td>8.1</td>\n",
       "      <td>M</td>\n",
       "      <td>16.27</td>\n",
       "    </tr>\n",
       "    <tr>\n",
       "      <th>2</th>\n",
       "      <td>Call of Duty: Black Ops 3</td>\n",
       "      <td>PS4</td>\n",
       "      <td>2015</td>\n",
       "      <td>Shooter</td>\n",
       "      <td>6.03</td>\n",
       "      <td>5.86</td>\n",
       "      <td>0.36</td>\n",
       "      <td>2.38</td>\n",
       "      <td>NaN</td>\n",
       "      <td>NaN</td>\n",
       "      <td>unknown</td>\n",
       "      <td>14.63</td>\n",
       "    </tr>\n",
       "    <tr>\n",
       "      <th>3</th>\n",
       "      <td>Pokemon X/Pokemon Y</td>\n",
       "      <td>3DS</td>\n",
       "      <td>2013</td>\n",
       "      <td>Role-Playing</td>\n",
       "      <td>5.28</td>\n",
       "      <td>4.19</td>\n",
       "      <td>4.35</td>\n",
       "      <td>0.78</td>\n",
       "      <td>NaN</td>\n",
       "      <td>NaN</td>\n",
       "      <td>unknown</td>\n",
       "      <td>14.60</td>\n",
       "    </tr>\n",
       "    <tr>\n",
       "      <th>4</th>\n",
       "      <td>Call of Duty: Black Ops II</td>\n",
       "      <td>PS3</td>\n",
       "      <td>2012</td>\n",
       "      <td>Shooter</td>\n",
       "      <td>4.99</td>\n",
       "      <td>5.73</td>\n",
       "      <td>0.65</td>\n",
       "      <td>2.42</td>\n",
       "      <td>83.0</td>\n",
       "      <td>5.3</td>\n",
       "      <td>M</td>\n",
       "      <td>13.79</td>\n",
       "    </tr>\n",
       "    <tr>\n",
       "      <th>5</th>\n",
       "      <td>Call of Duty: Black Ops II</td>\n",
       "      <td>X360</td>\n",
       "      <td>2012</td>\n",
       "      <td>Shooter</td>\n",
       "      <td>8.25</td>\n",
       "      <td>4.24</td>\n",
       "      <td>0.07</td>\n",
       "      <td>1.12</td>\n",
       "      <td>83.0</td>\n",
       "      <td>4.8</td>\n",
       "      <td>M</td>\n",
       "      <td>13.68</td>\n",
       "    </tr>\n",
       "    <tr>\n",
       "      <th>6</th>\n",
       "      <td>Grand Theft Auto V</td>\n",
       "      <td>PS4</td>\n",
       "      <td>2014</td>\n",
       "      <td>Action</td>\n",
       "      <td>3.96</td>\n",
       "      <td>6.31</td>\n",
       "      <td>0.38</td>\n",
       "      <td>1.97</td>\n",
       "      <td>97.0</td>\n",
       "      <td>8.3</td>\n",
       "      <td>M</td>\n",
       "      <td>12.62</td>\n",
       "    </tr>\n",
       "    <tr>\n",
       "      <th>7</th>\n",
       "      <td>Pokemon Omega Ruby/Pokemon Alpha Sapphire</td>\n",
       "      <td>3DS</td>\n",
       "      <td>2014</td>\n",
       "      <td>Role-Playing</td>\n",
       "      <td>4.35</td>\n",
       "      <td>3.49</td>\n",
       "      <td>3.10</td>\n",
       "      <td>0.74</td>\n",
       "      <td>NaN</td>\n",
       "      <td>NaN</td>\n",
       "      <td>unknown</td>\n",
       "      <td>11.68</td>\n",
       "    </tr>\n",
       "    <tr>\n",
       "      <th>8</th>\n",
       "      <td>Call of Duty: Ghosts</td>\n",
       "      <td>X360</td>\n",
       "      <td>2013</td>\n",
       "      <td>Shooter</td>\n",
       "      <td>6.73</td>\n",
       "      <td>2.56</td>\n",
       "      <td>0.04</td>\n",
       "      <td>0.91</td>\n",
       "      <td>73.0</td>\n",
       "      <td>2.6</td>\n",
       "      <td>M</td>\n",
       "      <td>10.24</td>\n",
       "    </tr>\n",
       "    <tr>\n",
       "      <th>9</th>\n",
       "      <td>New Super Mario Bros. 2</td>\n",
       "      <td>3DS</td>\n",
       "      <td>2012</td>\n",
       "      <td>Platform</td>\n",
       "      <td>3.66</td>\n",
       "      <td>3.14</td>\n",
       "      <td>2.47</td>\n",
       "      <td>0.63</td>\n",
       "      <td>78.0</td>\n",
       "      <td>7.2</td>\n",
       "      <td>E</td>\n",
       "      <td>9.90</td>\n",
       "    </tr>\n",
       "  </tbody>\n",
       "</table>\n",
       "</div>"
      ],
      "text/plain": [
       "                                        name platform  year_of_release  \\\n",
       "0                         Grand Theft Auto V      PS3             2013   \n",
       "1                         Grand Theft Auto V     X360             2013   \n",
       "2                  Call of Duty: Black Ops 3      PS4             2015   \n",
       "3                        Pokemon X/Pokemon Y      3DS             2013   \n",
       "4                 Call of Duty: Black Ops II      PS3             2012   \n",
       "5                 Call of Duty: Black Ops II     X360             2012   \n",
       "6                         Grand Theft Auto V      PS4             2014   \n",
       "7  Pokemon Omega Ruby/Pokemon Alpha Sapphire      3DS             2014   \n",
       "8                       Call of Duty: Ghosts     X360             2013   \n",
       "9                    New Super Mario Bros. 2      3DS             2012   \n",
       "\n",
       "          genre  na_sales  eu_sales  jp_sales  other_sales  critic_score  \\\n",
       "0        Action      7.02      9.09      0.98         3.96          97.0   \n",
       "1        Action      9.66      5.14      0.06         1.41          97.0   \n",
       "2       Shooter      6.03      5.86      0.36         2.38           NaN   \n",
       "3  Role-Playing      5.28      4.19      4.35         0.78           NaN   \n",
       "4       Shooter      4.99      5.73      0.65         2.42          83.0   \n",
       "5       Shooter      8.25      4.24      0.07         1.12          83.0   \n",
       "6        Action      3.96      6.31      0.38         1.97          97.0   \n",
       "7  Role-Playing      4.35      3.49      3.10         0.74           NaN   \n",
       "8       Shooter      6.73      2.56      0.04         0.91          73.0   \n",
       "9      Platform      3.66      3.14      2.47         0.63          78.0   \n",
       "\n",
       "   user_score   rating  all_sales  \n",
       "0         8.2        M      21.05  \n",
       "1         8.1        M      16.27  \n",
       "2         NaN  unknown      14.63  \n",
       "3         NaN  unknown      14.60  \n",
       "4         5.3        M      13.79  \n",
       "5         4.8        M      13.68  \n",
       "6         8.3        M      12.62  \n",
       "7         NaN  unknown      11.68  \n",
       "8         2.6        M      10.24  \n",
       "9         7.2        E       9.90  "
      ]
     },
     "execution_count": 23,
     "metadata": {},
     "output_type": "execute_result"
    }
   ],
   "source": [
    "#ранее определились с актуальным периодом - 2012-2016 годы\n",
    "#запишем его в отдельный датафрейм\n",
    "df_actual = df.query('2012 <= year_of_release <= 2016').reset_index(drop=True)\n",
    "df_actual.head(10)"
   ]
  },
  {
   "cell_type": "code",
   "execution_count": 24,
   "metadata": {},
   "outputs": [
    {
     "data": {
      "text/plain": [
       "<AxesSubplot:xlabel='platform'>"
      ]
     },
     "execution_count": 24,
     "metadata": {},
     "output_type": "execute_result"
    },
    {
     "data": {
      "image/png": "[encoded data removed]",
      "text/plain": [
       "<Figure size 1296x360 with 1 Axes>"
      ]
     },
     "metadata": {},
     "output_type": "display_data"
    }
   ],
   "source": [
    "#посмотрим лидеров по продажам за этот период\n",
    "df_actual.pivot_table(index='platform', values='all_sales', aggfunc='sum').sort_values('all_sales', ascending=False).plot(kind='bar', figsize=(18, 5))"
   ]
  },
  {
   "cell_type": "markdown",
   "metadata": {},
   "source": [
    "В числе лидеров актуальная PS4 и ее предыдущее поколение. Платформа X360 опережает более современное поколение XOne, однако с учетом срока популярности платформ, в 2017 году продажи игр для X360 будут низкими. 3DS пришла на замену DS в 2011 году. Wii уступила место более современной WiiU. Платформа PC не обновляется. PSV - новое поколение PSP, чей цикл подошел к концу.\n",
    "\n",
    "Потенциально прибыльные платформы: PS4, XOne, 3DS, WiiU, PC, PSV."
   ]
  },
  {
   "cell_type": "code",
   "execution_count": 25,
   "metadata": {},
   "outputs": [
    {
     "data": {
      "text/plain": [
       "<AxesSubplot:xlabel='platform', ylabel='all_sales'>"
      ]
     },
     "execution_count": 25,
     "metadata": {},
     "output_type": "execute_result"
    },
    {
     "data": {
      "image/png": "[encoded data removed]",
      "text/plain": [
       "<Figure size 1440x576 with 1 Axes>"
      ]
     },
     "metadata": {},
     "output_type": "display_data"
    }
   ],
   "source": [
    "#построим график «ящик с усами» по глобальным продажам игр в разбивке по платформам\n",
    "profitable = ['PS4', 'XOne', '3DS', 'WiiU', 'PC', 'PSV']\n",
    "df_actual_profitable = df_actual.query('platform in @profitable').reset_index(drop=True)\n",
    "plt.figure(figsize=(20,8))\n",
    "plt.ylim([0,5])\n",
    "sns.boxplot(x='platform', y='all_sales', data=df_actual_profitable)"
   ]
  },
  {
   "cell_type": "markdown",
   "metadata": {},
   "source": [
    "В среднем суммарные продажи игр находятся примерно на одном уровне. Выделяются несколько десятков игр, которые являются мировыми бестселлерами. Причем такие выбросы характерны почти для каждой платформы.\n",
    "\n",
    "Медианы совокупных продаж игр на потенциально прибыльных платформах находятся в районе 0.2-0.3млн. Межквартильный размах PS4 и XOne выделяется на общем фоне, так как на данных платформах выпускается больше игр. Выделяются несколько десятков игр, которые являются мировыми бестселлерами. Причем такие выбросы характерны почти для каждой платформы."
   ]
  },
  {
   "cell_type": "code",
   "execution_count": 26,
   "metadata": {},
   "outputs": [
    {
     "data": {
      "image/png": "[encoded data removed]",
      "text/plain": [
       "<Figure size 432x288 with 1 Axes>"
      ]
     },
     "metadata": {},
     "output_type": "display_data"
    }
   ],
   "source": [
    "#посмотрим, как влияют на продажи игр для платформы PS3 отзывы критиков\n",
    "df_actual.query('platform == \"PS3\"').plot(kind='scatter', x='critic_score', y='all_sales')\n",
    "plt.show()"
   ]
  },
  {
   "cell_type": "code",
   "execution_count": 27,
   "metadata": {},
   "outputs": [
    {
     "data": {
      "text/plain": [
       "0.3314972592629587"
      ]
     },
     "execution_count": 27,
     "metadata": {},
     "output_type": "execute_result"
    }
   ],
   "source": [
    "#взглянем на коэффициент корреляции глобальных продаж и оценки критиков\n",
    "df_actual.query('platform == \"PS3\"')['critic_score'].corr(df_actual.query('platform == \"PS3\"')['all_sales'])"
   ]
  },
  {
   "cell_type": "markdown",
   "metadata": {},
   "source": [
    "Как видим, зависимость очень слабая. Интересен тот факт, что самая продаваемая игра оказалась лучшей по мнению критиков."
   ]
  },
  {
   "cell_type": "code",
   "execution_count": 28,
   "metadata": {},
   "outputs": [
    {
     "data": {
      "image/png": "[encoded data removed]",
      "text/plain": [
       "<Figure size 432x288 with 1 Axes>"
      ]
     },
     "metadata": {},
     "output_type": "display_data"
    }
   ],
   "source": [
    "#посмотрим, как влияют на продажи игр для платформы PS3 отзывы пользователей\n",
    "df_actual.query('platform == \"PS3\"').plot(kind='scatter', x='user_score', y='all_sales', alpha=0.3)\n",
    "plt.show()"
   ]
  },
  {
   "cell_type": "code",
   "execution_count": 29,
   "metadata": {},
   "outputs": [
    {
     "data": {
      "text/plain": [
       "-0.005143522887113815"
      ]
     },
     "execution_count": 29,
     "metadata": {},
     "output_type": "execute_result"
    }
   ],
   "source": [
    "#взглянем на коэффициент корреляции глобальных продаж и оценки пользователей\n",
    "df_actual.query('platform == \"PS3\"')['user_score'].corr(df_actual.query('platform == \"PS3\"')['all_sales'])"
   ]
  },
  {
   "cell_type": "markdown",
   "metadata": {},
   "source": [
    "Как видим, зависимости нет. Бросается в глаза игра с суммарными продажами около 10 млн копий, при этом пользователи оценили ее не выше трех баллов.\n",
    "\n",
    "При увеличении оценок критиков наблюдается увеличение суммы продаж, а оценка пользователей на суммарные продажи не влияет"
   ]
  },
  {
   "cell_type": "code",
   "execution_count": 30,
   "metadata": {
    "scrolled": true
   },
   "outputs": [
    {
     "name": "stdout",
     "output_type": "stream",
     "text": [
      "PS3 коэффициент корреляции: 0.3314972592629587\n",
      "X360 коэффициент корреляции: 0.3605734888507336\n",
      "PS4 коэффициент корреляции: 0.40656790206178095\n",
      "3DS коэффициент корреляции: 0.3208028695360785\n",
      "DS коэффициент корреляции: nan\n",
      "XOne коэффициент корреляции: 0.4169983280084017\n",
      "WiiU коэффициент корреляции: 0.34837976012017485\n",
      "Wii коэффициент корреляции: -0.4243413011077494\n",
      "PC коэффициент корреляции: 0.23724324311567915\n",
      "PSV коэффициент корреляции: 0.0944878992931617\n",
      "PSP коэффициент корреляции: nan\n"
     ]
    },
    {
     "name": "stderr",
     "output_type": "stream",
     "text": [
      "/opt/conda/lib/python3.9/site-packages/numpy/lib/function_base.py:2683: RuntimeWarning: Degrees of freedom <= 0 for slice\n",
      "  c = cov(x, y, rowvar, dtype=dtype)\n",
      "/opt/conda/lib/python3.9/site-packages/numpy/lib/function_base.py:2542: RuntimeWarning: divide by zero encountered in true_divide\n",
      "  c *= np.true_divide(1, fact)\n"
     ]
    }
   ],
   "source": [
    "#посмотрим наличие зависимости отзывов критиков на продажи на других платформах\n",
    "platforms = df_actual['platform'].unique()\n",
    "for platform in platforms:\n",
    "    plat = df_actual.query('platform==@platform')\n",
    "    print(platform,'коэффициент корреляции:',plat['critic_score'].corr(plat['all_sales']))"
   ]
  },
  {
   "cell_type": "markdown",
   "metadata": {},
   "source": [
    "У большинства платформ мы видим несильную зависимость между оценкой критиков и суммарными продажами."
   ]
  },
  {
   "cell_type": "code",
   "execution_count": 31,
   "metadata": {},
   "outputs": [
    {
     "name": "stdout",
     "output_type": "stream",
     "text": [
      "PS3 коэффициент корреляции: -0.005143522887113815\n",
      "X360 коэффициент корреляции: 0.006163978646213326\n",
      "PS4 коэффициент корреляции: -0.031957110204556424\n",
      "3DS коэффициент корреляции: 0.19758263411038599\n",
      "DS коэффициент корреляции: 0.88270872757644\n",
      "XOne коэффициент корреляции: -0.06892505328279414\n",
      "WiiU коэффициент корреляции: 0.4002190202148617\n",
      "Wii коэффициент корреляции: 0.29619680007479526\n",
      "PC коэффициент корреляции: -0.12186747630735577\n",
      "PSV коэффициент корреляции: -0.004339437514314869\n",
      "PSP коэффициент корреляции: -0.802302061939321\n"
     ]
    }
   ],
   "source": [
    "#посмотрим наличие зависимости отзывов пользователей на продажи на других платформах\n",
    "platforms = df_actual['platform'].unique()\n",
    "for platform in platforms:\n",
    "    plat = df_actual.query('platform==@platform')\n",
    "    print(platform,'коэффициент корреляции:',plat['user_score'].corr(plat['all_sales']))"
   ]
  },
  {
   "cell_type": "markdown",
   "metadata": {},
   "source": [
    "Выделяются платформа DS и PSP с сильной прямой и обратной зависомостью. Продажи остальных игр почти не связаны с отзывами пользователей.\n",
    "\n",
    "Можно предположить, что покупатели прислушиваются к мнению критиков и покупают рекомендуемые ими игры"
   ]
  },
  {
   "cell_type": "code",
   "execution_count": 32,
   "metadata": {},
   "outputs": [
    {
     "data": {
      "image/png": "[encoded data removed]",
      "text/plain": [
       "<Figure size 432x288 with 1 Axes>"
      ]
     },
     "metadata": {},
     "output_type": "display_data"
    }
   ],
   "source": [
    "#посмотрим на общее распределение игр по жанрам\n",
    "df_actual.groupby('genre')['name'].count().sort_values(ascending=False).plot(kind='bar', label='число игр', legend=True)\n",
    "plt.show()"
   ]
  },
  {
   "cell_type": "markdown",
   "metadata": {},
   "source": [
    "Самым популярным жанром является Action."
   ]
  },
  {
   "cell_type": "code",
   "execution_count": 33,
   "metadata": {},
   "outputs": [
    {
     "data": {
      "image/png": "[encoded data removed]",
      "text/plain": [
       "<Figure size 432x288 with 1 Axes>"
      ]
     },
     "metadata": {},
     "output_type": "display_data"
    }
   ],
   "source": [
    "#посмотрим на распределение игр разных жанров по средним продажам\n",
    "df_actual.groupby('genre')['all_sales'].mean().sort_values(ascending=False).plot(kind='bar', label='средние продажи', legend=True)\n",
    "plt.show()"
   ]
  },
  {
   "cell_type": "markdown",
   "metadata": {},
   "source": [
    "Средние продажи жанра Shooter говорят об успешности игр данного жанра. Несмотря на то что игры жанра Action выпускаются в большом объеме, средние продажи игр этого жанра довольно низкие. Также можно отметить жанр Adventure: по количеству игр этот жанр идет на 3 месте, а по продажам занимает 10 место."
   ]
  },
  {
   "cell_type": "markdown",
   "metadata": {},
   "source": [
    "### Вывод"
   ]
  },
  {
   "cell_type": "markdown",
   "metadata": {},
   "source": [
    "- В результате исследования определили актуальный период времени - 2012-2016 годы.\n",
    "- Выявили популярные платформы, средний срок жизни платформы и период пиковой популярности.\n",
    "- Рассмотрели корреляцию между продажами и оценками критиков и пользователей.\n",
    "- Определили самые популярные жанры игр по количеству и продажам."
   ]
  },
  {
   "cell_type": "markdown",
   "metadata": {},
   "source": [
    "## Портрет пользователя"
   ]
  },
  {
   "cell_type": "code",
   "execution_count": 34,
   "metadata": {},
   "outputs": [
    {
     "data": {
      "image/png": "[encoded data removed]",
      "text/plain": [
       "<Figure size 1296x360 with 1 Axes>"
      ]
     },
     "metadata": {},
     "output_type": "display_data"
    },
    {
     "data": {
      "image/png": "[encoded data removed]",
      "text/plain": [
       "<Figure size 1296x360 with 1 Axes>"
      ]
     },
     "metadata": {},
     "output_type": "display_data"
    },
    {
     "data": {
      "text/plain": [
       "<AxesSubplot:xlabel='platform'>"
      ]
     },
     "execution_count": 34,
     "metadata": {},
     "output_type": "execute_result"
    },
    {
     "data": {
      "image/png": "[encoded data removed]",
      "text/plain": [
       "<Figure size 1296x360 with 1 Axes>"
      ]
     },
     "metadata": {},
     "output_type": "display_data"
    }
   ],
   "source": [
    "#определим самые популярные платформы для всех регионов\n",
    "df_actual.pivot_table(index='platform', values='na_sales', aggfunc='sum').sort_values('na_sales', ascending=False).head(5).plot(kind='bar', figsize=(18, 5))\n",
    "plt.show()\n",
    "df_actual.pivot_table(index='platform', values='eu_sales', aggfunc='sum').sort_values('eu_sales', ascending=False).head(5).plot(kind='bar', figsize=(18, 5))\n",
    "plt.show()\n",
    "df_actual.pivot_table(index='platform', values='jp_sales', aggfunc='sum').sort_values('jp_sales', ascending=False).head(5).plot(kind='bar', figsize=(18, 5))"
   ]
  },
  {
   "cell_type": "markdown",
   "metadata": {},
   "source": [
    "В США самая популярная платформа - X360, в Европе - PS4, в Азии - 3DS."
   ]
  },
  {
   "cell_type": "code",
   "execution_count": 35,
   "metadata": {},
   "outputs": [
    {
     "data": {
      "image/png": "[encoded data removed]",
      "text/plain": [
       "<Figure size 1296x360 with 1 Axes>"
      ]
     },
     "metadata": {},
     "output_type": "display_data"
    },
    {
     "data": {
      "image/png": "[encoded data removed]",
      "text/plain": [
       "<Figure size 1296x360 with 1 Axes>"
      ]
     },
     "metadata": {},
     "output_type": "display_data"
    },
    {
     "data": {
      "text/plain": [
       "<AxesSubplot:xlabel='genre'>"
      ]
     },
     "execution_count": 35,
     "metadata": {},
     "output_type": "execute_result"
    },
    {
     "data": {
      "image/png": "[encoded data removed]",
      "text/plain": [
       "<Figure size 1296x360 with 1 Axes>"
      ]
     },
     "metadata": {},
     "output_type": "display_data"
    }
   ],
   "source": [
    "#определим самые популярные жанры для всех регионов\n",
    "df_actual.pivot_table(index='genre', values='na_sales', aggfunc='sum').sort_values('na_sales', ascending=False).head(5).plot(kind='bar', figsize=(18, 5))\n",
    "plt.show()\n",
    "df_actual.pivot_table(index='genre', values='eu_sales', aggfunc='sum').sort_values('eu_sales', ascending=False).head(5).plot(kind='bar', figsize=(18, 5))\n",
    "plt.show()\n",
    "df_actual.pivot_table(index='genre', values='jp_sales', aggfunc='sum').sort_values('jp_sales', ascending=False).head(5).plot(kind='bar', figsize=(18, 5))"
   ]
  },
  {
   "cell_type": "markdown",
   "metadata": {},
   "source": [
    "Жанр Action популярен во всех регионах. В Азии на первом месте жанр \"Ролевые игры\" и отсустсвует популярный в Америке и Европе Shooter."
   ]
  },
  {
   "cell_type": "code",
   "execution_count": 36,
   "metadata": {},
   "outputs": [
    {
     "data": {
      "image/png": "[encoded data removed]",
      "text/plain": [
       "<Figure size 1296x360 with 1 Axes>"
      ]
     },
     "metadata": {},
     "output_type": "display_data"
    },
    {
     "data": {
      "image/png": "[encoded data removed]",
      "text/plain": [
       "<Figure size 1296x360 with 1 Axes>"
      ]
     },
     "metadata": {},
     "output_type": "display_data"
    },
    {
     "data": {
      "text/plain": [
       "<AxesSubplot:xlabel='rating'>"
      ]
     },
     "execution_count": 36,
     "metadata": {},
     "output_type": "execute_result"
    },
    {
     "data": {
      "image/png": "[encoded data removed]",
      "text/plain": [
       "<Figure size 1296x360 with 1 Axes>"
      ]
     },
     "metadata": {},
     "output_type": "display_data"
    }
   ],
   "source": [
    "#определим влияние рейтинга ESRB на продажи\n",
    "df_actual.pivot_table(index='rating', values='na_sales', aggfunc='sum').sort_values('na_sales', ascending=False).head(5).plot(kind='bar', figsize=(18, 5))\n",
    "plt.show()\n",
    "df_actual.pivot_table(index='rating', values='eu_sales', aggfunc='sum').sort_values('eu_sales', ascending=False).head(5).plot(kind='bar', figsize=(18, 5))\n",
    "plt.show()\n",
    "df_actual.pivot_table(index='rating', values='jp_sales', aggfunc='sum').sort_values('jp_sales', ascending=False).head(5).plot(kind='bar', figsize=(18, 5))"
   ]
  },
  {
   "cell_type": "markdown",
   "metadata": {},
   "source": [
    "В Америке и Европе самыми популярными являются игры для взрослых (М)."
   ]
  },
  {
   "cell_type": "markdown",
   "metadata": {},
   "source": [
    "\n",
    "В Азии у большого количества игр не определен возрастной рейтинг. Возможно, ESRB не сотрудничает с японскими производителями игр"
   ]
  },
  {
   "cell_type": "markdown",
   "metadata": {},
   "source": [
    "### Вывод"
   ]
  },
  {
   "cell_type": "markdown",
   "metadata": {},
   "source": [
    "В Америке и Европе портрет пользователя примерно одинаковый: это взрослые люди, которые любят играть в игры жанра Action и Shooter на платформах Xbox и Playstation.\n",
    "\n",
    "В Азии пользователи предпочитают в жанре Role-Playing и Action на платформе 3DS, о возрастном рейтинге сказать сложно, так как у многих игр его просто нет."
   ]
  },
  {
   "cell_type": "markdown",
   "metadata": {},
   "source": [
    "## Проверка гипотез"
   ]
  },
  {
   "cell_type": "markdown",
   "metadata": {},
   "source": [
    "Проверим гипотезы: \n",
    " - средний пользовательский рейтинг платформ Xbox One и PC одинаковый\n",
    " - средний пользовательский рейтинг жанров Action и Sports разный"
   ]
  },
  {
   "cell_type": "markdown",
   "metadata": {},
   "source": [
    "Будем использовать t-критерий Стьюдента, так как сравниваемые выборки независимы между собой.\n",
    "\n",
    "Гипотезы:\n",
    "- H0: средний пользовательский рейтинг платформ Xbox One и PC одинаковый\n",
    "- H1: средний пользовательский рейтинг платформ Xbox One и PC различается"
   ]
  },
  {
   "cell_type": "code",
   "execution_count": 37,
   "metadata": {},
   "outputs": [
    {
     "name": "stdout",
     "output_type": "stream",
     "text": [
      "1.9069968429360695\n",
      "2.770443997158418\n"
     ]
    },
    {
     "data": {
      "text/plain": [
       "0"
      ]
     },
     "execution_count": 37,
     "metadata": {},
     "output_type": "execute_result"
    }
   ],
   "source": [
    "XOne = df_actual[(df_actual['platform'] == 'XOne') & (df_actual['user_score'] > 0)]['user_score']\n",
    "PC = df_actual[(df_actual['platform'] == 'PC') & (df_actual['user_score'] > 0)]['user_score']\n",
    "print(XOne.var(ddof=1))\n",
    "print(PC.var(ddof=1))\n",
    "PC.isna().sum()"
   ]
  },
  {
   "cell_type": "code",
   "execution_count": 38,
   "metadata": {},
   "outputs": [
    {
     "name": "stdout",
     "output_type": "stream",
     "text": [
      "p-значение: 0.5489537965134912\n",
      "Не получилось отвергнуть нулевую гипотезу\n"
     ]
    }
   ],
   "source": [
    "#equal_var установим False, так как дисперсии выборок не равны\n",
    "alpha = 0.05\n",
    "results = st.ttest_ind(XOne, PC, equal_var=False)\n",
    "print('p-значение:', results.pvalue)\n",
    "\n",
    "if results.pvalue < alpha:\n",
    "    print(\"Отвергаем нулевую гипотезу\")\n",
    "else:\n",
    "    print(\"Не получилось отвергнуть нулевую гипотезу\")"
   ]
  },
  {
   "cell_type": "markdown",
   "metadata": {},
   "source": [
    "p-значение больше установленного уровня статистической значимости, значит мы можем предположить, что нулевая гипотеза верна, то есть средний пользовательский рейтинг платформ Xbox One и PC одинаковый"
   ]
  },
  {
   "cell_type": "markdown",
   "metadata": {},
   "source": [
    "Гипотезы:\n",
    "\n",
    "- H0: средний пользовательский рейтинг жанров Action и Sports одинаковый\n",
    "- H1: средний пользовательский рейтинг жанров Action и Sports различается"
   ]
  },
  {
   "cell_type": "code",
   "execution_count": 39,
   "metadata": {},
   "outputs": [
    {
     "name": "stdout",
     "output_type": "stream",
     "text": [
      "1.8890840494348111\n",
      "3.022890298704732\n"
     ]
    },
    {
     "data": {
      "text/plain": [
       "0"
      ]
     },
     "execution_count": 39,
     "metadata": {},
     "output_type": "execute_result"
    }
   ],
   "source": [
    "action = df_actual[(df_actual['genre'] == 'Action') & (df_actual['user_score'] > 0)]['user_score']\n",
    "sports = df_actual[(df_actual['genre'] == 'Sports') & (df_actual['user_score'] > 0)]['user_score']\n",
    "print(action.var(ddof=1))\n",
    "print(sports.var(ddof=1))\n",
    "action.isna().sum()"
   ]
  },
  {
   "cell_type": "code",
   "execution_count": 40,
   "metadata": {},
   "outputs": [
    {
     "name": "stdout",
     "output_type": "stream",
     "text": [
      "p-значение: 4.24307776572644e-20\n",
      "Отвергаем нулевую гипотезу\n"
     ]
    }
   ],
   "source": [
    "#equal_var установим False, так как дисперсии выборок не равны\n",
    "results = st.ttest_ind(action, sports, equal_var = False)\n",
    "print('p-значение:', results.pvalue)\n",
    "\n",
    "if results.pvalue < alpha:\n",
    "    print(\"Отвергаем нулевую гипотезу\")\n",
    "else:\n",
    "    print(\"Не получилось отвергнуть нулевую гипотезу\")"
   ]
  },
  {
   "cell_type": "markdown",
   "metadata": {},
   "source": [
    "p-значение меньше установленного уровня статистической значимости, значит мы можем предположить, что нулевая гипотеза не верна, соответственно средний пользовательский рейтинг жанров Action и Sports различается"
   ]
  },
  {
   "cell_type": "markdown",
   "metadata": {},
   "source": [
    "### Вывод"
   ]
  },
  {
   "cell_type": "markdown",
   "metadata": {},
   "source": [
    "Средние пользовательские рейтинги на платформах Xbox One и PC различаются , а рейтинги жанров Action и Sports - близки по значению."
   ]
  },
  {
   "cell_type": "markdown",
   "metadata": {},
   "source": [
    "## Общий вывод"
   ]
  },
  {
   "cell_type": "markdown",
   "metadata": {},
   "source": [
    "- Актуальный период времени для планирования кампании на 2017 год - 2012-2016 годы.\n",
    "- Жизненный цикл платформ видеоигр составляет около 10 лет, пик популярности в течение 5 лет.\n",
    "- Перспективными являются платформы: PS4, XOne, 3DS, WiiU, PC, PSV.\n",
    "- Наиболее популярные жанры игр за последние 5 лет: Action, Shooter и Role-Playing.\n",
    "- Оценки критиков имеют среднюю корреляцию с суммарными продажами, в отличие от оценок пользователей.\n",
    "- Портрет пользователя регионов Северная Америка и Европа не сильно различается по предпочтениям, в отличие от региона Японии.\n",
    "- Средние пользовательские рейтинги на платформах Xbox One и PC одинаковые , а рейтинги жанров Action и Sports - различаются по оценкам.\n"
   ]
  },
  {
   "cell_type": "markdown",
   "metadata": {},
   "source": [
    "\n",
    "\n",
    "    \n",
    "    Рекомендации:\n",
    "- делать ставку на продажу игр для платформ PS4, XOne, 3DS, WiiU, PC, PSV;\n",
    "- отдавать преимущество играм жанров Shooter, Sports, Role-Playing, Action;\n",
    "- учесть особенность азиатского рынка при планировании рекламных кампаний."
   ]
  }
 ],
 "metadata": {
  "ExecuteTimeLog": [
   {
    "duration": 1116,
    "start_time": "2022-02-17T05:50:57.494Z"
   },
   {
    "duration": 54,
    "start_time": "2022-02-17T05:50:58.612Z"
   },
   {
    "duration": 12,
    "start_time": "2022-02-17T05:50:58.668Z"
   },
   {
    "duration": 28,
    "start_time": "2022-02-17T05:51:12.898Z"
   },
   {
    "duration": 13,
    "start_time": "2022-02-17T05:58:50.492Z"
   },
   {
    "duration": 373,
    "start_time": "2022-02-17T06:00:09.726Z"
   },
   {
    "duration": 7,
    "start_time": "2022-02-17T06:00:26.273Z"
   },
   {
    "duration": 13,
    "start_time": "2022-02-17T06:01:06.020Z"
   },
   {
    "duration": 11,
    "start_time": "2022-02-17T06:01:47.071Z"
   },
   {
    "duration": 183,
    "start_time": "2022-02-18T13:44:38.159Z"
   },
   {
    "duration": 1101,
    "start_time": "2022-02-18T13:44:47.115Z"
   },
   {
    "duration": 31,
    "start_time": "2022-02-18T13:44:48.218Z"
   },
   {
    "duration": 10,
    "start_time": "2022-02-18T13:44:48.251Z"
   },
   {
    "duration": 29,
    "start_time": "2022-02-18T13:44:48.262Z"
   },
   {
    "duration": 12,
    "start_time": "2022-02-18T13:44:48.292Z"
   },
   {
    "duration": 25,
    "start_time": "2022-02-18T13:44:48.305Z"
   },
   {
    "duration": 225,
    "start_time": "2022-02-18T13:44:53.148Z"
   },
   {
    "duration": 182,
    "start_time": "2022-02-18T13:45:03.566Z"
   },
   {
    "duration": 128,
    "start_time": "2022-02-18T13:45:11.975Z"
   },
   {
    "duration": 1022,
    "start_time": "2022-02-18T13:45:19.796Z"
   },
   {
    "duration": 33,
    "start_time": "2022-02-18T13:45:20.820Z"
   },
   {
    "duration": 10,
    "start_time": "2022-02-18T13:45:20.855Z"
   },
   {
    "duration": 30,
    "start_time": "2022-02-18T13:45:20.866Z"
   },
   {
    "duration": 32,
    "start_time": "2022-02-18T13:45:20.898Z"
   },
   {
    "duration": 4,
    "start_time": "2022-02-18T13:45:20.932Z"
   },
   {
    "duration": 7,
    "start_time": "2022-02-18T13:51:20.545Z"
   },
   {
    "duration": 4,
    "start_time": "2022-02-18T13:51:25.961Z"
   },
   {
    "duration": 6,
    "start_time": "2022-02-18T13:54:04.862Z"
   },
   {
    "duration": 5,
    "start_time": "2022-02-18T13:54:17.585Z"
   },
   {
    "duration": 229,
    "start_time": "2022-02-18T13:54:53.398Z"
   },
   {
    "duration": 8,
    "start_time": "2022-02-18T13:55:17.240Z"
   },
   {
    "duration": 10,
    "start_time": "2022-02-18T14:00:03.199Z"
   },
   {
    "duration": 126,
    "start_time": "2022-02-18T14:00:18.693Z"
   },
   {
    "duration": 9,
    "start_time": "2022-02-18T14:00:24.869Z"
   },
   {
    "duration": 9,
    "start_time": "2022-02-18T14:03:05.522Z"
   },
   {
    "duration": 9,
    "start_time": "2022-02-18T14:03:29.842Z"
   },
   {
    "duration": 22,
    "start_time": "2022-02-18T14:03:54.329Z"
   },
   {
    "duration": 2,
    "start_time": "2022-02-18T14:04:19.464Z"
   },
   {
    "duration": 9,
    "start_time": "2022-02-18T14:04:24.470Z"
   },
   {
    "duration": 10,
    "start_time": "2022-02-18T14:04:28.242Z"
   },
   {
    "duration": 1047,
    "start_time": "2022-02-18T14:04:34.663Z"
   },
   {
    "duration": 36,
    "start_time": "2022-02-18T14:04:35.712Z"
   },
   {
    "duration": 10,
    "start_time": "2022-02-18T14:04:35.750Z"
   },
   {
    "duration": 31,
    "start_time": "2022-02-18T14:04:35.761Z"
   },
   {
    "duration": 11,
    "start_time": "2022-02-18T14:04:35.793Z"
   },
   {
    "duration": 27,
    "start_time": "2022-02-18T14:04:35.805Z"
   },
   {
    "duration": 6,
    "start_time": "2022-02-18T14:04:35.834Z"
   },
   {
    "duration": 11,
    "start_time": "2022-02-18T14:04:35.842Z"
   },
   {
    "duration": 12,
    "start_time": "2022-02-18T14:04:35.854Z"
   },
   {
    "duration": 2,
    "start_time": "2022-02-18T14:04:35.867Z"
   },
   {
    "duration": 229,
    "start_time": "2022-02-18T14:04:35.871Z"
   },
   {
    "duration": 10,
    "start_time": "2022-02-18T14:04:43.584Z"
   },
   {
    "duration": 22,
    "start_time": "2022-02-18T14:04:50.796Z"
   },
   {
    "duration": 14,
    "start_time": "2022-02-18T14:05:26.471Z"
   },
   {
    "duration": 9,
    "start_time": "2022-02-18T14:08:26.623Z"
   },
   {
    "duration": 4,
    "start_time": "2022-02-18T14:08:28.557Z"
   },
   {
    "duration": 9,
    "start_time": "2022-02-18T14:08:41.261Z"
   },
   {
    "duration": 6,
    "start_time": "2022-02-18T14:09:18.267Z"
   },
   {
    "duration": 7,
    "start_time": "2022-02-18T14:09:28.957Z"
   },
   {
    "duration": 19,
    "start_time": "2022-02-18T14:12:22.697Z"
   },
   {
    "duration": 7,
    "start_time": "2022-02-18T14:15:28.872Z"
   },
   {
    "duration": 6,
    "start_time": "2022-02-18T14:15:36.377Z"
   },
   {
    "duration": 7,
    "start_time": "2022-02-18T14:15:58.615Z"
   },
   {
    "duration": 16,
    "start_time": "2022-02-18T14:17:38.634Z"
   },
   {
    "duration": 16,
    "start_time": "2022-02-18T14:17:46.724Z"
   },
   {
    "duration": 12,
    "start_time": "2022-02-18T14:22:40.419Z"
   },
   {
    "duration": 16,
    "start_time": "2022-02-18T14:23:19.106Z"
   },
   {
    "duration": 354,
    "start_time": "2022-02-19T09:39:30.675Z"
   },
   {
    "duration": 1064,
    "start_time": "2022-02-19T09:39:36.874Z"
   },
   {
    "duration": 45,
    "start_time": "2022-02-19T09:39:37.939Z"
   },
   {
    "duration": 9,
    "start_time": "2022-02-19T09:39:37.986Z"
   },
   {
    "duration": 28,
    "start_time": "2022-02-19T09:39:37.997Z"
   },
   {
    "duration": 11,
    "start_time": "2022-02-19T09:39:38.026Z"
   },
   {
    "duration": 8,
    "start_time": "2022-02-19T09:39:38.038Z"
   },
   {
    "duration": 6,
    "start_time": "2022-02-19T09:39:38.047Z"
   },
   {
    "duration": 7,
    "start_time": "2022-02-19T09:39:38.055Z"
   },
   {
    "duration": 8,
    "start_time": "2022-02-19T09:39:38.064Z"
   },
   {
    "duration": 3,
    "start_time": "2022-02-19T09:39:38.073Z"
   },
   {
    "duration": 15,
    "start_time": "2022-02-19T09:39:38.078Z"
   },
   {
    "duration": 7,
    "start_time": "2022-02-19T09:39:38.094Z"
   },
   {
    "duration": 6,
    "start_time": "2022-02-19T09:39:38.102Z"
   },
   {
    "duration": 49,
    "start_time": "2022-02-19T09:39:38.109Z"
   },
   {
    "duration": 11,
    "start_time": "2022-02-19T09:39:38.159Z"
   },
   {
    "duration": 203,
    "start_time": "2022-02-19T09:40:51.355Z"
   },
   {
    "duration": 187,
    "start_time": "2022-02-19T09:41:00.845Z"
   },
   {
    "duration": 13,
    "start_time": "2022-02-19T09:41:11.263Z"
   },
   {
    "duration": 577,
    "start_time": "2022-02-19T09:52:48.823Z"
   },
   {
    "duration": 389,
    "start_time": "2022-02-19T09:53:00.466Z"
   },
   {
    "duration": 291,
    "start_time": "2022-02-19T09:54:43.133Z"
   },
   {
    "duration": 292,
    "start_time": "2022-02-19T09:55:42.876Z"
   },
   {
    "duration": 1131,
    "start_time": "2022-02-19T09:56:11.685Z"
   },
   {
    "duration": 449,
    "start_time": "2022-02-19T09:56:21.503Z"
   },
   {
    "duration": 454,
    "start_time": "2022-02-19T09:56:47.431Z"
   },
   {
    "duration": 401,
    "start_time": "2022-02-19T09:56:54.835Z"
   },
   {
    "duration": 480,
    "start_time": "2022-02-19T09:57:01.401Z"
   },
   {
    "duration": 291,
    "start_time": "2022-02-19T09:57:47.779Z"
   },
   {
    "duration": 407,
    "start_time": "2022-02-19T09:58:10.539Z"
   },
   {
    "duration": 337,
    "start_time": "2022-02-19T10:01:01.693Z"
   },
   {
    "duration": 3078,
    "start_time": "2022-02-19T10:01:47.336Z"
   },
   {
    "duration": 3460,
    "start_time": "2022-02-19T10:02:02.222Z"
   },
   {
    "duration": 50,
    "start_time": "2022-02-19T10:02:45.456Z"
   },
   {
    "duration": 35,
    "start_time": "2022-02-19T10:03:37.179Z"
   },
   {
    "duration": 19,
    "start_time": "2022-02-19T10:04:42.235Z"
   },
   {
    "duration": 13,
    "start_time": "2022-02-19T10:05:12.092Z"
   },
   {
    "duration": 298,
    "start_time": "2022-02-19T10:05:31.615Z"
   },
   {
    "duration": 523,
    "start_time": "2022-02-19T10:06:40.385Z"
   },
   {
    "duration": 184,
    "start_time": "2022-02-19T10:06:48.028Z"
   },
   {
    "duration": 300,
    "start_time": "2022-02-19T10:08:07.481Z"
   },
   {
    "duration": 421,
    "start_time": "2022-02-19T10:08:54.590Z"
   },
   {
    "duration": 304,
    "start_time": "2022-02-19T10:11:13.206Z"
   },
   {
    "duration": 186,
    "start_time": "2022-02-19T10:16:03.770Z"
   },
   {
    "duration": 296,
    "start_time": "2022-02-19T10:20:51.402Z"
   },
   {
    "duration": 241,
    "start_time": "2022-02-19T14:50:57.215Z"
   },
   {
    "duration": 1392,
    "start_time": "2022-02-19T14:51:03.999Z"
   },
   {
    "duration": 42,
    "start_time": "2022-02-19T14:51:05.394Z"
   },
   {
    "duration": 14,
    "start_time": "2022-02-19T14:51:05.440Z"
   },
   {
    "duration": 64,
    "start_time": "2022-02-19T14:51:05.457Z"
   },
   {
    "duration": 19,
    "start_time": "2022-02-19T14:51:05.525Z"
   },
   {
    "duration": 7,
    "start_time": "2022-02-19T14:51:05.546Z"
   },
   {
    "duration": 8,
    "start_time": "2022-02-19T14:51:05.555Z"
   },
   {
    "duration": 10,
    "start_time": "2022-02-19T14:51:05.567Z"
   },
   {
    "duration": 46,
    "start_time": "2022-02-19T14:51:05.579Z"
   },
   {
    "duration": 4,
    "start_time": "2022-02-19T14:51:05.627Z"
   },
   {
    "duration": 33,
    "start_time": "2022-02-19T14:51:05.633Z"
   },
   {
    "duration": 10,
    "start_time": "2022-02-19T14:51:05.668Z"
   },
   {
    "duration": 20,
    "start_time": "2022-02-19T14:51:05.679Z"
   },
   {
    "duration": 38,
    "start_time": "2022-02-19T14:51:05.701Z"
   },
   {
    "duration": 517,
    "start_time": "2022-02-19T14:51:05.741Z"
   },
   {
    "duration": 66,
    "start_time": "2022-02-19T14:51:06.260Z"
   },
   {
    "duration": -745,
    "start_time": "2022-02-19T14:51:07.074Z"
   },
   {
    "duration": 370,
    "start_time": "2022-02-19T14:51:15.748Z"
   },
   {
    "duration": 22,
    "start_time": "2022-02-19T14:51:18.821Z"
   },
   {
    "duration": 3816,
    "start_time": "2022-02-19T14:52:03.938Z"
   },
   {
    "duration": 3695,
    "start_time": "2022-02-19T14:52:42.665Z"
   },
   {
    "duration": 344,
    "start_time": "2022-02-19T14:54:36.006Z"
   },
   {
    "duration": 432,
    "start_time": "2022-02-19T14:55:10.427Z"
   },
   {
    "duration": 10,
    "start_time": "2022-02-19T14:55:29.425Z"
   },
   {
    "duration": 21,
    "start_time": "2022-02-19T14:55:44.545Z"
   },
   {
    "duration": 361,
    "start_time": "2022-02-19T14:56:08.129Z"
   },
   {
    "duration": 627,
    "start_time": "2022-02-19T14:56:53.671Z"
   },
   {
    "duration": 463,
    "start_time": "2022-02-19T14:57:13.220Z"
   },
   {
    "duration": 208,
    "start_time": "2022-02-19T14:57:32.088Z"
   },
   {
    "duration": 3790,
    "start_time": "2022-02-19T14:57:37.213Z"
   },
   {
    "duration": 14,
    "start_time": "2022-02-19T14:59:34.014Z"
   },
   {
    "duration": 12,
    "start_time": "2022-02-19T15:00:14.395Z"
   },
   {
    "duration": 13,
    "start_time": "2022-02-19T15:00:50.315Z"
   },
   {
    "duration": 18,
    "start_time": "2022-02-19T15:00:55.456Z"
   },
   {
    "duration": 20,
    "start_time": "2022-02-19T15:01:40.621Z"
   },
   {
    "duration": 24,
    "start_time": "2022-02-19T15:01:54.920Z"
   },
   {
    "duration": 23,
    "start_time": "2022-02-19T15:02:01.503Z"
   },
   {
    "duration": 27,
    "start_time": "2022-02-19T15:02:19.112Z"
   },
   {
    "duration": 355,
    "start_time": "2022-02-19T15:04:13.639Z"
   },
   {
    "duration": 371,
    "start_time": "2022-02-19T15:04:48.472Z"
   },
   {
    "duration": 4,
    "start_time": "2022-02-19T15:12:09.342Z"
   },
   {
    "duration": 3,
    "start_time": "2022-02-19T15:12:10.662Z"
   },
   {
    "duration": 3,
    "start_time": "2022-02-19T15:13:58.182Z"
   },
   {
    "duration": 45,
    "start_time": "2022-02-19T15:13:58.187Z"
   },
   {
    "duration": 10,
    "start_time": "2022-02-19T15:13:58.234Z"
   },
   {
    "duration": 27,
    "start_time": "2022-02-19T15:13:58.246Z"
   },
   {
    "duration": 12,
    "start_time": "2022-02-19T15:13:58.276Z"
   },
   {
    "duration": 29,
    "start_time": "2022-02-19T15:13:58.290Z"
   },
   {
    "duration": 6,
    "start_time": "2022-02-19T15:13:58.322Z"
   },
   {
    "duration": 12,
    "start_time": "2022-02-19T15:13:58.329Z"
   },
   {
    "duration": 9,
    "start_time": "2022-02-19T15:13:58.343Z"
   },
   {
    "duration": 9,
    "start_time": "2022-02-19T15:13:58.354Z"
   },
   {
    "duration": 15,
    "start_time": "2022-02-19T15:13:58.364Z"
   },
   {
    "duration": 8,
    "start_time": "2022-02-19T15:13:58.381Z"
   },
   {
    "duration": 7,
    "start_time": "2022-02-19T15:13:58.419Z"
   },
   {
    "duration": 17,
    "start_time": "2022-02-19T15:13:58.428Z"
   },
   {
    "duration": 382,
    "start_time": "2022-02-19T15:13:58.446Z"
   },
   {
    "duration": 589,
    "start_time": "2022-02-19T15:13:58.829Z"
   },
   {
    "duration": 20,
    "start_time": "2022-02-19T15:13:59.420Z"
   },
   {
    "duration": 4066,
    "start_time": "2022-02-19T15:13:59.441Z"
   },
   {
    "duration": 366,
    "start_time": "2022-02-19T15:16:18.255Z"
   },
   {
    "duration": 453,
    "start_time": "2022-02-19T15:16:42.218Z"
   },
   {
    "duration": 616,
    "start_time": "2022-02-19T15:16:47.937Z"
   },
   {
    "duration": 422,
    "start_time": "2022-02-19T15:17:16.515Z"
   },
   {
    "duration": 525,
    "start_time": "2022-02-19T15:17:31.969Z"
   },
   {
    "duration": 508,
    "start_time": "2022-02-19T15:17:42.712Z"
   },
   {
    "duration": 399,
    "start_time": "2022-02-19T15:19:12.881Z"
   },
   {
    "duration": 401,
    "start_time": "2022-02-19T15:19:24.658Z"
   },
   {
    "duration": 1475,
    "start_time": "2022-02-20T18:13:05.828Z"
   },
   {
    "duration": 36,
    "start_time": "2022-02-20T18:13:07.306Z"
   },
   {
    "duration": 12,
    "start_time": "2022-02-20T18:13:07.345Z"
   },
   {
    "duration": 31,
    "start_time": "2022-02-20T18:13:07.360Z"
   },
   {
    "duration": 13,
    "start_time": "2022-02-20T18:13:07.393Z"
   },
   {
    "duration": 5,
    "start_time": "2022-02-20T18:13:07.408Z"
   },
   {
    "duration": 7,
    "start_time": "2022-02-20T18:13:07.415Z"
   },
   {
    "duration": 9,
    "start_time": "2022-02-20T18:13:07.425Z"
   },
   {
    "duration": 10,
    "start_time": "2022-02-20T18:13:07.459Z"
   },
   {
    "duration": 9,
    "start_time": "2022-02-20T18:13:07.471Z"
   },
   {
    "duration": 18,
    "start_time": "2022-02-20T18:13:07.482Z"
   },
   {
    "duration": 8,
    "start_time": "2022-02-20T18:13:07.501Z"
   },
   {
    "duration": 8,
    "start_time": "2022-02-20T18:13:07.511Z"
   },
   {
    "duration": 46,
    "start_time": "2022-02-20T18:13:07.521Z"
   },
   {
    "duration": 452,
    "start_time": "2022-02-20T18:13:07.569Z"
   },
   {
    "duration": 404,
    "start_time": "2022-02-20T18:13:08.023Z"
   },
   {
    "duration": 534,
    "start_time": "2022-02-20T18:19:31.278Z"
   },
   {
    "duration": 727,
    "start_time": "2022-02-20T18:21:03.690Z"
   },
   {
    "duration": 22647,
    "start_time": "2022-02-20T18:21:58.188Z"
   },
   {
    "duration": 14,
    "start_time": "2022-02-20T18:23:41.777Z"
   },
   {
    "duration": 23,
    "start_time": "2022-02-20T18:23:59.631Z"
   },
   {
    "duration": 59,
    "start_time": "2022-02-20T18:24:51.412Z"
   },
   {
    "duration": 14,
    "start_time": "2022-02-20T18:24:59.697Z"
   },
   {
    "duration": 1120,
    "start_time": "2022-02-20T18:27:26.126Z"
   },
   {
    "duration": 12001,
    "start_time": "2022-02-20T18:28:14.936Z"
   },
   {
    "duration": 186,
    "start_time": "2022-02-20T18:29:08.503Z"
   },
   {
    "duration": 274,
    "start_time": "2022-02-20T18:29:53.606Z"
   },
   {
    "duration": 44,
    "start_time": "2022-02-20T18:30:23.500Z"
   },
   {
    "duration": 161,
    "start_time": "2022-02-20T18:30:36.570Z"
   },
   {
    "duration": 17,
    "start_time": "2022-02-20T18:30:47.924Z"
   },
   {
    "duration": 143,
    "start_time": "2022-02-20T18:33:28.050Z"
   },
   {
    "duration": 1530,
    "start_time": "2022-02-20T18:33:37.175Z"
   },
   {
    "duration": 16,
    "start_time": "2022-02-20T18:34:25.842Z"
   },
   {
    "duration": 668,
    "start_time": "2022-02-20T18:36:35.218Z"
   },
   {
    "duration": 157,
    "start_time": "2022-02-20T18:38:03.376Z"
   },
   {
    "duration": 1185,
    "start_time": "2022-02-20T18:38:14.010Z"
   },
   {
    "duration": 1124,
    "start_time": "2022-02-20T18:38:38.474Z"
   },
   {
    "duration": 1162,
    "start_time": "2022-02-20T18:38:51.070Z"
   },
   {
    "duration": 1715,
    "start_time": "2022-02-20T18:42:17.634Z"
   },
   {
    "duration": 1620,
    "start_time": "2022-02-20T18:43:48.386Z"
   },
   {
    "duration": 223,
    "start_time": "2022-02-20T18:46:04.344Z"
   },
   {
    "duration": 145,
    "start_time": "2022-02-20T18:46:29.814Z"
   },
   {
    "duration": 208,
    "start_time": "2022-02-20T18:46:34.128Z"
   },
   {
    "duration": 165,
    "start_time": "2022-02-20T18:46:47.985Z"
   },
   {
    "duration": 142,
    "start_time": "2022-02-20T18:46:54.211Z"
   },
   {
    "duration": 147,
    "start_time": "2022-02-20T18:47:10.978Z"
   },
   {
    "duration": 43,
    "start_time": "2022-02-20T18:50:53.391Z"
   },
   {
    "duration": 426,
    "start_time": "2022-02-20T18:51:05.604Z"
   },
   {
    "duration": 811,
    "start_time": "2022-02-20T18:51:23.876Z"
   },
   {
    "duration": 693,
    "start_time": "2022-02-20T18:51:53.068Z"
   },
   {
    "duration": 855,
    "start_time": "2022-02-20T18:52:10.984Z"
   },
   {
    "duration": 715,
    "start_time": "2022-02-20T18:52:20.106Z"
   },
   {
    "duration": 777,
    "start_time": "2022-02-20T18:52:25.628Z"
   },
   {
    "duration": 1667,
    "start_time": "2022-02-20T18:54:04.405Z"
   },
   {
    "duration": 478,
    "start_time": "2022-02-20T18:54:28.044Z"
   },
   {
    "duration": 580,
    "start_time": "2022-02-20T18:54:50.159Z"
   },
   {
    "duration": 468,
    "start_time": "2022-02-20T18:55:03.090Z"
   },
   {
    "duration": 1722,
    "start_time": "2022-02-20T18:56:00.869Z"
   },
   {
    "duration": 756,
    "start_time": "2022-02-20T18:56:07.349Z"
   },
   {
    "duration": 791,
    "start_time": "2022-02-20T18:56:34.593Z"
   },
   {
    "duration": 794,
    "start_time": "2022-02-20T18:56:46.165Z"
   },
   {
    "duration": 835,
    "start_time": "2022-02-20T18:58:02.337Z"
   },
   {
    "duration": 915,
    "start_time": "2022-02-20T18:58:07.533Z"
   },
   {
    "duration": 1044,
    "start_time": "2022-02-20T18:58:50.462Z"
   },
   {
    "duration": 969,
    "start_time": "2022-02-20T18:58:59.785Z"
   },
   {
    "duration": 1521,
    "start_time": "2022-02-20T18:59:31.787Z"
   },
   {
    "duration": 1153,
    "start_time": "2022-02-20T18:59:39.431Z"
   },
   {
    "duration": 703,
    "start_time": "2022-02-20T18:59:43.858Z"
   },
   {
    "duration": 876,
    "start_time": "2022-02-20T18:59:52.104Z"
   },
   {
    "duration": 901,
    "start_time": "2022-02-20T19:07:24.260Z"
   },
   {
    "duration": 17,
    "start_time": "2022-02-20T19:13:28.187Z"
   },
   {
    "duration": 257,
    "start_time": "2022-02-20T19:16:39.196Z"
   },
   {
    "duration": 273,
    "start_time": "2022-02-20T19:17:21.837Z"
   },
   {
    "duration": 149,
    "start_time": "2022-02-20T19:50:32.336Z"
   },
   {
    "duration": 134,
    "start_time": "2022-02-20T19:54:02.229Z"
   },
   {
    "duration": 128,
    "start_time": "2022-02-20T19:56:29.735Z"
   },
   {
    "duration": 454,
    "start_time": "2022-02-20T19:57:07.332Z"
   },
   {
    "duration": 377,
    "start_time": "2022-02-20T19:57:13.441Z"
   },
   {
    "duration": 318,
    "start_time": "2022-02-20T19:57:23.007Z"
   },
   {
    "duration": 427,
    "start_time": "2022-02-20T20:01:43.898Z"
   },
   {
    "duration": 2,
    "start_time": "2022-02-20T20:11:28.391Z"
   },
   {
    "duration": 20,
    "start_time": "2022-02-20T20:13:02.657Z"
   },
   {
    "duration": 7,
    "start_time": "2022-02-20T20:13:23.812Z"
   },
   {
    "duration": 20,
    "start_time": "2022-02-20T20:13:33.007Z"
   },
   {
    "duration": 143,
    "start_time": "2022-02-20T20:14:11.787Z"
   },
   {
    "duration": 20,
    "start_time": "2022-02-20T20:14:18.930Z"
   },
   {
    "duration": 26,
    "start_time": "2022-02-20T20:18:53.227Z"
   },
   {
    "duration": 25,
    "start_time": "2022-02-20T20:19:07.698Z"
   },
   {
    "duration": 19,
    "start_time": "2022-02-20T20:19:35.153Z"
   },
   {
    "duration": 1064,
    "start_time": "2022-02-20T20:41:51.968Z"
   },
   {
    "duration": 35,
    "start_time": "2022-02-20T20:41:53.034Z"
   },
   {
    "duration": 10,
    "start_time": "2022-02-20T20:41:53.071Z"
   },
   {
    "duration": 34,
    "start_time": "2022-02-20T20:41:53.083Z"
   },
   {
    "duration": 13,
    "start_time": "2022-02-20T20:41:53.119Z"
   },
   {
    "duration": 28,
    "start_time": "2022-02-20T20:41:53.133Z"
   },
   {
    "duration": 3,
    "start_time": "2022-02-20T20:41:53.163Z"
   },
   {
    "duration": 19,
    "start_time": "2022-02-20T20:41:53.168Z"
   },
   {
    "duration": 16,
    "start_time": "2022-02-20T20:41:53.189Z"
   },
   {
    "duration": 8,
    "start_time": "2022-02-20T20:41:53.207Z"
   },
   {
    "duration": 17,
    "start_time": "2022-02-20T20:41:53.217Z"
   },
   {
    "duration": 29,
    "start_time": "2022-02-20T20:41:53.236Z"
   },
   {
    "duration": 9,
    "start_time": "2022-02-20T20:41:53.267Z"
   },
   {
    "duration": 7,
    "start_time": "2022-02-20T20:41:53.278Z"
   },
   {
    "duration": 17,
    "start_time": "2022-02-20T20:41:53.287Z"
   },
   {
    "duration": 474,
    "start_time": "2022-02-20T20:41:53.306Z"
   },
   {
    "duration": 388,
    "start_time": "2022-02-20T20:41:53.783Z"
   },
   {
    "duration": 1767,
    "start_time": "2022-02-20T20:41:54.174Z"
   },
   {
    "duration": 923,
    "start_time": "2022-02-20T20:41:55.944Z"
   },
   {
    "duration": 22,
    "start_time": "2022-02-20T20:41:56.870Z"
   },
   {
    "duration": 303,
    "start_time": "2022-02-20T20:41:56.894Z"
   },
   {
    "duration": 465,
    "start_time": "2022-02-20T20:41:57.199Z"
   },
   {
    "duration": 2,
    "start_time": "2022-02-20T20:41:57.667Z"
   },
   {
    "duration": 300,
    "start_time": "2022-02-20T20:47:29.847Z"
   },
   {
    "duration": 10,
    "start_time": "2022-02-20T20:49:18.264Z"
   },
   {
    "duration": 10,
    "start_time": "2022-02-20T20:49:47.339Z"
   },
   {
    "duration": 254,
    "start_time": "2022-02-20T20:51:51.404Z"
   },
   {
    "duration": 1141,
    "start_time": "2022-02-20T20:55:22.184Z"
   },
   {
    "duration": 40,
    "start_time": "2022-02-20T20:55:23.327Z"
   },
   {
    "duration": 12,
    "start_time": "2022-02-20T20:55:23.369Z"
   },
   {
    "duration": 32,
    "start_time": "2022-02-20T20:55:23.383Z"
   },
   {
    "duration": 12,
    "start_time": "2022-02-20T20:55:23.417Z"
   },
   {
    "duration": 31,
    "start_time": "2022-02-20T20:55:23.431Z"
   },
   {
    "duration": 8,
    "start_time": "2022-02-20T20:55:23.463Z"
   },
   {
    "duration": 10,
    "start_time": "2022-02-20T20:55:23.474Z"
   },
   {
    "duration": 10,
    "start_time": "2022-02-20T20:55:23.486Z"
   },
   {
    "duration": 8,
    "start_time": "2022-02-20T20:55:23.498Z"
   },
   {
    "duration": 18,
    "start_time": "2022-02-20T20:55:23.508Z"
   },
   {
    "duration": 33,
    "start_time": "2022-02-20T20:55:23.528Z"
   },
   {
    "duration": 9,
    "start_time": "2022-02-20T20:55:23.563Z"
   },
   {
    "duration": 26,
    "start_time": "2022-02-20T20:55:23.574Z"
   },
   {
    "duration": 6,
    "start_time": "2022-02-20T20:55:23.601Z"
   },
   {
    "duration": 19,
    "start_time": "2022-02-20T20:55:23.608Z"
   },
   {
    "duration": 507,
    "start_time": "2022-02-20T20:55:23.629Z"
   },
   {
    "duration": 398,
    "start_time": "2022-02-20T20:55:24.138Z"
   },
   {
    "duration": 1770,
    "start_time": "2022-02-20T20:55:24.538Z"
   },
   {
    "duration": 892,
    "start_time": "2022-02-20T20:55:26.309Z"
   },
   {
    "duration": 20,
    "start_time": "2022-02-20T20:55:27.202Z"
   },
   {
    "duration": 284,
    "start_time": "2022-02-20T20:55:27.223Z"
   },
   {
    "duration": 455,
    "start_time": "2022-02-20T20:55:27.510Z"
   },
   {
    "duration": 280,
    "start_time": "2022-02-20T20:55:27.966Z"
   },
   {
    "duration": 18,
    "start_time": "2022-02-20T20:55:28.248Z"
   },
   {
    "duration": 272,
    "start_time": "2022-02-20T20:55:28.268Z"
   },
   {
    "duration": 8,
    "start_time": "2022-02-20T20:55:57.526Z"
   },
   {
    "duration": 10,
    "start_time": "2022-02-20T20:56:11.106Z"
   },
   {
    "duration": 28,
    "start_time": "2022-02-20T20:56:35.962Z"
   },
   {
    "duration": 11,
    "start_time": "2022-02-20T20:56:36.996Z"
   },
   {
    "duration": 28,
    "start_time": "2022-02-20T20:57:23.004Z"
   },
   {
    "duration": 147,
    "start_time": "2022-02-20T20:57:28.654Z"
   },
   {
    "duration": 1146,
    "start_time": "2022-02-20T20:58:12.085Z"
   },
   {
    "duration": 36,
    "start_time": "2022-02-20T20:58:13.233Z"
   },
   {
    "duration": 11,
    "start_time": "2022-02-20T20:58:13.271Z"
   },
   {
    "duration": 33,
    "start_time": "2022-02-20T20:58:13.283Z"
   },
   {
    "duration": 13,
    "start_time": "2022-02-20T20:58:13.318Z"
   },
   {
    "duration": 4,
    "start_time": "2022-02-20T20:58:13.360Z"
   },
   {
    "duration": 6,
    "start_time": "2022-02-20T20:58:13.366Z"
   },
   {
    "duration": 12,
    "start_time": "2022-02-20T20:58:13.375Z"
   },
   {
    "duration": 11,
    "start_time": "2022-02-20T20:58:13.389Z"
   },
   {
    "duration": 10,
    "start_time": "2022-02-20T20:58:13.402Z"
   },
   {
    "duration": 49,
    "start_time": "2022-02-20T20:58:13.413Z"
   },
   {
    "duration": 9,
    "start_time": "2022-02-20T20:58:13.464Z"
   },
   {
    "duration": 16,
    "start_time": "2022-02-20T20:58:13.475Z"
   },
   {
    "duration": 31,
    "start_time": "2022-02-20T20:58:13.492Z"
   },
   {
    "duration": 5,
    "start_time": "2022-02-20T20:58:13.525Z"
   },
   {
    "duration": 46,
    "start_time": "2022-02-20T20:58:13.532Z"
   },
   {
    "duration": 456,
    "start_time": "2022-02-20T20:58:13.580Z"
   },
   {
    "duration": 401,
    "start_time": "2022-02-20T20:58:14.038Z"
   },
   {
    "duration": 1775,
    "start_time": "2022-02-20T20:58:14.441Z"
   },
   {
    "duration": 877,
    "start_time": "2022-02-20T20:58:16.218Z"
   },
   {
    "duration": 19,
    "start_time": "2022-02-20T20:58:17.096Z"
   },
   {
    "duration": 281,
    "start_time": "2022-02-20T20:58:17.117Z"
   },
   {
    "duration": 469,
    "start_time": "2022-02-20T20:58:17.401Z"
   },
   {
    "duration": 287,
    "start_time": "2022-02-20T20:58:17.872Z"
   },
   {
    "duration": 10,
    "start_time": "2022-02-20T20:58:18.161Z"
   },
   {
    "duration": 279,
    "start_time": "2022-02-20T20:58:18.172Z"
   },
   {
    "duration": 10,
    "start_time": "2022-02-20T20:59:42.711Z"
   },
   {
    "duration": 1216,
    "start_time": "2022-02-25T06:42:42.620Z"
   },
   {
    "duration": 35,
    "start_time": "2022-02-25T06:42:43.838Z"
   },
   {
    "duration": 11,
    "start_time": "2022-02-25T06:42:43.876Z"
   },
   {
    "duration": 47,
    "start_time": "2022-02-25T06:42:43.889Z"
   },
   {
    "duration": 13,
    "start_time": "2022-02-25T06:42:43.939Z"
   },
   {
    "duration": 14,
    "start_time": "2022-02-25T06:42:43.954Z"
   },
   {
    "duration": 5,
    "start_time": "2022-02-25T06:42:43.970Z"
   },
   {
    "duration": 31,
    "start_time": "2022-02-25T06:42:43.977Z"
   },
   {
    "duration": 12,
    "start_time": "2022-02-25T06:42:44.011Z"
   },
   {
    "duration": 14,
    "start_time": "2022-02-25T06:42:44.025Z"
   },
   {
    "duration": 19,
    "start_time": "2022-02-25T06:42:44.042Z"
   },
   {
    "duration": 11,
    "start_time": "2022-02-25T06:42:44.063Z"
   },
   {
    "duration": 46,
    "start_time": "2022-02-25T06:42:44.075Z"
   },
   {
    "duration": 32,
    "start_time": "2022-02-25T06:42:44.123Z"
   },
   {
    "duration": 6,
    "start_time": "2022-02-25T06:42:44.157Z"
   },
   {
    "duration": 22,
    "start_time": "2022-02-25T06:42:44.165Z"
   },
   {
    "duration": 494,
    "start_time": "2022-02-25T06:42:44.208Z"
   },
   {
    "duration": 433,
    "start_time": "2022-02-25T06:42:44.708Z"
   },
   {
    "duration": 1870,
    "start_time": "2022-02-25T06:42:45.143Z"
   },
   {
    "duration": 975,
    "start_time": "2022-02-25T06:42:47.015Z"
   },
   {
    "duration": 33,
    "start_time": "2022-02-25T06:42:47.993Z"
   },
   {
    "duration": 315,
    "start_time": "2022-02-25T06:42:48.028Z"
   },
   {
    "duration": 508,
    "start_time": "2022-02-25T06:42:48.347Z"
   },
   {
    "duration": 291,
    "start_time": "2022-02-25T06:42:48.857Z"
   },
   {
    "duration": 11,
    "start_time": "2022-02-25T06:42:49.151Z"
   },
   {
    "duration": 414,
    "start_time": "2022-02-25T06:42:49.164Z"
   },
   {
    "duration": 13,
    "start_time": "2022-02-25T06:42:49.580Z"
   },
   {
    "duration": 26,
    "start_time": "2022-02-25T06:42:49.595Z"
   },
   {
    "duration": 6,
    "start_time": "2022-02-25T06:46:32.013Z"
   },
   {
    "duration": 41,
    "start_time": "2022-02-25T06:47:39.399Z"
   },
   {
    "duration": 46,
    "start_time": "2022-02-25T06:51:14.961Z"
   },
   {
    "duration": 230,
    "start_time": "2022-02-25T06:54:42.807Z"
   },
   {
    "duration": 210,
    "start_time": "2022-02-25T06:56:24.417Z"
   },
   {
    "duration": 414,
    "start_time": "2022-02-25T07:08:38.534Z"
   },
   {
    "duration": 672,
    "start_time": "2022-02-25T07:08:51.550Z"
   },
   {
    "duration": 336,
    "start_time": "2022-02-25T07:09:39.567Z"
   },
   {
    "duration": 736,
    "start_time": "2022-02-25T07:11:32.315Z"
   },
   {
    "duration": 863,
    "start_time": "2022-02-25T07:18:22.749Z"
   },
   {
    "duration": 734,
    "start_time": "2022-02-25T07:22:14.594Z"
   },
   {
    "duration": 831,
    "start_time": "2022-02-25T07:23:28.942Z"
   },
   {
    "duration": 70,
    "start_time": "2022-02-25T08:23:09.666Z"
   },
   {
    "duration": 29,
    "start_time": "2022-02-25T08:23:18.990Z"
   },
   {
    "duration": 12,
    "start_time": "2022-02-25T08:23:48.645Z"
   },
   {
    "duration": 18,
    "start_time": "2022-02-25T08:24:00.597Z"
   },
   {
    "duration": 3061,
    "start_time": "2022-02-25T08:52:14.688Z"
   },
   {
    "duration": 77,
    "start_time": "2022-02-25T08:52:49.827Z"
   },
   {
    "duration": 12,
    "start_time": "2022-02-25T08:53:48.471Z"
   },
   {
    "duration": 67,
    "start_time": "2022-02-25T08:54:00.428Z"
   },
   {
    "duration": 2496,
    "start_time": "2022-02-25T08:54:10.101Z"
   },
   {
    "duration": 13,
    "start_time": "2022-02-25T08:54:37.317Z"
   },
   {
    "duration": 6,
    "start_time": "2022-02-25T08:55:35.975Z"
   },
   {
    "duration": 13,
    "start_time": "2022-02-25T08:59:02.739Z"
   },
   {
    "duration": 6,
    "start_time": "2022-02-25T08:59:29.161Z"
   },
   {
    "duration": 1144,
    "start_time": "2022-02-25T09:02:44.722Z"
   },
   {
    "duration": 45,
    "start_time": "2022-02-25T09:02:45.868Z"
   },
   {
    "duration": 12,
    "start_time": "2022-02-25T09:02:45.918Z"
   },
   {
    "duration": 48,
    "start_time": "2022-02-25T09:02:45.932Z"
   },
   {
    "duration": 15,
    "start_time": "2022-02-25T09:02:45.981Z"
   },
   {
    "duration": 8,
    "start_time": "2022-02-25T09:02:45.998Z"
   },
   {
    "duration": 6,
    "start_time": "2022-02-25T09:02:46.009Z"
   },
   {
    "duration": 20,
    "start_time": "2022-02-25T09:02:46.017Z"
   },
   {
    "duration": 36,
    "start_time": "2022-02-25T09:02:46.039Z"
   },
   {
    "duration": 11,
    "start_time": "2022-02-25T09:02:46.077Z"
   },
   {
    "duration": 21,
    "start_time": "2022-02-25T09:02:46.090Z"
   },
   {
    "duration": 11,
    "start_time": "2022-02-25T09:02:46.113Z"
   },
   {
    "duration": 12,
    "start_time": "2022-02-25T09:02:46.125Z"
   },
   {
    "duration": 58,
    "start_time": "2022-02-25T09:02:46.139Z"
   },
   {
    "duration": 5,
    "start_time": "2022-02-25T09:02:46.199Z"
   },
   {
    "duration": 25,
    "start_time": "2022-02-25T09:02:46.206Z"
   },
   {
    "duration": 500,
    "start_time": "2022-02-25T09:02:46.233Z"
   },
   {
    "duration": 426,
    "start_time": "2022-02-25T09:02:46.736Z"
   },
   {
    "duration": 1926,
    "start_time": "2022-02-25T09:02:47.164Z"
   },
   {
    "duration": 978,
    "start_time": "2022-02-25T09:02:49.092Z"
   },
   {
    "duration": 25,
    "start_time": "2022-02-25T09:02:50.072Z"
   },
   {
    "duration": 320,
    "start_time": "2022-02-25T09:02:50.102Z"
   },
   {
    "duration": 495,
    "start_time": "2022-02-25T09:02:50.425Z"
   },
   {
    "duration": 295,
    "start_time": "2022-02-25T09:02:50.922Z"
   },
   {
    "duration": 10,
    "start_time": "2022-02-25T09:02:51.219Z"
   },
   {
    "duration": 328,
    "start_time": "2022-02-25T09:02:51.231Z"
   },
   {
    "duration": 15,
    "start_time": "2022-02-25T09:02:51.560Z"
   },
   {
    "duration": 40,
    "start_time": "2022-02-25T09:02:51.577Z"
   },
   {
    "duration": 66,
    "start_time": "2022-02-25T09:02:51.619Z"
   },
   {
    "duration": 231,
    "start_time": "2022-02-25T09:02:51.687Z"
   },
   {
    "duration": 220,
    "start_time": "2022-02-25T09:02:51.921Z"
   },
   {
    "duration": 863,
    "start_time": "2022-02-25T09:02:52.143Z"
   },
   {
    "duration": 791,
    "start_time": "2022-02-25T09:02:53.008Z"
   },
   {
    "duration": 759,
    "start_time": "2022-02-25T09:02:53.801Z"
   },
   {
    "duration": 20,
    "start_time": "2022-02-25T09:02:54.563Z"
   },
   {
    "duration": 26,
    "start_time": "2022-02-25T09:02:54.586Z"
   },
   {
    "duration": 44,
    "start_time": "2022-02-25T09:02:54.614Z"
   },
   {
    "duration": 28,
    "start_time": "2022-02-25T09:02:54.660Z"
   },
   {
    "duration": 1048,
    "start_time": "2022-03-06T17:12:35.497Z"
   },
   {
    "duration": 45,
    "start_time": "2022-03-06T17:12:36.546Z"
   },
   {
    "duration": 9,
    "start_time": "2022-03-06T17:12:36.593Z"
   },
   {
    "duration": 26,
    "start_time": "2022-03-06T17:12:36.603Z"
   },
   {
    "duration": 11,
    "start_time": "2022-03-06T17:12:36.630Z"
   },
   {
    "duration": 5,
    "start_time": "2022-03-06T17:12:36.642Z"
   },
   {
    "duration": 4,
    "start_time": "2022-03-06T17:12:36.648Z"
   },
   {
    "duration": 8,
    "start_time": "2022-03-06T17:12:36.654Z"
   },
   {
    "duration": 7,
    "start_time": "2022-03-06T17:12:36.664Z"
   },
   {
    "duration": 28,
    "start_time": "2022-03-06T17:12:36.673Z"
   },
   {
    "duration": 13,
    "start_time": "2022-03-06T17:12:36.702Z"
   },
   {
    "duration": 6,
    "start_time": "2022-03-06T17:12:36.717Z"
   },
   {
    "duration": 9,
    "start_time": "2022-03-06T17:12:36.724Z"
   },
   {
    "duration": 25,
    "start_time": "2022-03-06T17:12:36.734Z"
   },
   {
    "duration": 3,
    "start_time": "2022-03-06T17:12:36.761Z"
   },
   {
    "duration": 17,
    "start_time": "2022-03-06T17:12:36.766Z"
   },
   {
    "duration": 380,
    "start_time": "2022-03-06T17:12:36.801Z"
   },
   {
    "duration": 340,
    "start_time": "2022-03-06T17:12:37.183Z"
   },
   {
    "duration": 1462,
    "start_time": "2022-03-06T17:12:37.525Z"
   },
   {
    "duration": 742,
    "start_time": "2022-03-06T17:12:38.988Z"
   },
   {
    "duration": 16,
    "start_time": "2022-03-06T17:12:39.732Z"
   },
   {
    "duration": 239,
    "start_time": "2022-03-06T17:12:39.749Z"
   },
   {
    "duration": 397,
    "start_time": "2022-03-06T17:12:39.990Z"
   },
   {
    "duration": 293,
    "start_time": "2022-03-06T17:12:40.389Z"
   },
   {
    "duration": 19,
    "start_time": "2022-03-06T17:12:40.683Z"
   },
   {
    "duration": 259,
    "start_time": "2022-03-06T17:12:40.703Z"
   },
   {
    "duration": 8,
    "start_time": "2022-03-06T17:12:40.963Z"
   },
   {
    "duration": 43,
    "start_time": "2022-03-06T17:12:40.972Z"
   },
   {
    "duration": 27,
    "start_time": "2022-03-06T17:12:41.017Z"
   },
   {
    "duration": 191,
    "start_time": "2022-03-06T17:12:41.046Z"
   },
   {
    "duration": 171,
    "start_time": "2022-03-06T17:12:41.239Z"
   },
   {
    "duration": 666,
    "start_time": "2022-03-06T17:12:41.411Z"
   },
   {
    "duration": 617,
    "start_time": "2022-03-06T17:12:42.079Z"
   },
   {
    "duration": 600,
    "start_time": "2022-03-06T17:12:42.698Z"
   },
   {
    "duration": 9,
    "start_time": "2022-03-06T17:12:43.299Z"
   },
   {
    "duration": 4,
    "start_time": "2022-03-06T17:12:43.310Z"
   },
   {
    "duration": 10,
    "start_time": "2022-03-06T17:12:43.316Z"
   },
   {
    "duration": 4,
    "start_time": "2022-03-06T17:12:43.327Z"
   },
   {
    "duration": 527,
    "start_time": "2022-03-06T17:31:59.375Z"
   },
   {
    "duration": 524,
    "start_time": "2022-03-06T17:32:51.517Z"
   },
   {
    "duration": 300,
    "start_time": "2022-03-06T17:33:21.316Z"
   },
   {
    "duration": 905,
    "start_time": "2022-03-06T17:33:55.801Z"
   },
   {
    "duration": 891,
    "start_time": "2022-03-06T17:34:02.837Z"
   },
   {
    "duration": 806,
    "start_time": "2022-03-06T17:34:49.429Z"
   },
   {
    "duration": 693,
    "start_time": "2022-03-06T17:35:02.914Z"
   },
   {
    "duration": 1919,
    "start_time": "2022-03-06T17:35:10.908Z"
   },
   {
    "duration": 658,
    "start_time": "2022-03-06T17:35:16.856Z"
   },
   {
    "duration": 1338,
    "start_time": "2022-03-06T17:35:21.108Z"
   },
   {
    "duration": 643,
    "start_time": "2022-03-06T17:35:28.201Z"
   },
   {
    "duration": 1038,
    "start_time": "2022-03-06T17:36:53.903Z"
   },
   {
    "duration": 578,
    "start_time": "2022-03-06T17:37:24.737Z"
   },
   {
    "duration": 1017,
    "start_time": "2022-03-06T17:38:28.824Z"
   },
   {
    "duration": 563,
    "start_time": "2022-03-06T17:38:45.613Z"
   },
   {
    "duration": 575,
    "start_time": "2022-03-06T17:38:55.171Z"
   },
   {
    "duration": 673,
    "start_time": "2022-03-06T17:39:16.810Z"
   },
   {
    "duration": 322,
    "start_time": "2022-03-06T17:39:42.625Z"
   },
   {
    "duration": 381,
    "start_time": "2022-03-06T17:39:59.357Z"
   },
   {
    "duration": 412,
    "start_time": "2022-03-06T17:40:44.172Z"
   },
   {
    "duration": 720,
    "start_time": "2022-03-06T17:42:19.276Z"
   },
   {
    "duration": 447,
    "start_time": "2022-03-06T17:42:40.161Z"
   },
   {
    "duration": 1717,
    "start_time": "2022-03-06T17:45:53.940Z"
   },
   {
    "duration": 3556,
    "start_time": "2022-03-06T17:46:05.862Z"
   },
   {
    "duration": 3600,
    "start_time": "2022-03-06T17:46:29.090Z"
   },
   {
    "duration": 1021,
    "start_time": "2022-03-06T17:46:48.665Z"
   },
   {
    "duration": 1567,
    "start_time": "2022-03-06T17:47:00.898Z"
   },
   {
    "duration": 1067,
    "start_time": "2022-03-06T17:47:11.524Z"
   },
   {
    "duration": 2100,
    "start_time": "2022-03-06T17:47:33.587Z"
   },
   {
    "duration": 2045,
    "start_time": "2022-03-06T17:47:53.397Z"
   },
   {
    "duration": 3581,
    "start_time": "2022-03-06T17:48:02.269Z"
   },
   {
    "duration": 2147,
    "start_time": "2022-03-06T17:48:18.389Z"
   },
   {
    "duration": 1060,
    "start_time": "2022-03-06T17:48:31.789Z"
   },
   {
    "duration": 431,
    "start_time": "2022-03-06T17:50:10.244Z"
   },
   {
    "duration": 460,
    "start_time": "2022-03-06T17:50:32.372Z"
   },
   {
    "duration": 105,
    "start_time": "2022-03-07T17:02:13.254Z"
   },
   {
    "duration": 649,
    "start_time": "2022-03-07T17:36:17.550Z"
   },
   {
    "duration": 1578,
    "start_time": "2022-03-07T17:37:08.336Z"
   },
   {
    "duration": 67,
    "start_time": "2022-03-07T17:37:09.917Z"
   },
   {
    "duration": 18,
    "start_time": "2022-03-07T17:37:09.989Z"
   },
   {
    "duration": 67,
    "start_time": "2022-03-07T17:37:10.010Z"
   },
   {
    "duration": 19,
    "start_time": "2022-03-07T17:37:10.080Z"
   },
   {
    "duration": 33,
    "start_time": "2022-03-07T17:37:10.101Z"
   },
   {
    "duration": 4,
    "start_time": "2022-03-07T17:37:10.137Z"
   },
   {
    "duration": 15,
    "start_time": "2022-03-07T17:37:10.145Z"
   },
   {
    "duration": 14,
    "start_time": "2022-03-07T17:37:10.163Z"
   },
   {
    "duration": 70,
    "start_time": "2022-03-07T17:37:10.180Z"
   },
   {
    "duration": 30,
    "start_time": "2022-03-07T17:37:10.253Z"
   },
   {
    "duration": 12,
    "start_time": "2022-03-07T17:37:10.286Z"
   },
   {
    "duration": 31,
    "start_time": "2022-03-07T17:37:10.301Z"
   },
   {
    "duration": 40,
    "start_time": "2022-03-07T17:37:10.334Z"
   },
   {
    "duration": 7,
    "start_time": "2022-03-07T17:37:10.377Z"
   },
   {
    "duration": 57,
    "start_time": "2022-03-07T17:37:10.387Z"
   },
   {
    "duration": 738,
    "start_time": "2022-03-07T17:37:10.448Z"
   },
   {
    "duration": 631,
    "start_time": "2022-03-07T17:37:11.189Z"
   },
   {
    "duration": 2725,
    "start_time": "2022-03-07T17:37:11.822Z"
   },
   {
    "duration": 1658,
    "start_time": "2022-03-07T17:37:14.550Z"
   },
   {
    "duration": 839,
    "start_time": "2022-03-07T17:37:16.211Z"
   },
   {
    "duration": 462,
    "start_time": "2022-03-07T17:37:17.052Z"
   },
   {
    "duration": -92,
    "start_time": "2022-03-07T17:37:17.610Z"
   },
   {
    "duration": -98,
    "start_time": "2022-03-07T17:37:17.618Z"
   },
   {
    "duration": -106,
    "start_time": "2022-03-07T17:37:17.628Z"
   },
   {
    "duration": -119,
    "start_time": "2022-03-07T17:37:17.644Z"
   },
   {
    "duration": -132,
    "start_time": "2022-03-07T17:37:17.659Z"
   },
   {
    "duration": -138,
    "start_time": "2022-03-07T17:37:17.667Z"
   },
   {
    "duration": -152,
    "start_time": "2022-03-07T17:37:17.682Z"
   },
   {
    "duration": -168,
    "start_time": "2022-03-07T17:37:17.700Z"
   },
   {
    "duration": -183,
    "start_time": "2022-03-07T17:37:17.716Z"
   },
   {
    "duration": -199,
    "start_time": "2022-03-07T17:37:17.734Z"
   },
   {
    "duration": -213,
    "start_time": "2022-03-07T17:37:17.749Z"
   },
   {
    "duration": -231,
    "start_time": "2022-03-07T17:37:17.769Z"
   },
   {
    "duration": -246,
    "start_time": "2022-03-07T17:37:17.786Z"
   },
   {
    "duration": -261,
    "start_time": "2022-03-07T17:37:17.802Z"
   },
   {
    "duration": -271,
    "start_time": "2022-03-07T17:37:17.814Z"
   },
   {
    "duration": -286,
    "start_time": "2022-03-07T17:37:17.830Z"
   },
   {
    "duration": -297,
    "start_time": "2022-03-07T17:37:17.843Z"
   },
   {
    "duration": -302,
    "start_time": "2022-03-07T17:37:17.850Z"
   },
   {
    "duration": 2842,
    "start_time": "2022-03-07T17:37:33.199Z"
   },
   {
    "duration": 1588,
    "start_time": "2022-03-07T17:40:32.508Z"
   },
   {
    "duration": 48,
    "start_time": "2022-03-07T17:40:34.099Z"
   },
   {
    "duration": 14,
    "start_time": "2022-03-07T17:40:34.150Z"
   },
   {
    "duration": 45,
    "start_time": "2022-03-07T17:40:34.166Z"
   },
   {
    "duration": 35,
    "start_time": "2022-03-07T17:40:34.212Z"
   },
   {
    "duration": 7,
    "start_time": "2022-03-07T17:40:34.249Z"
   },
   {
    "duration": 5,
    "start_time": "2022-03-07T17:40:34.258Z"
   },
   {
    "duration": 11,
    "start_time": "2022-03-07T17:40:34.267Z"
   },
   {
    "duration": 57,
    "start_time": "2022-03-07T17:40:34.281Z"
   },
   {
    "duration": 11,
    "start_time": "2022-03-07T17:40:34.340Z"
   },
   {
    "duration": 22,
    "start_time": "2022-03-07T17:40:34.354Z"
   },
   {
    "duration": 12,
    "start_time": "2022-03-07T17:40:34.379Z"
   },
   {
    "duration": 44,
    "start_time": "2022-03-07T17:40:34.393Z"
   },
   {
    "duration": 36,
    "start_time": "2022-03-07T17:40:34.440Z"
   },
   {
    "duration": 5,
    "start_time": "2022-03-07T17:40:34.479Z"
   },
   {
    "duration": 47,
    "start_time": "2022-03-07T17:40:34.487Z"
   },
   {
    "duration": 728,
    "start_time": "2022-03-07T17:40:34.536Z"
   },
   {
    "duration": 612,
    "start_time": "2022-03-07T17:40:35.267Z"
   },
   {
    "duration": 2827,
    "start_time": "2022-03-07T17:40:35.882Z"
   },
   {
    "duration": 1410,
    "start_time": "2022-03-07T17:40:38.711Z"
   },
   {
    "duration": 789,
    "start_time": "2022-03-07T17:40:40.124Z"
   },
   {
    "duration": 2589,
    "start_time": "2022-03-07T17:40:40.916Z"
   },
   {
    "duration": 40,
    "start_time": "2022-03-07T17:40:43.510Z"
   },
   {
    "duration": 659,
    "start_time": "2022-03-07T17:40:43.552Z"
   },
   {
    "duration": 722,
    "start_time": "2022-03-07T17:40:44.214Z"
   },
   {
    "duration": 370,
    "start_time": "2022-03-07T17:40:44.939Z"
   },
   {
    "duration": 23,
    "start_time": "2022-03-07T17:40:45.311Z"
   },
   {
    "duration": 364,
    "start_time": "2022-03-07T17:40:45.337Z"
   },
   {
    "duration": 12,
    "start_time": "2022-03-07T17:40:45.704Z"
   },
   {
    "duration": 51,
    "start_time": "2022-03-07T17:40:45.732Z"
   },
   {
    "duration": 79,
    "start_time": "2022-03-07T17:40:45.786Z"
   },
   {
    "duration": 343,
    "start_time": "2022-03-07T17:40:45.868Z"
   },
   {
    "duration": 338,
    "start_time": "2022-03-07T17:40:46.214Z"
   },
   {
    "duration": 1105,
    "start_time": "2022-03-07T17:40:46.554Z"
   },
   {
    "duration": 1215,
    "start_time": "2022-03-07T17:40:47.662Z"
   },
   {
    "duration": 1048,
    "start_time": "2022-03-07T17:40:48.879Z"
   },
   {
    "duration": 15,
    "start_time": "2022-03-07T17:40:49.932Z"
   },
   {
    "duration": 8,
    "start_time": "2022-03-07T17:40:49.949Z"
   },
   {
    "duration": 17,
    "start_time": "2022-03-07T17:40:49.959Z"
   },
   {
    "duration": 8,
    "start_time": "2022-03-07T17:40:49.979Z"
   },
   {
    "duration": 580,
    "start_time": "2022-03-07T17:45:42.840Z"
   },
   {
    "duration": 567,
    "start_time": "2022-03-07T17:47:03.606Z"
   },
   {
    "duration": 565,
    "start_time": "2022-03-07T17:47:28.900Z"
   },
   {
    "duration": 548,
    "start_time": "2022-03-07T17:47:38.220Z"
   },
   {
    "duration": 572,
    "start_time": "2022-03-07T17:47:47.551Z"
   },
   {
    "duration": 373,
    "start_time": "2022-03-07T18:04:08.210Z"
   },
   {
    "duration": 313,
    "start_time": "2022-03-07T18:12:41.611Z"
   },
   {
    "duration": 436,
    "start_time": "2022-03-07T18:13:41.578Z"
   },
   {
    "duration": 319,
    "start_time": "2022-03-07T18:15:39.924Z"
   },
   {
    "duration": 310,
    "start_time": "2022-03-07T18:16:21.035Z"
   },
   {
    "duration": 309,
    "start_time": "2022-03-07T18:16:34.518Z"
   },
   {
    "duration": 325,
    "start_time": "2022-03-07T18:22:25.545Z"
   },
   {
    "duration": 1463,
    "start_time": "2022-03-07T18:22:57.742Z"
   },
   {
    "duration": 49,
    "start_time": "2022-03-07T18:22:59.207Z"
   },
   {
    "duration": 14,
    "start_time": "2022-03-07T18:22:59.259Z"
   },
   {
    "duration": 62,
    "start_time": "2022-03-07T18:22:59.276Z"
   },
   {
    "duration": 18,
    "start_time": "2022-03-07T18:22:59.341Z"
   },
   {
    "duration": 9,
    "start_time": "2022-03-07T18:22:59.361Z"
   },
   {
    "duration": 5,
    "start_time": "2022-03-07T18:22:59.372Z"
   },
   {
    "duration": 54,
    "start_time": "2022-03-07T18:22:59.380Z"
   },
   {
    "duration": 15,
    "start_time": "2022-03-07T18:22:59.438Z"
   },
   {
    "duration": 13,
    "start_time": "2022-03-07T18:22:59.456Z"
   },
   {
    "duration": 24,
    "start_time": "2022-03-07T18:22:59.471Z"
   },
   {
    "duration": 12,
    "start_time": "2022-03-07T18:22:59.532Z"
   },
   {
    "duration": 11,
    "start_time": "2022-03-07T18:22:59.547Z"
   },
   {
    "duration": 71,
    "start_time": "2022-03-07T18:22:59.562Z"
   },
   {
    "duration": 7,
    "start_time": "2022-03-07T18:22:59.636Z"
   },
   {
    "duration": 28,
    "start_time": "2022-03-07T18:22:59.646Z"
   },
   {
    "duration": 748,
    "start_time": "2022-03-07T18:22:59.676Z"
   },
   {
    "duration": 647,
    "start_time": "2022-03-07T18:23:00.427Z"
   },
   {
    "duration": 2748,
    "start_time": "2022-03-07T18:23:01.078Z"
   },
   {
    "duration": 1391,
    "start_time": "2022-03-07T18:23:03.829Z"
   },
   {
    "duration": 788,
    "start_time": "2022-03-07T18:23:05.223Z"
   },
   {
    "duration": 2702,
    "start_time": "2022-03-07T18:23:06.014Z"
   },
   {
    "duration": 34,
    "start_time": "2022-03-07T18:23:08.721Z"
   },
   {
    "duration": 787,
    "start_time": "2022-03-07T18:23:08.759Z"
   },
   {
    "duration": 923,
    "start_time": "2022-03-07T18:23:09.550Z"
   },
   {
    "duration": 548,
    "start_time": "2022-03-07T18:23:10.476Z"
   },
   {
    "duration": 12,
    "start_time": "2022-03-07T18:23:11.031Z"
   },
   {
    "duration": 376,
    "start_time": "2022-03-07T18:23:11.046Z"
   },
   {
    "duration": 13,
    "start_time": "2022-03-07T18:23:11.432Z"
   },
   {
    "duration": 50,
    "start_time": "2022-03-07T18:23:11.448Z"
   },
   {
    "duration": 74,
    "start_time": "2022-03-07T18:23:11.500Z"
   },
   {
    "duration": 359,
    "start_time": "2022-03-07T18:23:11.576Z"
   },
   {
    "duration": 334,
    "start_time": "2022-03-07T18:23:11.938Z"
   },
   {
    "duration": 1116,
    "start_time": "2022-03-07T18:23:12.274Z"
   },
   {
    "duration": 1220,
    "start_time": "2022-03-07T18:23:13.393Z"
   },
   {
    "duration": 1070,
    "start_time": "2022-03-07T18:23:14.616Z"
   },
   {
    "duration": 15,
    "start_time": "2022-03-07T18:23:15.688Z"
   },
   {
    "duration": 30,
    "start_time": "2022-03-07T18:23:15.705Z"
   },
   {
    "duration": 14,
    "start_time": "2022-03-07T18:23:15.738Z"
   },
   {
    "duration": 6,
    "start_time": "2022-03-07T18:23:15.755Z"
   },
   {
    "duration": 1065,
    "start_time": "2022-03-07T18:26:08.793Z"
   },
   {
    "duration": 1437,
    "start_time": "2022-03-07T18:26:23.464Z"
   },
   {
    "duration": 50,
    "start_time": "2022-03-07T18:26:24.904Z"
   },
   {
    "duration": 17,
    "start_time": "2022-03-07T18:26:24.957Z"
   },
   {
    "duration": 73,
    "start_time": "2022-03-07T18:26:24.977Z"
   },
   {
    "duration": 19,
    "start_time": "2022-03-07T18:26:25.053Z"
   },
   {
    "duration": 7,
    "start_time": "2022-03-07T18:26:25.074Z"
   },
   {
    "duration": 6,
    "start_time": "2022-03-07T18:26:25.083Z"
   },
   {
    "duration": 46,
    "start_time": "2022-03-07T18:26:25.092Z"
   },
   {
    "duration": 14,
    "start_time": "2022-03-07T18:26:25.141Z"
   },
   {
    "duration": 10,
    "start_time": "2022-03-07T18:26:25.157Z"
   },
   {
    "duration": 21,
    "start_time": "2022-03-07T18:26:25.170Z"
   },
   {
    "duration": 45,
    "start_time": "2022-03-07T18:26:25.193Z"
   },
   {
    "duration": 10,
    "start_time": "2022-03-07T18:26:25.241Z"
   },
   {
    "duration": 33,
    "start_time": "2022-03-07T18:26:25.254Z"
   },
   {
    "duration": 6,
    "start_time": "2022-03-07T18:26:25.289Z"
   },
   {
    "duration": 23,
    "start_time": "2022-03-07T18:26:25.333Z"
   },
   {
    "duration": 755,
    "start_time": "2022-03-07T18:26:25.358Z"
   },
   {
    "duration": 637,
    "start_time": "2022-03-07T18:26:26.116Z"
   },
   {
    "duration": 2727,
    "start_time": "2022-03-07T18:26:26.755Z"
   },
   {
    "duration": 1441,
    "start_time": "2022-03-07T18:26:29.485Z"
   },
   {
    "duration": 819,
    "start_time": "2022-03-07T18:26:30.933Z"
   },
   {
    "duration": 3335,
    "start_time": "2022-03-07T18:26:31.754Z"
   },
   {
    "duration": 48,
    "start_time": "2022-03-07T18:26:35.095Z"
   },
   {
    "duration": 607,
    "start_time": "2022-03-07T18:26:35.148Z"
   },
   {
    "duration": 574,
    "start_time": "2022-03-07T18:26:35.758Z"
   },
   {
    "duration": 539,
    "start_time": "2022-03-07T18:26:36.335Z"
   },
   {
    "duration": 14,
    "start_time": "2022-03-07T18:26:36.877Z"
   },
   {
    "duration": 478,
    "start_time": "2022-03-07T18:26:36.894Z"
   },
   {
    "duration": 16,
    "start_time": "2022-03-07T18:26:37.375Z"
   },
   {
    "duration": 76,
    "start_time": "2022-03-07T18:26:37.393Z"
   },
   {
    "duration": 72,
    "start_time": "2022-03-07T18:26:37.471Z"
   },
   {
    "duration": 327,
    "start_time": "2022-03-07T18:26:37.545Z"
   },
   {
    "duration": 454,
    "start_time": "2022-03-07T18:26:37.875Z"
   },
   {
    "duration": 1151,
    "start_time": "2022-03-07T18:26:38.333Z"
   },
   {
    "duration": 1325,
    "start_time": "2022-03-07T18:26:39.487Z"
   },
   {
    "duration": 1130,
    "start_time": "2022-03-07T18:26:40.814Z"
   },
   {
    "duration": 14,
    "start_time": "2022-03-07T18:26:41.946Z"
   },
   {
    "duration": 17,
    "start_time": "2022-03-07T18:26:41.962Z"
   },
   {
    "duration": 29,
    "start_time": "2022-03-07T18:26:41.982Z"
   },
   {
    "duration": 22,
    "start_time": "2022-03-07T18:26:42.014Z"
   },
   {
    "duration": 20,
    "start_time": "2022-03-07T18:42:08.636Z"
   },
   {
    "duration": 21,
    "start_time": "2022-03-07T18:42:18.509Z"
   },
   {
    "duration": 3761,
    "start_time": "2022-03-07T18:43:17.913Z"
   },
   {
    "duration": 21,
    "start_time": "2022-03-07T18:44:04.123Z"
   },
   {
    "duration": 18,
    "start_time": "2022-03-07T18:44:10.888Z"
   },
   {
    "duration": 20,
    "start_time": "2022-03-07T18:44:17.588Z"
   },
   {
    "duration": 20,
    "start_time": "2022-03-07T18:45:10.318Z"
   },
   {
    "duration": 18,
    "start_time": "2022-03-07T18:45:27.398Z"
   },
   {
    "duration": 1511,
    "start_time": "2022-03-07T19:02:00.500Z"
   },
   {
    "duration": 50,
    "start_time": "2022-03-07T19:02:02.013Z"
   },
   {
    "duration": 14,
    "start_time": "2022-03-07T19:02:02.066Z"
   },
   {
    "duration": 60,
    "start_time": "2022-03-07T19:02:02.083Z"
   },
   {
    "duration": 18,
    "start_time": "2022-03-07T19:02:02.146Z"
   },
   {
    "duration": 25,
    "start_time": "2022-03-07T19:02:02.167Z"
   },
   {
    "duration": 17,
    "start_time": "2022-03-07T19:02:02.195Z"
   },
   {
    "duration": 21,
    "start_time": "2022-03-07T19:02:02.216Z"
   },
   {
    "duration": 15,
    "start_time": "2022-03-07T19:02:02.241Z"
   },
   {
    "duration": 24,
    "start_time": "2022-03-07T19:02:02.259Z"
   },
   {
    "duration": 27,
    "start_time": "2022-03-07T19:02:02.286Z"
   },
   {
    "duration": 26,
    "start_time": "2022-03-07T19:02:02.316Z"
   },
   {
    "duration": 13,
    "start_time": "2022-03-07T19:02:02.345Z"
   },
   {
    "duration": 44,
    "start_time": "2022-03-07T19:02:02.361Z"
   },
   {
    "duration": 27,
    "start_time": "2022-03-07T19:02:02.408Z"
   },
   {
    "duration": 27,
    "start_time": "2022-03-07T19:02:02.438Z"
   },
   {
    "duration": 731,
    "start_time": "2022-03-07T19:02:02.467Z"
   },
   {
    "duration": 718,
    "start_time": "2022-03-07T19:02:03.200Z"
   },
   {
    "duration": 2688,
    "start_time": "2022-03-07T19:02:03.921Z"
   },
   {
    "duration": 1503,
    "start_time": "2022-03-07T19:02:06.611Z"
   },
   {
    "duration": 801,
    "start_time": "2022-03-07T19:02:08.116Z"
   },
   {
    "duration": 2742,
    "start_time": "2022-03-07T19:02:08.920Z"
   },
   {
    "duration": 31,
    "start_time": "2022-03-07T19:02:11.668Z"
   },
   {
    "duration": 591,
    "start_time": "2022-03-07T19:02:11.702Z"
   },
   {
    "duration": 606,
    "start_time": "2022-03-07T19:02:12.295Z"
   },
   {
    "duration": 388,
    "start_time": "2022-03-07T19:02:12.903Z"
   },
   {
    "duration": 13,
    "start_time": "2022-03-07T19:02:13.293Z"
   },
   {
    "duration": 390,
    "start_time": "2022-03-07T19:02:13.309Z"
   },
   {
    "duration": 13,
    "start_time": "2022-03-07T19:02:13.701Z"
   },
   {
    "duration": 62,
    "start_time": "2022-03-07T19:02:13.717Z"
   },
   {
    "duration": 77,
    "start_time": "2022-03-07T19:02:13.781Z"
   },
   {
    "duration": 359,
    "start_time": "2022-03-07T19:02:13.860Z"
   },
   {
    "duration": 326,
    "start_time": "2022-03-07T19:02:14.221Z"
   },
   {
    "duration": 1130,
    "start_time": "2022-03-07T19:02:14.550Z"
   },
   {
    "duration": 1241,
    "start_time": "2022-03-07T19:02:15.682Z"
   },
   {
    "duration": 1147,
    "start_time": "2022-03-07T19:02:16.933Z"
   },
   {
    "duration": 19,
    "start_time": "2022-03-07T19:02:18.083Z"
   },
   {
    "duration": 7,
    "start_time": "2022-03-07T19:02:18.104Z"
   },
   {
    "duration": 21,
    "start_time": "2022-03-07T19:02:18.134Z"
   },
   {
    "duration": 7,
    "start_time": "2022-03-07T19:02:18.157Z"
   },
   {
    "duration": 1109,
    "start_time": "2022-03-08T17:45:30.099Z"
   },
   {
    "duration": 38,
    "start_time": "2022-03-08T17:45:31.210Z"
   },
   {
    "duration": 10,
    "start_time": "2022-03-08T17:45:31.250Z"
   },
   {
    "duration": 35,
    "start_time": "2022-03-08T17:45:31.262Z"
   },
   {
    "duration": 13,
    "start_time": "2022-03-08T17:45:31.299Z"
   },
   {
    "duration": 26,
    "start_time": "2022-03-08T17:45:31.313Z"
   },
   {
    "duration": 6,
    "start_time": "2022-03-08T17:45:31.341Z"
   },
   {
    "duration": 15,
    "start_time": "2022-03-08T17:45:31.348Z"
   },
   {
    "duration": 10,
    "start_time": "2022-03-08T17:45:31.366Z"
   },
   {
    "duration": 8,
    "start_time": "2022-03-08T17:45:31.378Z"
   },
   {
    "duration": 16,
    "start_time": "2022-03-08T17:45:31.388Z"
   },
   {
    "duration": 36,
    "start_time": "2022-03-08T17:45:31.405Z"
   },
   {
    "duration": 8,
    "start_time": "2022-03-08T17:45:31.443Z"
   },
   {
    "duration": 39,
    "start_time": "2022-03-08T17:45:31.452Z"
   },
   {
    "duration": 5,
    "start_time": "2022-03-08T17:45:31.493Z"
   },
   {
    "duration": 38,
    "start_time": "2022-03-08T17:45:31.500Z"
   },
   {
    "duration": 447,
    "start_time": "2022-03-08T17:45:31.540Z"
   },
   {
    "duration": 387,
    "start_time": "2022-03-08T17:45:31.989Z"
   },
   {
    "duration": 1690,
    "start_time": "2022-03-08T17:45:32.378Z"
   },
   {
    "duration": 881,
    "start_time": "2022-03-08T17:45:34.070Z"
   },
   {
    "duration": 494,
    "start_time": "2022-03-08T17:45:34.952Z"
   },
   {
    "duration": 1649,
    "start_time": "2022-03-08T17:45:35.448Z"
   },
   {
    "duration": 18,
    "start_time": "2022-03-08T17:45:37.099Z"
   },
   {
    "duration": 386,
    "start_time": "2022-03-08T17:45:37.119Z"
   },
   {
    "duration": 335,
    "start_time": "2022-03-08T17:45:37.506Z"
   },
   {
    "duration": 282,
    "start_time": "2022-03-08T17:45:37.843Z"
   },
   {
    "duration": 18,
    "start_time": "2022-03-08T17:45:38.128Z"
   },
   {
    "duration": 281,
    "start_time": "2022-03-08T17:45:38.147Z"
   },
   {
    "duration": 9,
    "start_time": "2022-03-08T17:45:38.438Z"
   },
   {
    "duration": 39,
    "start_time": "2022-03-08T17:45:38.449Z"
   },
   {
    "duration": 56,
    "start_time": "2022-03-08T17:45:38.490Z"
   },
   {
    "duration": 215,
    "start_time": "2022-03-08T17:45:38.547Z"
   },
   {
    "duration": 214,
    "start_time": "2022-03-08T17:45:38.763Z"
   },
   {
    "duration": 685,
    "start_time": "2022-03-08T17:45:38.979Z"
   },
   {
    "duration": 786,
    "start_time": "2022-03-08T17:45:39.666Z"
   },
   {
    "duration": 680,
    "start_time": "2022-03-08T17:45:40.454Z"
   },
   {
    "duration": 14,
    "start_time": "2022-03-08T17:45:41.137Z"
   },
   {
    "duration": 5,
    "start_time": "2022-03-08T17:45:41.153Z"
   },
   {
    "duration": 14,
    "start_time": "2022-03-08T17:45:41.160Z"
   },
   {
    "duration": 4,
    "start_time": "2022-03-08T17:45:41.176Z"
   },
   {
    "duration": 5,
    "start_time": "2022-03-08T17:54:44.739Z"
   },
   {
    "duration": 6,
    "start_time": "2022-03-08T17:54:58.513Z"
   },
   {
    "duration": 334,
    "start_time": "2022-03-08T17:55:04.886Z"
   },
   {
    "duration": 294,
    "start_time": "2022-03-08T17:55:37.202Z"
   },
   {
    "duration": 7,
    "start_time": "2022-03-08T17:55:44.424Z"
   },
   {
    "duration": 6,
    "start_time": "2022-03-08T17:55:50.101Z"
   },
   {
    "duration": 7,
    "start_time": "2022-03-08T17:56:07.094Z"
   },
   {
    "duration": 1068,
    "start_time": "2022-03-09T06:24:46.272Z"
   },
   {
    "duration": 38,
    "start_time": "2022-03-09T06:24:47.341Z"
   },
   {
    "duration": 11,
    "start_time": "2022-03-09T06:24:47.383Z"
   },
   {
    "duration": 32,
    "start_time": "2022-03-09T06:24:47.395Z"
   },
   {
    "duration": 19,
    "start_time": "2022-03-09T06:24:47.428Z"
   },
   {
    "duration": 6,
    "start_time": "2022-03-09T06:24:47.449Z"
   },
   {
    "duration": 6,
    "start_time": "2022-03-09T06:24:47.457Z"
   },
   {
    "duration": 15,
    "start_time": "2022-03-09T06:24:47.465Z"
   },
   {
    "duration": 11,
    "start_time": "2022-03-09T06:24:47.481Z"
   },
   {
    "duration": 8,
    "start_time": "2022-03-09T06:24:47.493Z"
   },
   {
    "duration": 44,
    "start_time": "2022-03-09T06:24:47.503Z"
   },
   {
    "duration": 10,
    "start_time": "2022-03-09T06:24:47.549Z"
   },
   {
    "duration": 7,
    "start_time": "2022-03-09T06:24:47.561Z"
   },
   {
    "duration": 25,
    "start_time": "2022-03-09T06:24:47.570Z"
   },
   {
    "duration": 5,
    "start_time": "2022-03-09T06:24:47.597Z"
   },
   {
    "duration": 42,
    "start_time": "2022-03-09T06:24:47.603Z"
   },
   {
    "duration": 454,
    "start_time": "2022-03-09T06:24:47.647Z"
   },
   {
    "duration": 405,
    "start_time": "2022-03-09T06:24:48.103Z"
   },
   {
    "duration": 1710,
    "start_time": "2022-03-09T06:24:48.510Z"
   },
   {
    "duration": 870,
    "start_time": "2022-03-09T06:24:50.222Z"
   },
   {
    "duration": 494,
    "start_time": "2022-03-09T06:24:51.094Z"
   },
   {
    "duration": 1674,
    "start_time": "2022-03-09T06:24:51.592Z"
   },
   {
    "duration": 21,
    "start_time": "2022-03-09T06:24:53.268Z"
   },
   {
    "duration": 397,
    "start_time": "2022-03-09T06:24:53.291Z"
   },
   {
    "duration": 338,
    "start_time": "2022-03-09T06:24:53.690Z"
   },
   {
    "duration": 290,
    "start_time": "2022-03-09T06:24:54.029Z"
   },
   {
    "duration": 20,
    "start_time": "2022-03-09T06:24:54.321Z"
   },
   {
    "duration": 280,
    "start_time": "2022-03-09T06:24:54.343Z"
   },
   {
    "duration": 18,
    "start_time": "2022-03-09T06:24:54.625Z"
   },
   {
    "duration": 33,
    "start_time": "2022-03-09T06:24:54.645Z"
   },
   {
    "duration": 32,
    "start_time": "2022-03-09T06:24:54.679Z"
   },
   {
    "duration": 235,
    "start_time": "2022-03-09T06:24:54.712Z"
   },
   {
    "duration": 217,
    "start_time": "2022-03-09T06:24:54.949Z"
   },
   {
    "duration": 675,
    "start_time": "2022-03-09T06:24:55.168Z"
   },
   {
    "duration": 776,
    "start_time": "2022-03-09T06:24:55.844Z"
   },
   {
    "duration": 669,
    "start_time": "2022-03-09T06:24:56.622Z"
   },
   {
    "duration": 12,
    "start_time": "2022-03-09T06:24:57.293Z"
   },
   {
    "duration": 6,
    "start_time": "2022-03-09T06:24:57.307Z"
   },
   {
    "duration": 29,
    "start_time": "2022-03-09T06:24:57.315Z"
   },
   {
    "duration": 4,
    "start_time": "2022-03-09T06:24:57.346Z"
   },
   {
    "duration": 8,
    "start_time": "2022-03-09T06:24:57.352Z"
   },
   {
    "duration": 1723,
    "start_time": "2022-05-08T10:14:24.617Z"
   },
   {
    "duration": 53,
    "start_time": "2022-05-08T10:14:26.342Z"
   },
   {
    "duration": 19,
    "start_time": "2022-05-08T10:14:26.397Z"
   },
   {
    "duration": 37,
    "start_time": "2022-05-08T10:14:26.419Z"
   },
   {
    "duration": 13,
    "start_time": "2022-05-08T10:14:26.458Z"
   },
   {
    "duration": 6,
    "start_time": "2022-05-08T10:14:26.473Z"
   },
   {
    "duration": 3,
    "start_time": "2022-05-08T10:14:26.482Z"
   },
   {
    "duration": 12,
    "start_time": "2022-05-08T10:14:26.486Z"
   },
   {
    "duration": 11,
    "start_time": "2022-05-08T10:14:26.499Z"
   },
   {
    "duration": 39,
    "start_time": "2022-05-08T10:14:26.512Z"
   },
   {
    "duration": 21,
    "start_time": "2022-05-08T10:14:26.552Z"
   },
   {
    "duration": 13,
    "start_time": "2022-05-08T10:14:26.575Z"
   },
   {
    "duration": 12,
    "start_time": "2022-05-08T10:14:26.589Z"
   },
   {
    "duration": 14,
    "start_time": "2022-05-08T10:14:26.603Z"
   },
   {
    "duration": 30,
    "start_time": "2022-05-08T10:14:26.619Z"
   },
   {
    "duration": 22,
    "start_time": "2022-05-08T10:14:26.650Z"
   },
   {
    "duration": 598,
    "start_time": "2022-05-08T10:14:26.674Z"
   },
   {
    "duration": 496,
    "start_time": "2022-05-08T10:14:27.274Z"
   },
   {
    "duration": 1780,
    "start_time": "2022-05-08T10:14:27.772Z"
   },
   {
    "duration": 697,
    "start_time": "2022-05-08T10:14:29.554Z"
   },
   {
    "duration": 382,
    "start_time": "2022-05-08T10:14:30.253Z"
   },
   {
    "duration": 1503,
    "start_time": "2022-05-08T10:14:30.637Z"
   },
   {
    "duration": 20,
    "start_time": "2022-05-08T10:14:32.142Z"
   },
   {
    "duration": 207,
    "start_time": "2022-05-08T10:14:32.164Z"
   },
   {
    "duration": 417,
    "start_time": "2022-05-08T10:14:32.373Z"
   },
   {
    "duration": 191,
    "start_time": "2022-05-08T10:14:32.792Z"
   },
   {
    "duration": 11,
    "start_time": "2022-05-08T10:14:32.985Z"
   },
   {
    "duration": 201,
    "start_time": "2022-05-08T10:14:33.000Z"
   },
   {
    "duration": 15,
    "start_time": "2022-05-08T10:14:33.203Z"
   },
   {
    "duration": 52,
    "start_time": "2022-05-08T10:14:33.220Z"
   },
   {
    "duration": 41,
    "start_time": "2022-05-08T10:14:33.274Z"
   },
   {
    "duration": 269,
    "start_time": "2022-05-08T10:14:33.317Z"
   },
   {
    "duration": 263,
    "start_time": "2022-05-08T10:14:33.588Z"
   },
   {
    "duration": 478,
    "start_time": "2022-05-08T10:14:33.854Z"
   },
   {
    "duration": 479,
    "start_time": "2022-05-08T10:14:34.334Z"
   },
   {
    "duration": 560,
    "start_time": "2022-05-08T10:14:34.815Z"
   },
   {
    "duration": 12,
    "start_time": "2022-05-08T10:14:35.377Z"
   },
   {
    "duration": 7,
    "start_time": "2022-05-08T10:14:35.391Z"
   },
   {
    "duration": 13,
    "start_time": "2022-05-08T10:14:35.400Z"
   },
   {
    "duration": 7,
    "start_time": "2022-05-08T10:14:35.414Z"
   },
   {
    "duration": 30,
    "start_time": "2022-05-08T10:14:35.422Z"
   }
  ],
  "kernelspec": {
   "display_name": "Python 3 (ipykernel)",
   "language": "python",
   "name": "python3"
  },
  "language_info": {
   "codemirror_mode": {
    "name": "ipython",
    "version": 3
   },
   "file_extension": ".py",
   "mimetype": "text/x-python",
   "name": "python",
   "nbconvert_exporter": "python",
   "pygments_lexer": "ipython3",
   "version": "3.9.7"
  },
  "toc": {
   "base_numbering": 1,
   "nav_menu": {
    "height": "48px",
    "width": "160px"
   },
   "number_sections": false,
   "sideBar": true,
   "skip_h1_title": false,
   "title_cell": "Table of Contents",
   "title_sidebar": "Contents",
   "toc_cell": false,
   "toc_position": {},
   "toc_section_display": true,
   "toc_window_display": true
  }
 },
 "nbformat": 4,
 "nbformat_minor": 2
}
