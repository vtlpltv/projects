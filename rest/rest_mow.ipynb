{
 "cells": [
  {
   "cell_type": "markdown",
   "metadata": {},
   "source": [
    "# Исследование рынка заведений общественного питания Москвы"
   ]
  },
  {
   "cell_type": "markdown",
   "metadata": {},
   "source": [
    "Вы решили открыть небольшое кафе в Москве. Оно оригинальное — гостей должны обслуживать роботы. Проект многообещающий, но дорогой. Вместе с партнёрами вы решились обратиться к инвесторам. Их интересует текущее положение дел на рынке — сможете ли вы снискать популярность на долгое время, когда все зеваки насмотрятся на роботов-официантов?\n",
    "Вы — гуру аналитики, и партнёры просят вас подготовить исследование рынка. У вас есть открытые данные о заведениях общественного питания в Москве."
   ]
  },
  {
   "cell_type": "markdown",
   "metadata": {},
   "source": [
    "## Загрузка данных и подготовка к анализу"
   ]
  },
  {
   "cell_type": "code",
   "execution_count": 1,
   "metadata": {},
   "outputs": [],
   "source": [
    "import pandas as pd\n",
    "import matplotlib.pyplot as plt\n",
    "import seaborn as sns\n",
    "from scipy import stats as st\n",
    "import math\n",
    "import numpy as np\n",
    "import datetime as dt\n",
    "import plotly.express as px"
   ]
  },
  {
   "cell_type": "code",
   "execution_count": 2,
   "metadata": {},
   "outputs": [
    {
     "data": {
      "text/html": [
       "<div>\n",
       "<style scoped>\n",
       "    .dataframe tbody tr th:only-of-type {\n",
       "        vertical-align: middle;\n",
       "    }\n",
       "\n",
       "    .dataframe tbody tr th {\n",
       "        vertical-align: top;\n",
       "    }\n",
       "\n",
       "    .dataframe thead th {\n",
       "        text-align: right;\n",
       "    }\n",
       "</style>\n",
       "<table border=\"1\" class=\"dataframe\">\n",
       "  <thead>\n",
       "    <tr style=\"text-align: right;\">\n",
       "      <th></th>\n",
       "      <th>id</th>\n",
       "      <th>object_name</th>\n",
       "      <th>chain</th>\n",
       "      <th>object_type</th>\n",
       "      <th>address</th>\n",
       "      <th>number</th>\n",
       "    </tr>\n",
       "  </thead>\n",
       "  <tbody>\n",
       "    <tr>\n",
       "      <th>0</th>\n",
       "      <td>151635</td>\n",
       "      <td>СМЕТАНА</td>\n",
       "      <td>нет</td>\n",
       "      <td>кафе</td>\n",
       "      <td>город Москва, улица Егора Абакумова, дом 9</td>\n",
       "      <td>48</td>\n",
       "    </tr>\n",
       "    <tr>\n",
       "      <th>1</th>\n",
       "      <td>77874</td>\n",
       "      <td>Родник</td>\n",
       "      <td>нет</td>\n",
       "      <td>кафе</td>\n",
       "      <td>город Москва, улица Талалихина, дом 2/1, корпус 1</td>\n",
       "      <td>35</td>\n",
       "    </tr>\n",
       "    <tr>\n",
       "      <th>2</th>\n",
       "      <td>24309</td>\n",
       "      <td>Кафе «Академия»</td>\n",
       "      <td>нет</td>\n",
       "      <td>кафе</td>\n",
       "      <td>город Москва, Абельмановская улица, дом 6</td>\n",
       "      <td>95</td>\n",
       "    </tr>\n",
       "    <tr>\n",
       "      <th>3</th>\n",
       "      <td>21894</td>\n",
       "      <td>ПИЦЦЕТОРИЯ</td>\n",
       "      <td>да</td>\n",
       "      <td>кафе</td>\n",
       "      <td>город Москва, Абрамцевская улица, дом 1</td>\n",
       "      <td>40</td>\n",
       "    </tr>\n",
       "    <tr>\n",
       "      <th>4</th>\n",
       "      <td>119365</td>\n",
       "      <td>Кафе «Вишневая метель»</td>\n",
       "      <td>нет</td>\n",
       "      <td>кафе</td>\n",
       "      <td>город Москва, Абрамцевская улица, дом 9, корпус 1</td>\n",
       "      <td>50</td>\n",
       "    </tr>\n",
       "  </tbody>\n",
       "</table>\n",
       "</div>"
      ],
      "text/plain": [
       "       id             object_name chain object_type  \\\n",
       "0  151635                 СМЕТАНА   нет        кафе   \n",
       "1   77874                  Родник   нет        кафе   \n",
       "2   24309         Кафе «Академия»   нет        кафе   \n",
       "3   21894              ПИЦЦЕТОРИЯ    да        кафе   \n",
       "4  119365  Кафе «Вишневая метель»   нет        кафе   \n",
       "\n",
       "                                             address  number  \n",
       "0         город Москва, улица Егора Абакумова, дом 9      48  \n",
       "1  город Москва, улица Талалихина, дом 2/1, корпус 1      35  \n",
       "2          город Москва, Абельмановская улица, дом 6      95  \n",
       "3            город Москва, Абрамцевская улица, дом 1      40  \n",
       "4  город Москва, Абрамцевская улица, дом 9, корпус 1      50  "
      ]
     },
     "execution_count": 2,
     "metadata": {},
     "output_type": "execute_result"
    }
   ],
   "source": [
    "df = pd.read_csv('/datasets/rest_data.csv')\n",
    "df.head()"
   ]
  },
  {
   "cell_type": "code",
   "execution_count": 3,
   "metadata": {},
   "outputs": [
    {
     "name": "stdout",
     "output_type": "stream",
     "text": [
      "<class 'pandas.core.frame.DataFrame'>\n",
      "RangeIndex: 15366 entries, 0 to 15365\n",
      "Data columns (total 6 columns):\n",
      " #   Column       Non-Null Count  Dtype \n",
      "---  ------       --------------  ----- \n",
      " 0   id           15366 non-null  int64 \n",
      " 1   object_name  15366 non-null  object\n",
      " 2   chain        15366 non-null  object\n",
      " 3   object_type  15366 non-null  object\n",
      " 4   address      15366 non-null  object\n",
      " 5   number       15366 non-null  int64 \n",
      "dtypes: int64(2), object(4)\n",
      "memory usage: 720.4+ KB\n"
     ]
    }
   ],
   "source": [
    "df.info()"
   ]
  },
  {
   "cell_type": "code",
   "execution_count": 4,
   "metadata": {
    "scrolled": false
   },
   "outputs": [
    {
     "data": {
      "text/html": [
       "<div>\n",
       "<style scoped>\n",
       "    .dataframe tbody tr th:only-of-type {\n",
       "        vertical-align: middle;\n",
       "    }\n",
       "\n",
       "    .dataframe tbody tr th {\n",
       "        vertical-align: top;\n",
       "    }\n",
       "\n",
       "    .dataframe thead th {\n",
       "        text-align: right;\n",
       "    }\n",
       "</style>\n",
       "<table border=\"1\" class=\"dataframe\">\n",
       "  <thead>\n",
       "    <tr style=\"text-align: right;\">\n",
       "      <th></th>\n",
       "      <th>id</th>\n",
       "      <th>number</th>\n",
       "    </tr>\n",
       "  </thead>\n",
       "  <tbody>\n",
       "    <tr>\n",
       "      <th>count</th>\n",
       "      <td>15366.000000</td>\n",
       "      <td>15366.000000</td>\n",
       "    </tr>\n",
       "    <tr>\n",
       "      <th>mean</th>\n",
       "      <td>119720.066901</td>\n",
       "      <td>59.547182</td>\n",
       "    </tr>\n",
       "    <tr>\n",
       "      <th>std</th>\n",
       "      <td>73036.130732</td>\n",
       "      <td>74.736833</td>\n",
       "    </tr>\n",
       "    <tr>\n",
       "      <th>min</th>\n",
       "      <td>838.000000</td>\n",
       "      <td>0.000000</td>\n",
       "    </tr>\n",
       "    <tr>\n",
       "      <th>25%</th>\n",
       "      <td>28524.000000</td>\n",
       "      <td>12.000000</td>\n",
       "    </tr>\n",
       "    <tr>\n",
       "      <th>50%</th>\n",
       "      <td>144974.500000</td>\n",
       "      <td>40.000000</td>\n",
       "    </tr>\n",
       "    <tr>\n",
       "      <th>75%</th>\n",
       "      <td>184262.250000</td>\n",
       "      <td>80.000000</td>\n",
       "    </tr>\n",
       "    <tr>\n",
       "      <th>max</th>\n",
       "      <td>223439.000000</td>\n",
       "      <td>1700.000000</td>\n",
       "    </tr>\n",
       "  </tbody>\n",
       "</table>\n",
       "</div>"
      ],
      "text/plain": [
       "                  id        number\n",
       "count   15366.000000  15366.000000\n",
       "mean   119720.066901     59.547182\n",
       "std     73036.130732     74.736833\n",
       "min       838.000000      0.000000\n",
       "25%     28524.000000     12.000000\n",
       "50%    144974.500000     40.000000\n",
       "75%    184262.250000     80.000000\n",
       "max    223439.000000   1700.000000"
      ]
     },
     "execution_count": 4,
     "metadata": {},
     "output_type": "execute_result"
    }
   ],
   "source": [
    "df.describe()"
   ]
  },
  {
   "cell_type": "code",
   "execution_count": 5,
   "metadata": {},
   "outputs": [],
   "source": [
    "# сэкономим память откорректировав тип данных\n",
    "df['number'] = df['number'].astype('int16')"
   ]
  },
  {
   "cell_type": "code",
   "execution_count": 6,
   "metadata": {},
   "outputs": [],
   "source": [
    "# изменим название столбца  \n",
    "df = df.rename(columns={'number':'number_of_seats'})"
   ]
  },
  {
   "cell_type": "code",
   "execution_count": 7,
   "metadata": {},
   "outputs": [],
   "source": [
    "# приведем все записи к нижнему регистру для избежания дубликатов\n",
    "df['object_name'] = df['object_name'].str.lower()\n",
    "df['address'] = df['address'].str.lower()"
   ]
  },
  {
   "cell_type": "code",
   "execution_count": 8,
   "metadata": {},
   "outputs": [
    {
     "data": {
      "text/plain": [
       "id                 0\n",
       "object_name        0\n",
       "chain              0\n",
       "object_type        0\n",
       "address            0\n",
       "number_of_seats    0\n",
       "dtype: int64"
      ]
     },
     "execution_count": 8,
     "metadata": {},
     "output_type": "execute_result"
    }
   ],
   "source": [
    "# проверка на пропуски\n",
    "df.isna().sum()"
   ]
  },
  {
   "cell_type": "code",
   "execution_count": 9,
   "metadata": {},
   "outputs": [
    {
     "data": {
      "text/plain": [
       "183"
      ]
     },
     "execution_count": 9,
     "metadata": {},
     "output_type": "execute_result"
    }
   ],
   "source": [
    "# проверка на явные дубликаты (полное повторение в четырех столбцах)\n",
    "df.duplicated(subset=['object_name', 'address', 'chain', 'object_type']).sum()"
   ]
  },
  {
   "cell_type": "code",
   "execution_count": 10,
   "metadata": {},
   "outputs": [
    {
     "data": {
      "text/html": [
       "<div>\n",
       "<style scoped>\n",
       "    .dataframe tbody tr th:only-of-type {\n",
       "        vertical-align: middle;\n",
       "    }\n",
       "\n",
       "    .dataframe tbody tr th {\n",
       "        vertical-align: top;\n",
       "    }\n",
       "\n",
       "    .dataframe thead th {\n",
       "        text-align: right;\n",
       "    }\n",
       "</style>\n",
       "<table border=\"1\" class=\"dataframe\">\n",
       "  <thead>\n",
       "    <tr style=\"text-align: right;\">\n",
       "      <th></th>\n",
       "      <th>id</th>\n",
       "      <th>object_name</th>\n",
       "      <th>chain</th>\n",
       "      <th>object_type</th>\n",
       "      <th>address</th>\n",
       "      <th>number_of_seats</th>\n",
       "    </tr>\n",
       "  </thead>\n",
       "  <tbody>\n",
       "    <tr>\n",
       "      <th>0</th>\n",
       "      <td>151635</td>\n",
       "      <td>сметана</td>\n",
       "      <td>нет</td>\n",
       "      <td>кафе</td>\n",
       "      <td>город москва, улица егора абакумова, дом 9</td>\n",
       "      <td>48</td>\n",
       "    </tr>\n",
       "    <tr>\n",
       "      <th>1</th>\n",
       "      <td>77874</td>\n",
       "      <td>родник</td>\n",
       "      <td>нет</td>\n",
       "      <td>кафе</td>\n",
       "      <td>город москва, улица талалихина, дом 2/1, корпус 1</td>\n",
       "      <td>35</td>\n",
       "    </tr>\n",
       "    <tr>\n",
       "      <th>2</th>\n",
       "      <td>24309</td>\n",
       "      <td>кафе «академия»</td>\n",
       "      <td>нет</td>\n",
       "      <td>кафе</td>\n",
       "      <td>город москва, абельмановская улица, дом 6</td>\n",
       "      <td>95</td>\n",
       "    </tr>\n",
       "    <tr>\n",
       "      <th>3</th>\n",
       "      <td>21894</td>\n",
       "      <td>пиццетория</td>\n",
       "      <td>да</td>\n",
       "      <td>кафе</td>\n",
       "      <td>город москва, абрамцевская улица, дом 1</td>\n",
       "      <td>40</td>\n",
       "    </tr>\n",
       "    <tr>\n",
       "      <th>4</th>\n",
       "      <td>119365</td>\n",
       "      <td>кафе «вишневая метель»</td>\n",
       "      <td>нет</td>\n",
       "      <td>кафе</td>\n",
       "      <td>город москва, абрамцевская улица, дом 9, корпус 1</td>\n",
       "      <td>50</td>\n",
       "    </tr>\n",
       "    <tr>\n",
       "      <th>5</th>\n",
       "      <td>27429</td>\n",
       "      <td>стол. при гоу сош № 1051</td>\n",
       "      <td>нет</td>\n",
       "      <td>столовая</td>\n",
       "      <td>город москва, абрамцевская улица, дом 15, корп...</td>\n",
       "      <td>240</td>\n",
       "    </tr>\n",
       "    <tr>\n",
       "      <th>6</th>\n",
       "      <td>148815</td>\n",
       "      <td>брусника</td>\n",
       "      <td>да</td>\n",
       "      <td>кафе</td>\n",
       "      <td>город москва, переулок сивцев вражек, дом 6/2</td>\n",
       "      <td>10</td>\n",
       "    </tr>\n",
       "    <tr>\n",
       "      <th>7</th>\n",
       "      <td>20957</td>\n",
       "      <td>буфет мтуси</td>\n",
       "      <td>нет</td>\n",
       "      <td>столовая</td>\n",
       "      <td>город москва, авиамоторная улица, дом 8, строе...</td>\n",
       "      <td>90</td>\n",
       "    </tr>\n",
       "    <tr>\n",
       "      <th>8</th>\n",
       "      <td>20958</td>\n",
       "      <td>кпф семья-1</td>\n",
       "      <td>нет</td>\n",
       "      <td>столовая</td>\n",
       "      <td>город москва, авиамоторная улица, дом 8, строе...</td>\n",
       "      <td>150</td>\n",
       "    </tr>\n",
       "    <tr>\n",
       "      <th>9</th>\n",
       "      <td>28858</td>\n",
       "      <td>столовая мтуси</td>\n",
       "      <td>нет</td>\n",
       "      <td>столовая</td>\n",
       "      <td>город москва, авиамоторная улица, дом 8, строе...</td>\n",
       "      <td>120</td>\n",
       "    </tr>\n",
       "  </tbody>\n",
       "</table>\n",
       "</div>"
      ],
      "text/plain": [
       "       id               object_name chain object_type  \\\n",
       "0  151635                   сметана   нет        кафе   \n",
       "1   77874                    родник   нет        кафе   \n",
       "2   24309           кафе «академия»   нет        кафе   \n",
       "3   21894                пиццетория    да        кафе   \n",
       "4  119365    кафе «вишневая метель»   нет        кафе   \n",
       "5   27429  стол. при гоу сош № 1051   нет    столовая   \n",
       "6  148815                  брусника    да        кафе   \n",
       "7   20957               буфет мтуси   нет    столовая   \n",
       "8   20958               кпф семья-1   нет    столовая   \n",
       "9   28858            столовая мтуси   нет    столовая   \n",
       "\n",
       "                                             address  number_of_seats  \n",
       "0         город москва, улица егора абакумова, дом 9               48  \n",
       "1  город москва, улица талалихина, дом 2/1, корпус 1               35  \n",
       "2          город москва, абельмановская улица, дом 6               95  \n",
       "3            город москва, абрамцевская улица, дом 1               40  \n",
       "4  город москва, абрамцевская улица, дом 9, корпус 1               50  \n",
       "5  город москва, абрамцевская улица, дом 15, корп...              240  \n",
       "6      город москва, переулок сивцев вражек, дом 6/2               10  \n",
       "7  город москва, авиамоторная улица, дом 8, строе...               90  \n",
       "8  город москва, авиамоторная улица, дом 8, строе...              150  \n",
       "9  город москва, авиамоторная улица, дом 8, строе...              120  "
      ]
     },
     "execution_count": 10,
     "metadata": {},
     "output_type": "execute_result"
    }
   ],
   "source": [
    "# удаляем явные дубликаты\n",
    "df = df.drop_duplicates(subset=['object_name', 'address', 'chain', 'object_type'], ignore_index=True)\n",
    "df.head(10)"
   ]
  },
  {
   "cell_type": "markdown",
   "metadata": {},
   "source": [
    "**Вывод**\n",
    "\n",
    "В процессе предобработки привел к нижнему регистру текстовые данные в столбцах, переименовал столбец с количеством посадочных мест, проверил на дубли и отсутствующие значения."
   ]
  },
  {
   "cell_type": "markdown",
   "metadata": {},
   "source": [
    "## Анализ данных"
   ]
  },
  {
   "cell_type": "markdown",
   "metadata": {},
   "source": [
    "### Cоотношение видов объектов общественного питания по количеству"
   ]
  },
  {
   "cell_type": "code",
   "execution_count": 11,
   "metadata": {
    "scrolled": true
   },
   "outputs": [
    {
     "data": {
      "image/png": "[encoded data removed]",
      "text/plain": [
       "<Figure size 1080x360 with 1 Axes>"
      ]
     },
     "metadata": {
      "needs_background": "light"
     },
     "output_type": "display_data"
    }
   ],
   "source": [
    "# построим график с количеством объектов для каждого вида заведений\n",
    "df['object_type'].value_counts().sort_values(ascending=True).plot(kind='barh', figsize=(15,5), grid=True)\n",
    "plt.title('Объекты общественного питания в Москве')\n",
    "plt.xlabel('Количество объектов')\n",
    "plt.ylabel('Тип объекта')\n",
    "plt.show()"
   ]
  },
  {
   "cell_type": "markdown",
   "metadata": {},
   "source": [
    "**Вывод**\n",
    "\n",
    "Самый распространненый вид заведений общественного питания - кафе, затем идут столовая и ресторан."
   ]
  },
  {
   "cell_type": "markdown",
   "metadata": {},
   "source": [
    "### Соотношение сетевых и несетевых заведений по количеству"
   ]
  },
  {
   "cell_type": "code",
   "execution_count": 12,
   "metadata": {},
   "outputs": [],
   "source": [
    "df['chain'] = df['chain'].map({'нет':'несетевой','да':'сетевой'})"
   ]
  },
  {
   "cell_type": "code",
   "execution_count": 13,
   "metadata": {},
   "outputs": [
    {
     "data": {
      "image/png": "[encoded data removed]",
      "text/plain": [
       "<Figure size 432x288 with 1 Axes>"
      ]
     },
     "metadata": {
      "needs_background": "light"
     },
     "output_type": "display_data"
    }
   ],
   "source": [
    "ax = df.groupby('chain')['object_name'].count().sort_values(ascending=False).plot(kind='bar', grid=True)\n",
    "ax.set_title('Сетевые и несетевые объекты общественного питания в Москве')\n",
    "ax.set_xlabel('Тип объекта')\n",
    "ax.set_ylabel('Количество объектов')\n",
    "plt.xticks(rotation=0)\n",
    "plt.show()"
   ]
  },
  {
   "cell_type": "markdown",
   "metadata": {},
   "source": [
    "**Вывод**\n",
    "\n",
    "Несетевых объектов общественного питания в несколько раз больше, чем сетевых."
   ]
  },
  {
   "cell_type": "markdown",
   "metadata": {},
   "source": [
    "### Cетевое распространение некоторых видов объектов общественного питания "
   ]
  },
  {
   "cell_type": "code",
   "execution_count": 14,
   "metadata": {},
   "outputs": [
    {
     "data": {
      "image/png": "[encoded data removed]",
      "text/plain": [
       "<Figure size 1080x432 with 1 Axes>"
      ]
     },
     "metadata": {
      "needs_background": "light"
     },
     "output_type": "display_data"
    }
   ],
   "source": [
    "type_grouped = (df.groupby(['object_type', 'chain'])\n",
    "                  .agg({'id':'count'}).reset_index().sort_values(by='id', ascending=False)\n",
    "               )\n",
    "plt.figure(figsize=(15,6))\n",
    "sns.set_style(\"darkgrid\")\n",
    "sns.barplot(x='id',\n",
    "            y='object_type',\n",
    "            hue='chain',\n",
    "            data=type_grouped,\n",
    "            palette=\"Set2\")\n",
    "plt.title('Количество заведений по типам')\n",
    "plt.xlabel('Количество объектов')\n",
    "plt.ylabel('Тип объекта')\n",
    "plt.show()"
   ]
  },
  {
   "cell_type": "markdown",
   "metadata": {},
   "source": [
    "**Вывод**\n",
    "\n",
    "Как видим, наиболее характерным сетевое распространение является для предприятий быстрого обслуживания."
   ]
  },
  {
   "cell_type": "markdown",
   "metadata": {},
   "source": [
    "### Характерные черты сетевых заведений"
   ]
  },
  {
   "cell_type": "code",
   "execution_count": 15,
   "metadata": {},
   "outputs": [
    {
     "data": {
      "text/html": [
       "<div>\n",
       "<style scoped>\n",
       "    .dataframe tbody tr th:only-of-type {\n",
       "        vertical-align: middle;\n",
       "    }\n",
       "\n",
       "    .dataframe tbody tr th {\n",
       "        vertical-align: top;\n",
       "    }\n",
       "\n",
       "    .dataframe thead th {\n",
       "        text-align: right;\n",
       "    }\n",
       "</style>\n",
       "<table border=\"1\" class=\"dataframe\">\n",
       "  <thead>\n",
       "    <tr style=\"text-align: right;\">\n",
       "      <th></th>\n",
       "      <th>index</th>\n",
       "      <th>id</th>\n",
       "      <th>object_name</th>\n",
       "      <th>chain</th>\n",
       "      <th>object_type</th>\n",
       "      <th>address</th>\n",
       "      <th>number_of_seats</th>\n",
       "    </tr>\n",
       "  </thead>\n",
       "  <tbody>\n",
       "    <tr>\n",
       "      <th>0</th>\n",
       "      <td>3</td>\n",
       "      <td>21894</td>\n",
       "      <td>пиццетория</td>\n",
       "      <td>сетевой</td>\n",
       "      <td>кафе</td>\n",
       "      <td>город москва, абрамцевская улица, дом 1</td>\n",
       "      <td>40</td>\n",
       "    </tr>\n",
       "    <tr>\n",
       "      <th>1</th>\n",
       "      <td>6</td>\n",
       "      <td>148815</td>\n",
       "      <td>брусника</td>\n",
       "      <td>сетевой</td>\n",
       "      <td>кафе</td>\n",
       "      <td>город москва, переулок сивцев вражек, дом 6/2</td>\n",
       "      <td>10</td>\n",
       "    </tr>\n",
       "    <tr>\n",
       "      <th>2</th>\n",
       "      <td>13</td>\n",
       "      <td>22579</td>\n",
       "      <td>алло пицца</td>\n",
       "      <td>сетевой</td>\n",
       "      <td>кафе</td>\n",
       "      <td>город москва, улица авиаторов, дом 14</td>\n",
       "      <td>32</td>\n",
       "    </tr>\n",
       "    <tr>\n",
       "      <th>3</th>\n",
       "      <td>16</td>\n",
       "      <td>144107</td>\n",
       "      <td>суши wok</td>\n",
       "      <td>сетевой</td>\n",
       "      <td>предприятие быстрого обслуживания</td>\n",
       "      <td>город москва, азовская улица, дом 3</td>\n",
       "      <td>7</td>\n",
       "    </tr>\n",
       "    <tr>\n",
       "      <th>4</th>\n",
       "      <td>18</td>\n",
       "      <td>58565</td>\n",
       "      <td>тануки</td>\n",
       "      <td>сетевой</td>\n",
       "      <td>ресторан</td>\n",
       "      <td>город москва, большая академическая улица, дом 65</td>\n",
       "      <td>160</td>\n",
       "    </tr>\n",
       "  </tbody>\n",
       "</table>\n",
       "</div>"
      ],
      "text/plain": [
       "   index      id object_name    chain                        object_type  \\\n",
       "0      3   21894  пиццетория  сетевой                               кафе   \n",
       "1      6  148815    брусника  сетевой                               кафе   \n",
       "2     13   22579  алло пицца  сетевой                               кафе   \n",
       "3     16  144107    суши wok  сетевой  предприятие быстрого обслуживания   \n",
       "4     18   58565      тануки  сетевой                           ресторан   \n",
       "\n",
       "                                             address  number_of_seats  \n",
       "0            город москва, абрамцевская улица, дом 1               40  \n",
       "1      город москва, переулок сивцев вражек, дом 6/2               10  \n",
       "2              город москва, улица авиаторов, дом 14               32  \n",
       "3                город москва, азовская улица, дом 3                7  \n",
       "4  город москва, большая академическая улица, дом 65              160  "
      ]
     },
     "execution_count": 15,
     "metadata": {},
     "output_type": "execute_result"
    }
   ],
   "source": [
    "# выделим сетевые заведения в отдельный датафрейм\n",
    "df_chain = df[df['chain'] == 'сетевой'].reset_index()\n",
    "df_chain.head()"
   ]
  },
  {
   "cell_type": "code",
   "execution_count": 16,
   "metadata": {},
   "outputs": [
    {
     "data": {
      "image/png": "[encoded data removed]",
      "text/plain": [
       "<Figure size 432x432 with 3 Axes>"
      ]
     },
     "metadata": {},
     "output_type": "display_data"
    }
   ],
   "source": [
    "# группируем данные по заведениям и найдем среднее количество посадочных мест и количество заведений\n",
    "chain_grouped = (df_chain.groupby('object_name')\n",
    "                 .agg({'id': 'count', 'number_of_seats' : 'mean'})\n",
    "                 .sort_values(by = 'id', ascending = False)\n",
    "                )\n",
    "sns.set_style(\"darkgrid\")\n",
    "ax = sns.jointplot(x=\"number_of_seats\", y=\"id\", data=chain_grouped)\n",
    "ax.ax_joint.set_xlabel('Среднее количество посадочных мест')\n",
    "ax.ax_joint.set_ylabel('Количество заведений в сети')\n",
    "plt.show()"
   ]
  },
  {
   "cell_type": "markdown",
   "metadata": {},
   "source": [
    "**Вывод**\n",
    "\n",
    "Для сетевых заведений характерно большое количество точек с небольшим количеством посадочных мест. "
   ]
  },
  {
   "cell_type": "markdown",
   "metadata": {},
   "source": [
    "###  Среднее количество посадочных мест для каждого вида объекта общественного питания"
   ]
  },
  {
   "cell_type": "code",
   "execution_count": 18,
   "metadata": {},
   "outputs": [
    {
     "data": {
      "image/png": "[encoded data removed]",
      "text/plain": [
       "<Figure size 1080x432 with 1 Axes>"
      ]
     },
     "metadata": {},
     "output_type": "display_data"
    }
   ],
   "source": [
    "# построим столбчатую диаграмму с медианными значениями\n",
    "plt.figure(figsize=(15,6))\n",
    "sns.set_style(\"darkgrid\")\n",
    "sns.barplot(x=\"number_of_seats\", y=\"object_type\", data=df, estimator=np.median)\n",
    "plt.title('Медианное количество посадочных мест в объектах общественного питания в Москве')\n",
    "plt.xlabel('Количество мест')\n",
    "plt.ylabel('Тип объекта')\n",
    "plt.show()"
   ]
  },
  {
   "cell_type": "markdown",
   "metadata": {},
   "source": [
    "**Вывод**\n",
    "\n",
    "Как видим, в среднем больше всего мест предоставляет столовая. Затем идет ресторан, буфет, бар и кафе."
   ]
  },
  {
   "cell_type": "markdown",
   "metadata": {},
   "source": [
    "### Топ-10 улиц по количеству объектов общественного питания"
   ]
  },
  {
   "cell_type": "code",
   "execution_count": 19,
   "metadata": {},
   "outputs": [
    {
     "data": {
      "text/html": [
       "<div>\n",
       "<style scoped>\n",
       "    .dataframe tbody tr th:only-of-type {\n",
       "        vertical-align: middle;\n",
       "    }\n",
       "\n",
       "    .dataframe tbody tr th {\n",
       "        vertical-align: top;\n",
       "    }\n",
       "\n",
       "    .dataframe thead th {\n",
       "        text-align: right;\n",
       "    }\n",
       "</style>\n",
       "<table border=\"1\" class=\"dataframe\">\n",
       "  <thead>\n",
       "    <tr style=\"text-align: right;\">\n",
       "      <th></th>\n",
       "      <th>id</th>\n",
       "      <th>object_name</th>\n",
       "      <th>chain</th>\n",
       "      <th>object_type</th>\n",
       "      <th>address</th>\n",
       "      <th>number_of_seats</th>\n",
       "      <th>streets_name</th>\n",
       "    </tr>\n",
       "  </thead>\n",
       "  <tbody>\n",
       "    <tr>\n",
       "      <th>0</th>\n",
       "      <td>151635</td>\n",
       "      <td>сметана</td>\n",
       "      <td>несетевой</td>\n",
       "      <td>кафе</td>\n",
       "      <td>город москва, улица егора абакумова, дом 9</td>\n",
       "      <td>48</td>\n",
       "      <td>улица егора абакумова</td>\n",
       "    </tr>\n",
       "    <tr>\n",
       "      <th>1</th>\n",
       "      <td>77874</td>\n",
       "      <td>родник</td>\n",
       "      <td>несетевой</td>\n",
       "      <td>кафе</td>\n",
       "      <td>город москва, улица талалихина, дом 2/1, корпус 1</td>\n",
       "      <td>35</td>\n",
       "      <td>улица талалихина</td>\n",
       "    </tr>\n",
       "    <tr>\n",
       "      <th>2</th>\n",
       "      <td>24309</td>\n",
       "      <td>кафе «академия»</td>\n",
       "      <td>несетевой</td>\n",
       "      <td>кафе</td>\n",
       "      <td>город москва, абельмановская улица, дом 6</td>\n",
       "      <td>95</td>\n",
       "      <td>абельмановская улица</td>\n",
       "    </tr>\n",
       "    <tr>\n",
       "      <th>3</th>\n",
       "      <td>21894</td>\n",
       "      <td>пиццетория</td>\n",
       "      <td>сетевой</td>\n",
       "      <td>кафе</td>\n",
       "      <td>город москва, абрамцевская улица, дом 1</td>\n",
       "      <td>40</td>\n",
       "      <td>абрамцевская улица</td>\n",
       "    </tr>\n",
       "    <tr>\n",
       "      <th>4</th>\n",
       "      <td>119365</td>\n",
       "      <td>кафе «вишневая метель»</td>\n",
       "      <td>несетевой</td>\n",
       "      <td>кафе</td>\n",
       "      <td>город москва, абрамцевская улица, дом 9, корпус 1</td>\n",
       "      <td>50</td>\n",
       "      <td>абрамцевская улица</td>\n",
       "    </tr>\n",
       "  </tbody>\n",
       "</table>\n",
       "</div>"
      ],
      "text/plain": [
       "       id             object_name      chain object_type  \\\n",
       "0  151635                 сметана  несетевой        кафе   \n",
       "1   77874                  родник  несетевой        кафе   \n",
       "2   24309         кафе «академия»  несетевой        кафе   \n",
       "3   21894              пиццетория    сетевой        кафе   \n",
       "4  119365  кафе «вишневая метель»  несетевой        кафе   \n",
       "\n",
       "                                             address  number_of_seats  \\\n",
       "0         город москва, улица егора абакумова, дом 9               48   \n",
       "1  город москва, улица талалихина, дом 2/1, корпус 1               35   \n",
       "2          город москва, абельмановская улица, дом 6               95   \n",
       "3            город москва, абрамцевская улица, дом 1               40   \n",
       "4  город москва, абрамцевская улица, дом 9, корпус 1               50   \n",
       "\n",
       "             streets_name  \n",
       "0   улица егора абакумова  \n",
       "1        улица талалихина  \n",
       "2    абельмановская улица  \n",
       "3      абрамцевская улица  \n",
       "4      абрамцевская улица  "
      ]
     },
     "execution_count": 19,
     "metadata": {},
     "output_type": "execute_result"
    }
   ],
   "source": [
    "# выделим информацию об улице из столбца address и создадим отдельный столбец, куда передадим их названия\n",
    "text = df['address'].str.split(\",\", expand=True)\n",
    "df['streets_name']=text[1]\n",
    "\n",
    "df.head()"
   ]
  },
  {
   "cell_type": "code",
   "execution_count": 20,
   "metadata": {},
   "outputs": [
    {
     "data": {
      "image/png": "[encoded data removed]",
      "text/plain": [
       "<Figure size 1080x432 with 1 Axes>"
      ]
     },
     "metadata": {},
     "output_type": "display_data"
    }
   ],
   "source": [
    "# посчитаем количество объектов на каждой улице\n",
    "df = df.query('streets_name != \" город зеленоград\"')\n",
    "df = df.query('streets_name != \" поселение сосенское\"')\n",
    "top10 = df.groupby('streets_name').count().sort_values(by='object_type', ascending=False).head(10).reset_index()\n",
    "plt.figure(figsize=(15,6))\n",
    "sns.set_style(\"darkgrid\")\n",
    "sns.barplot(x=\"object_type\", y=\"streets_name\", data=top10)\n",
    "plt.title('Топ-10 улиц по количеству объектов общественного питания')\n",
    "plt.xlabel('Количество объектов')\n",
    "plt.ylabel('Название улицы')\n",
    "plt.show()"
   ]
  },
  {
   "cell_type": "code",
   "execution_count": 21,
   "metadata": {},
   "outputs": [],
   "source": [
    "# посмотрим в каких районах находятся эти улицы\n",
    "# для этого загрузим внешнюю информацию о районах и улицах Москвы\n",
    "streets = pd.read_csv('https://frs.noosphere.ru/xmlui/bitstream/handle/20.500.11925/714058/mosgaz-streets.csv')"
   ]
  },
  {
   "cell_type": "code",
   "execution_count": 22,
   "metadata": {
    "scrolled": false
   },
   "outputs": [
    {
     "data": {
      "text/html": [
       "<div>\n",
       "<style scoped>\n",
       "    .dataframe tbody tr th:only-of-type {\n",
       "        vertical-align: middle;\n",
       "    }\n",
       "\n",
       "    .dataframe tbody tr th {\n",
       "        vertical-align: top;\n",
       "    }\n",
       "\n",
       "    .dataframe thead th {\n",
       "        text-align: right;\n",
       "    }\n",
       "</style>\n",
       "<table border=\"1\" class=\"dataframe\">\n",
       "  <thead>\n",
       "    <tr style=\"text-align: right;\">\n",
       "      <th></th>\n",
       "      <th>streets_name</th>\n",
       "      <th>areaid</th>\n",
       "      <th>okrug</th>\n",
       "      <th>area</th>\n",
       "    </tr>\n",
       "  </thead>\n",
       "  <tbody>\n",
       "    <tr>\n",
       "      <th>0</th>\n",
       "      <td>выставочный переулок</td>\n",
       "      <td>17</td>\n",
       "      <td>ЦАО</td>\n",
       "      <td>Пресненский район</td>\n",
       "    </tr>\n",
       "    <tr>\n",
       "      <th>1</th>\n",
       "      <td>улица гашека</td>\n",
       "      <td>17</td>\n",
       "      <td>ЦАО</td>\n",
       "      <td>Пресненский район</td>\n",
       "    </tr>\n",
       "    <tr>\n",
       "      <th>2</th>\n",
       "      <td>большая никитская улица</td>\n",
       "      <td>17</td>\n",
       "      <td>ЦАО</td>\n",
       "      <td>Пресненский район</td>\n",
       "    </tr>\n",
       "    <tr>\n",
       "      <th>3</th>\n",
       "      <td>глубокий переулок</td>\n",
       "      <td>17</td>\n",
       "      <td>ЦАО</td>\n",
       "      <td>Пресненский район</td>\n",
       "    </tr>\n",
       "    <tr>\n",
       "      <th>4</th>\n",
       "      <td>большой гнездниковский переулок</td>\n",
       "      <td>17</td>\n",
       "      <td>ЦАО</td>\n",
       "      <td>Пресненский район</td>\n",
       "    </tr>\n",
       "  </tbody>\n",
       "</table>\n",
       "</div>"
      ],
      "text/plain": [
       "                      streets_name  areaid okrug               area\n",
       "0             выставочный переулок      17   ЦАО  Пресненский район\n",
       "1                     улица гашека      17   ЦАО  Пресненский район\n",
       "2          большая никитская улица      17   ЦАО  Пресненский район\n",
       "3                глубокий переулок      17   ЦАО  Пресненский район\n",
       "4  большой гнездниковский переулок      17   ЦАО  Пресненский район"
      ]
     },
     "execution_count": 22,
     "metadata": {},
     "output_type": "execute_result"
    }
   ],
   "source": [
    "# приведем к нижнему регистру и переименуем столбец для дальнейшего жойна таблиц\n",
    "streets['streetname'] = streets['streetname'].str.lower()\n",
    "streets = streets.rename(columns={'streetname':'streets_name'})\n",
    "streets.head()"
   ]
  },
  {
   "cell_type": "code",
   "execution_count": 23,
   "metadata": {},
   "outputs": [
    {
     "data": {
      "text/html": [
       "<div>\n",
       "<style scoped>\n",
       "    .dataframe tbody tr th:only-of-type {\n",
       "        vertical-align: middle;\n",
       "    }\n",
       "\n",
       "    .dataframe tbody tr th {\n",
       "        vertical-align: top;\n",
       "    }\n",
       "\n",
       "    .dataframe thead th {\n",
       "        text-align: right;\n",
       "    }\n",
       "</style>\n",
       "<table border=\"1\" class=\"dataframe\">\n",
       "  <thead>\n",
       "    <tr style=\"text-align: right;\">\n",
       "      <th></th>\n",
       "      <th>id</th>\n",
       "      <th>streets_name</th>\n",
       "      <th>okrug</th>\n",
       "      <th>area</th>\n",
       "    </tr>\n",
       "  </thead>\n",
       "  <tbody>\n",
       "    <tr>\n",
       "      <th>0</th>\n",
       "      <td>196</td>\n",
       "      <td>проспект мира</td>\n",
       "      <td>СВАО</td>\n",
       "      <td>Алексеевский район</td>\n",
       "    </tr>\n",
       "    <tr>\n",
       "      <th>1</th>\n",
       "      <td>196</td>\n",
       "      <td>проспект мира</td>\n",
       "      <td>СВАО</td>\n",
       "      <td>Ярославский Район</td>\n",
       "    </tr>\n",
       "    <tr>\n",
       "      <th>2</th>\n",
       "      <td>196</td>\n",
       "      <td>проспект мира</td>\n",
       "      <td>СВАО</td>\n",
       "      <td>Район Марьина роща</td>\n",
       "    </tr>\n",
       "    <tr>\n",
       "      <th>3</th>\n",
       "      <td>196</td>\n",
       "      <td>проспект мира</td>\n",
       "      <td>СВАО</td>\n",
       "      <td>Останкинский район</td>\n",
       "    </tr>\n",
       "    <tr>\n",
       "      <th>4</th>\n",
       "      <td>196</td>\n",
       "      <td>проспект мира</td>\n",
       "      <td>СВАО</td>\n",
       "      <td>Район Ростокино</td>\n",
       "    </tr>\n",
       "    <tr>\n",
       "      <th>5</th>\n",
       "      <td>196</td>\n",
       "      <td>проспект мира</td>\n",
       "      <td>СВАО</td>\n",
       "      <td>Район Свиблово</td>\n",
       "    </tr>\n",
       "    <tr>\n",
       "      <th>6</th>\n",
       "      <td>196</td>\n",
       "      <td>проспект мира</td>\n",
       "      <td>ЦАО</td>\n",
       "      <td>Мещанский район</td>\n",
       "    </tr>\n",
       "    <tr>\n",
       "      <th>7</th>\n",
       "      <td>180</td>\n",
       "      <td>профсоюзная улица</td>\n",
       "      <td>ЮЗАО</td>\n",
       "      <td>Академический район</td>\n",
       "    </tr>\n",
       "    <tr>\n",
       "      <th>8</th>\n",
       "      <td>180</td>\n",
       "      <td>профсоюзная улица</td>\n",
       "      <td>ЮЗАО</td>\n",
       "      <td>Район Черемушки</td>\n",
       "    </tr>\n",
       "    <tr>\n",
       "      <th>9</th>\n",
       "      <td>180</td>\n",
       "      <td>профсоюзная улица</td>\n",
       "      <td>ЮЗАО</td>\n",
       "      <td>Район Ясенево</td>\n",
       "    </tr>\n",
       "    <tr>\n",
       "      <th>10</th>\n",
       "      <td>180</td>\n",
       "      <td>профсоюзная улица</td>\n",
       "      <td>ЮЗАО</td>\n",
       "      <td>Район Коньково</td>\n",
       "    </tr>\n",
       "    <tr>\n",
       "      <th>11</th>\n",
       "      <td>180</td>\n",
       "      <td>профсоюзная улица</td>\n",
       "      <td>ЮЗАО</td>\n",
       "      <td>Обручевский район</td>\n",
       "    </tr>\n",
       "    <tr>\n",
       "      <th>12</th>\n",
       "      <td>180</td>\n",
       "      <td>профсоюзная улица</td>\n",
       "      <td>ЮЗАО</td>\n",
       "      <td>Район Теплый Стан</td>\n",
       "    </tr>\n",
       "    <tr>\n",
       "      <th>13</th>\n",
       "      <td>170</td>\n",
       "      <td>ленинградский проспект</td>\n",
       "      <td>САО</td>\n",
       "      <td>Район Аэропорт</td>\n",
       "    </tr>\n",
       "    <tr>\n",
       "      <th>14</th>\n",
       "      <td>170</td>\n",
       "      <td>ленинградский проспект</td>\n",
       "      <td>САО</td>\n",
       "      <td>Район Беговой</td>\n",
       "    </tr>\n",
       "    <tr>\n",
       "      <th>15</th>\n",
       "      <td>170</td>\n",
       "      <td>ленинградский проспект</td>\n",
       "      <td>САО</td>\n",
       "      <td>Хорошевский район</td>\n",
       "    </tr>\n",
       "    <tr>\n",
       "      <th>16</th>\n",
       "      <td>170</td>\n",
       "      <td>ленинградский проспект</td>\n",
       "      <td>САО</td>\n",
       "      <td>Район Сокол</td>\n",
       "    </tr>\n",
       "    <tr>\n",
       "      <th>17</th>\n",
       "      <td>165</td>\n",
       "      <td>пресненская набережная</td>\n",
       "      <td>ЦАО</td>\n",
       "      <td>Пресненский район</td>\n",
       "    </tr>\n",
       "    <tr>\n",
       "      <th>18</th>\n",
       "      <td>159</td>\n",
       "      <td>варшавское шоссе</td>\n",
       "      <td>ЮАО</td>\n",
       "      <td>Район Чертаново Центральное</td>\n",
       "    </tr>\n",
       "    <tr>\n",
       "      <th>19</th>\n",
       "      <td>159</td>\n",
       "      <td>варшавское шоссе</td>\n",
       "      <td>ЮАО</td>\n",
       "      <td>Район Чертаново Северное</td>\n",
       "    </tr>\n",
       "  </tbody>\n",
       "</table>\n",
       "</div>"
      ],
      "text/plain": [
       "     id            streets_name okrug                         area\n",
       "0   196           проспект мира  СВАО           Алексеевский район\n",
       "1   196           проспект мира  СВАО            Ярославский Район\n",
       "2   196           проспект мира  СВАО           Район Марьина роща\n",
       "3   196           проспект мира  СВАО           Останкинский район\n",
       "4   196           проспект мира  СВАО              Район Ростокино\n",
       "5   196           проспект мира  СВАО               Район Свиблово\n",
       "6   196           проспект мира   ЦАО              Мещанский район\n",
       "7   180       профсоюзная улица  ЮЗАО          Академический район\n",
       "8   180       профсоюзная улица  ЮЗАО              Район Черемушки\n",
       "9   180       профсоюзная улица  ЮЗАО                Район Ясенево\n",
       "10  180       профсоюзная улица  ЮЗАО               Район Коньково\n",
       "11  180       профсоюзная улица  ЮЗАО            Обручевский район\n",
       "12  180       профсоюзная улица  ЮЗАО            Район Теплый Стан\n",
       "13  170  ленинградский проспект   САО               Район Аэропорт\n",
       "14  170  ленинградский проспект   САО                Район Беговой\n",
       "15  170  ленинградский проспект   САО            Хорошевский район\n",
       "16  170  ленинградский проспект   САО                  Район Сокол\n",
       "17  165  пресненская набережная   ЦАО            Пресненский район\n",
       "18  159        варшавское шоссе   ЮАО  Район Чертаново Центральное\n",
       "19  159        варшавское шоссе   ЮАО     Район Чертаново Северное"
      ]
     },
     "execution_count": 23,
     "metadata": {},
     "output_type": "execute_result"
    }
   ],
   "source": [
    "# уберем лишние пробелы в столбце с названиями улиц и соединим таблицы\n",
    "top10['streets_name'] = top10['streets_name'].str.strip()\n",
    "top10 = top10.merge(streets[['streets_name', 'okrug','area']], on='streets_name', how='left')\n",
    "top10[['id','streets_name', 'okrug','area']].head(20)"
   ]
  },
  {
   "cell_type": "markdown",
   "metadata": {},
   "source": [
    "**Вывод**\n",
    "\n",
    "Некоторые улицы находятся не только в разных районах, но и округах. Выделяется Пресненская набережная, где наблюдается высокая концентрация заведений."
   ]
  },
  {
   "cell_type": "markdown",
   "metadata": {},
   "source": [
    "### Количество улиц с одним объектом общественного питания"
   ]
  },
  {
   "cell_type": "code",
   "execution_count": 24,
   "metadata": {
    "scrolled": true
   },
   "outputs": [
    {
     "name": "stdout",
     "output_type": "stream",
     "text": [
      "<class 'pandas.core.frame.DataFrame'>\n",
      "RangeIndex: 579 entries, 0 to 578\n",
      "Data columns (total 1 columns):\n",
      " #   Column        Non-Null Count  Dtype \n",
      "---  ------        --------------  ----- \n",
      " 0   streets_name  579 non-null    object\n",
      "dtypes: object(1)\n",
      "memory usage: 4.6+ KB\n"
     ]
    }
   ],
   "source": [
    "# сгруппируем данные в датафрейм с 1-м объектом общественного питания\n",
    "one = df.groupby('streets_name').agg({'object_name': 'count'}).sort_values(by = 'object_name', ascending = False)\n",
    "one = one.query('object_name == 1')\n",
    "one = one.drop('object_name',1)\n",
    "one = one.reset_index()\n",
    "one.info()"
   ]
  },
  {
   "cell_type": "markdown",
   "metadata": {},
   "source": [
    "Один объект общественного питания находится примерно на 600 улицах."
   ]
  },
  {
   "cell_type": "code",
   "execution_count": 25,
   "metadata": {},
   "outputs": [
    {
     "data": {
      "text/html": [
       "<div>\n",
       "<style scoped>\n",
       "    .dataframe tbody tr th:only-of-type {\n",
       "        vertical-align: middle;\n",
       "    }\n",
       "\n",
       "    .dataframe tbody tr th {\n",
       "        vertical-align: top;\n",
       "    }\n",
       "\n",
       "    .dataframe thead th {\n",
       "        text-align: right;\n",
       "    }\n",
       "</style>\n",
       "<table border=\"1\" class=\"dataframe\">\n",
       "  <thead>\n",
       "    <tr style=\"text-align: right;\">\n",
       "      <th></th>\n",
       "      <th>streets_name</th>\n",
       "      <th>okrug</th>\n",
       "      <th>area</th>\n",
       "    </tr>\n",
       "  </thead>\n",
       "  <tbody>\n",
       "    <tr>\n",
       "      <th>0</th>\n",
       "      <td>1-й ботанический проезд</td>\n",
       "      <td>СВАО</td>\n",
       "      <td>Район Свиблово</td>\n",
       "    </tr>\n",
       "    <tr>\n",
       "      <th>1</th>\n",
       "      <td>чуксин тупик</td>\n",
       "      <td>САО</td>\n",
       "      <td>Тимирязевский Район</td>\n",
       "    </tr>\n",
       "    <tr>\n",
       "      <th>2</th>\n",
       "      <td>улица красных зорь</td>\n",
       "      <td>ЗАО</td>\n",
       "      <td>Можайский Район</td>\n",
       "    </tr>\n",
       "    <tr>\n",
       "      <th>3</th>\n",
       "      <td>бабаевская улица</td>\n",
       "      <td>ВАО</td>\n",
       "      <td>Район Сокольники</td>\n",
       "    </tr>\n",
       "    <tr>\n",
       "      <th>4</th>\n",
       "      <td>8-й проезд марьиной рощи</td>\n",
       "      <td>СВАО</td>\n",
       "      <td>Район Марьина роща</td>\n",
       "    </tr>\n",
       "  </tbody>\n",
       "</table>\n",
       "</div>"
      ],
      "text/plain": [
       "               streets_name okrug                 area\n",
       "0   1-й ботанический проезд  СВАО       Район Свиблово\n",
       "1              чуксин тупик   САО  Тимирязевский Район\n",
       "2        улица красных зорь   ЗАО      Можайский Район\n",
       "3          бабаевская улица   ВАО     Район Сокольники\n",
       "4  8-й проезд марьиной рощи  СВАО   Район Марьина роща"
      ]
     },
     "execution_count": 25,
     "metadata": {},
     "output_type": "execute_result"
    }
   ],
   "source": [
    "# уберем лишние пробелы в столбце с названиями улиц и соединим таблицы\n",
    "one['streets_name'] = one['streets_name'].str.strip()\n",
    "one = one.merge(streets[['streets_name', 'okrug','area']], on='streets_name', how='left')\n",
    "one.head(5)"
   ]
  },
  {
   "cell_type": "code",
   "execution_count": 26,
   "metadata": {},
   "outputs": [
    {
     "data": {
      "text/plain": [
       "100"
      ]
     },
     "execution_count": 26,
     "metadata": {},
     "output_type": "execute_result"
    }
   ],
   "source": [
    "# посчитаем районы, в которых находятся улицы с одним объектом общественного питания\n",
    "len(one['area'].unique())"
   ]
  },
  {
   "cell_type": "markdown",
   "metadata": {},
   "source": [
    "**Вывод**\n",
    "\n",
    "Исходя из полученных данных, в 100 районах имеется 579 улиц, на которых находится один объект общественного питания."
   ]
  },
  {
   "cell_type": "markdown",
   "metadata": {},
   "source": [
    "### Распределение количества посадочных мест для улиц с большим количеством объектов общественного питания"
   ]
  },
  {
   "cell_type": "code",
   "execution_count": 27,
   "metadata": {},
   "outputs": [
    {
     "data": {
      "text/html": [
       "<div>\n",
       "<style scoped>\n",
       "    .dataframe tbody tr th:only-of-type {\n",
       "        vertical-align: middle;\n",
       "    }\n",
       "\n",
       "    .dataframe tbody tr th {\n",
       "        vertical-align: top;\n",
       "    }\n",
       "\n",
       "    .dataframe thead th {\n",
       "        text-align: right;\n",
       "    }\n",
       "</style>\n",
       "<table border=\"1\" class=\"dataframe\">\n",
       "  <thead>\n",
       "    <tr style=\"text-align: right;\">\n",
       "      <th></th>\n",
       "      <th>index</th>\n",
       "      <th>id</th>\n",
       "      <th>object_name</th>\n",
       "      <th>chain</th>\n",
       "      <th>object_type</th>\n",
       "      <th>address</th>\n",
       "      <th>number_of_seats</th>\n",
       "      <th>streets_name</th>\n",
       "    </tr>\n",
       "  </thead>\n",
       "  <tbody>\n",
       "    <tr>\n",
       "      <th>0</th>\n",
       "      <td>150</td>\n",
       "      <td>155973</td>\n",
       "      <td>кафе «андерсон»</td>\n",
       "      <td>сетевой</td>\n",
       "      <td>кафе</td>\n",
       "      <td>город москва, варшавское шоссе, дом 2</td>\n",
       "      <td>150</td>\n",
       "      <td>варшавское шоссе</td>\n",
       "    </tr>\n",
       "    <tr>\n",
       "      <th>1</th>\n",
       "      <td>151</td>\n",
       "      <td>23618</td>\n",
       "      <td>кафе «subway»</td>\n",
       "      <td>сетевой</td>\n",
       "      <td>кафе</td>\n",
       "      <td>город москва, варшавское шоссе, дом 7, корпус 1</td>\n",
       "      <td>36</td>\n",
       "      <td>варшавское шоссе</td>\n",
       "    </tr>\n",
       "    <tr>\n",
       "      <th>2</th>\n",
       "      <td>152</td>\n",
       "      <td>155852</td>\n",
       "      <td>кафе «ламаджо»</td>\n",
       "      <td>несетевой</td>\n",
       "      <td>кафе</td>\n",
       "      <td>город москва, варшавское шоссе, дом 29</td>\n",
       "      <td>30</td>\n",
       "      <td>варшавское шоссе</td>\n",
       "    </tr>\n",
       "    <tr>\n",
       "      <th>3</th>\n",
       "      <td>153</td>\n",
       "      <td>152556</td>\n",
       "      <td>шаурма в пите</td>\n",
       "      <td>несетевой</td>\n",
       "      <td>предприятие быстрого обслуживания</td>\n",
       "      <td>город москва, варшавское шоссе, дом 72, корпус 2</td>\n",
       "      <td>0</td>\n",
       "      <td>варшавское шоссе</td>\n",
       "    </tr>\n",
       "    <tr>\n",
       "      <th>4</th>\n",
       "      <td>154</td>\n",
       "      <td>120658</td>\n",
       "      <td>выпечка</td>\n",
       "      <td>несетевой</td>\n",
       "      <td>кафетерий</td>\n",
       "      <td>город москва, варшавское шоссе, дом 100</td>\n",
       "      <td>2</td>\n",
       "      <td>варшавское шоссе</td>\n",
       "    </tr>\n",
       "  </tbody>\n",
       "</table>\n",
       "</div>"
      ],
      "text/plain": [
       "   index      id      object_name      chain  \\\n",
       "0    150  155973  кафе «андерсон»    сетевой   \n",
       "1    151   23618    кафе «subway»    сетевой   \n",
       "2    152  155852   кафе «ламаджо»  несетевой   \n",
       "3    153  152556    шаурма в пите  несетевой   \n",
       "4    154  120658          выпечка  несетевой   \n",
       "\n",
       "                         object_type  \\\n",
       "0                               кафе   \n",
       "1                               кафе   \n",
       "2                               кафе   \n",
       "3  предприятие быстрого обслуживания   \n",
       "4                          кафетерий   \n",
       "\n",
       "                                            address  number_of_seats  \\\n",
       "0             город москва, варшавское шоссе, дом 2              150   \n",
       "1   город москва, варшавское шоссе, дом 7, корпус 1               36   \n",
       "2            город москва, варшавское шоссе, дом 29               30   \n",
       "3  город москва, варшавское шоссе, дом 72, корпус 2                0   \n",
       "4           город москва, варшавское шоссе, дом 100                2   \n",
       "\n",
       "       streets_name  \n",
       "0  варшавское шоссе  \n",
       "1  варшавское шоссе  \n",
       "2  варшавское шоссе  \n",
       "3  варшавское шоссе  \n",
       "4  варшавское шоссе  "
      ]
     },
     "execution_count": 27,
     "metadata": {},
     "output_type": "execute_result"
    }
   ],
   "source": [
    "df['streets_name'] = df['streets_name'].str.strip()\n",
    "top_10 = list(top10['streets_name'])\n",
    "temp = df[df['streets_name'].isin(top_10)].reset_index()\n",
    "temp.head()"
   ]
  },
  {
   "cell_type": "code",
   "execution_count": 28,
   "metadata": {},
   "outputs": [
    {
     "data": {
      "image/png": "[encoded data removed]",
      "text/plain": [
       "<Figure size 432x288 with 1 Axes>"
      ]
     },
     "metadata": {},
     "output_type": "display_data"
    }
   ],
   "source": [
    "ax = sns.boxplot(x=temp['number_of_seats'])\n",
    "plt.title('Распределение количества посадочных мест')\n",
    "plt.xlabel('Количество мест')\n",
    "ax.set_xlim(-10,200)\n",
    "plt.show()"
   ]
  },
  {
   "cell_type": "code",
   "execution_count": 29,
   "metadata": {},
   "outputs": [
    {
     "data": {
      "image/png": "[encoded data removed]",
      "text/plain": [
       "<Figure size 720x576 with 1 Axes>"
      ]
     },
     "metadata": {},
     "output_type": "display_data"
    }
   ],
   "source": [
    "plt.figure(figsize=(10,8))\n",
    "ax = sns.boxplot(x=\"streets_name\", y=\"number_of_seats\", data=temp, orient='v', showfliers=False)\n",
    "plt.xticks(rotation=45)\n",
    "plt.title('Распределение количества посадочных мест')\n",
    "plt.xlabel('Улица')\n",
    "plt.ylabel('Количество мест')\n",
    "ax.set_ylim(-10,300)\n",
    "plt.show()"
   ]
  },
  {
   "cell_type": "markdown",
   "metadata": {},
   "source": [
    "**Вывод**\n",
    "\n",
    "На наиболее популярных улицах в среднем количество посадочных мест составляет 50 единиц."
   ]
  },
  {
   "cell_type": "markdown",
   "metadata": {},
   "source": [
    "## Общие выводы"
   ]
  },
  {
   "cell_type": "markdown",
   "metadata": {},
   "source": [
    "По результатам исследования нам стало известно, что:\n",
    "\n",
    "\n",
    "- самый популярный вид заведения общественного питания - кафе\n",
    "- в Москве преобладают несетевые заведения\n",
    "- по сетевым программа чаще открывают предприятия быстрого обслуживания и рестораны\n",
    "- в среднем больше всего посадочных мест в ресторанах и столовых\n",
    "- наибольшее количество объектов питания расположено на самых протяженных улицах Москвы\n",
    "- наименьшее количество объектов питания расположено на окраинах города"
   ]
  },
  {
   "cell_type": "markdown",
   "metadata": {},
   "source": [
    "Рекомендации:\n",
    "\n",
    "Небольшое кафе с количеством посадочных мест в диапазоне 30-50 штук следует самостоятельно открыть в центральной части города, с одной стороны с высокой проходимостью, с другой стороны, чтобы по соседству было не много заведений подобного рода. То есть обратить внимание на улицы в центре, на которых расположено не много заведений общественного питания. "
   ]
  }
 ],
 "metadata": {
  "ExecuteTimeLog": [
   {
    "duration": 1306,
    "start_time": "2022-04-19T18:04:02.522Z"
   },
   {
    "duration": 62,
    "start_time": "2022-04-19T18:07:05.118Z"
   },
   {
    "duration": 9,
    "start_time": "2022-04-19T18:07:37.359Z"
   },
   {
    "duration": 13,
    "start_time": "2022-04-19T18:07:42.808Z"
   },
   {
    "duration": 98,
    "start_time": "2022-04-19T18:09:49.213Z"
   },
   {
    "duration": 17,
    "start_time": "2022-04-19T18:09:54.497Z"
   },
   {
    "duration": 6,
    "start_time": "2022-04-19T18:10:19.336Z"
   },
   {
    "duration": 9,
    "start_time": "2022-04-19T18:21:10.779Z"
   },
   {
    "duration": 4,
    "start_time": "2022-04-19T18:24:13.756Z"
   },
   {
    "duration": 14,
    "start_time": "2022-04-19T18:24:22.544Z"
   },
   {
    "duration": 4,
    "start_time": "2022-04-19T18:24:50.333Z"
   },
   {
    "duration": 13,
    "start_time": "2022-04-19T18:24:50.979Z"
   },
   {
    "duration": 8,
    "start_time": "2022-04-19T18:25:25.078Z"
   },
   {
    "duration": 4,
    "start_time": "2022-04-19T18:25:48.513Z"
   },
   {
    "duration": 17,
    "start_time": "2022-04-19T18:25:49.028Z"
   },
   {
    "duration": 8,
    "start_time": "2022-04-19T18:25:55.429Z"
   },
   {
    "duration": 4,
    "start_time": "2022-04-19T18:26:54.264Z"
   },
   {
    "duration": 23,
    "start_time": "2022-04-19T18:29:31.911Z"
   },
   {
    "duration": 14,
    "start_time": "2022-04-19T18:29:45.325Z"
   },
   {
    "duration": 7,
    "start_time": "2022-04-19T18:30:25.885Z"
   },
   {
    "duration": 8,
    "start_time": "2022-04-19T18:30:36.033Z"
   },
   {
    "duration": 5,
    "start_time": "2022-04-19T18:30:45.028Z"
   },
   {
    "duration": 20,
    "start_time": "2022-04-19T18:31:13.924Z"
   },
   {
    "duration": 252,
    "start_time": "2022-04-19T18:31:56.991Z"
   },
   {
    "duration": 5,
    "start_time": "2022-04-19T18:32:40.986Z"
   },
   {
    "duration": 6,
    "start_time": "2022-04-19T18:33:55.538Z"
   },
   {
    "duration": 11,
    "start_time": "2022-04-19T18:34:30.845Z"
   },
   {
    "duration": 12,
    "start_time": "2022-04-19T18:34:45.819Z"
   },
   {
    "duration": 14,
    "start_time": "2022-04-19T18:35:12.407Z"
   },
   {
    "duration": 1283,
    "start_time": "2022-04-19T18:35:43.595Z"
   },
   {
    "duration": 58,
    "start_time": "2022-04-19T18:35:44.880Z"
   },
   {
    "duration": 12,
    "start_time": "2022-04-19T18:35:44.940Z"
   },
   {
    "duration": 9,
    "start_time": "2022-04-19T18:35:44.954Z"
   },
   {
    "duration": 3,
    "start_time": "2022-04-19T18:35:44.965Z"
   },
   {
    "duration": 5,
    "start_time": "2022-04-19T18:35:44.969Z"
   },
   {
    "duration": 49,
    "start_time": "2022-04-19T18:35:44.976Z"
   },
   {
    "duration": 13,
    "start_time": "2022-04-19T18:35:45.027Z"
   },
   {
    "duration": 21,
    "start_time": "2022-04-19T18:39:20.023Z"
   },
   {
    "duration": 2167,
    "start_time": "2022-04-25T07:34:16.340Z"
   },
   {
    "duration": 182,
    "start_time": "2022-04-25T07:34:18.521Z"
   },
   {
    "duration": 41,
    "start_time": "2022-04-25T07:34:18.705Z"
   },
   {
    "duration": 12,
    "start_time": "2022-04-25T07:34:18.748Z"
   },
   {
    "duration": 5,
    "start_time": "2022-04-25T07:34:18.763Z"
   },
   {
    "duration": 13,
    "start_time": "2022-04-25T07:34:18.770Z"
   },
   {
    "duration": 67,
    "start_time": "2022-04-25T07:34:18.785Z"
   },
   {
    "duration": 18,
    "start_time": "2022-04-25T07:34:18.855Z"
   },
   {
    "duration": 36,
    "start_time": "2022-04-25T07:34:18.875Z"
   },
   {
    "duration": 21,
    "start_time": "2022-04-25T07:34:25.850Z"
   },
   {
    "duration": 12,
    "start_time": "2022-04-25T07:36:26.140Z"
   },
   {
    "duration": 10,
    "start_time": "2022-04-25T07:38:20.058Z"
   },
   {
    "duration": 17,
    "start_time": "2022-04-25T07:38:42.840Z"
   },
   {
    "duration": 9,
    "start_time": "2022-04-25T07:39:08.741Z"
   },
   {
    "duration": 23,
    "start_time": "2022-04-25T07:40:24.840Z"
   },
   {
    "duration": 17,
    "start_time": "2022-04-25T07:40:54.257Z"
   },
   {
    "duration": 19,
    "start_time": "2022-04-25T07:46:24.906Z"
   },
   {
    "duration": 18,
    "start_time": "2022-04-25T07:46:41.643Z"
   },
   {
    "duration": 160,
    "start_time": "2022-04-25T07:50:07.293Z"
   },
   {
    "duration": 21,
    "start_time": "2022-04-25T07:50:11.680Z"
   },
   {
    "duration": 15,
    "start_time": "2022-04-25T07:51:49.942Z"
   },
   {
    "duration": 18,
    "start_time": "2022-04-25T07:52:02.709Z"
   },
   {
    "duration": 18,
    "start_time": "2022-04-25T07:52:11.232Z"
   },
   {
    "duration": 26,
    "start_time": "2022-04-25T07:52:20.852Z"
   },
   {
    "duration": 18,
    "start_time": "2022-04-25T07:53:07.451Z"
   },
   {
    "duration": 22,
    "start_time": "2022-04-25T07:54:10.698Z"
   },
   {
    "duration": 43,
    "start_time": "2022-04-25T08:01:05.899Z"
   },
   {
    "duration": 35,
    "start_time": "2022-04-25T08:02:05.644Z"
   },
   {
    "duration": 33,
    "start_time": "2022-04-25T08:02:13.443Z"
   },
   {
    "duration": 34,
    "start_time": "2022-04-25T08:02:31.969Z"
   },
   {
    "duration": 34,
    "start_time": "2022-04-25T08:02:55.565Z"
   },
   {
    "duration": 35,
    "start_time": "2022-04-25T08:03:21.940Z"
   },
   {
    "duration": 39,
    "start_time": "2022-04-25T08:03:48.521Z"
   },
   {
    "duration": 32,
    "start_time": "2022-04-25T08:06:08.340Z"
   },
   {
    "duration": 28,
    "start_time": "2022-04-25T08:06:16.117Z"
   },
   {
    "duration": 41,
    "start_time": "2022-04-25T08:06:35.608Z"
   },
   {
    "duration": 33,
    "start_time": "2022-04-25T08:08:49.445Z"
   },
   {
    "duration": 10,
    "start_time": "2022-04-25T08:11:31.180Z"
   },
   {
    "duration": 247,
    "start_time": "2022-04-25T08:19:54.185Z"
   },
   {
    "duration": 249,
    "start_time": "2022-04-25T08:20:02.967Z"
   },
   {
    "duration": 248,
    "start_time": "2022-04-25T08:20:09.704Z"
   },
   {
    "duration": 260,
    "start_time": "2022-04-25T08:20:30.394Z"
   },
   {
    "duration": 126,
    "start_time": "2022-04-25T08:21:28.187Z"
   },
   {
    "duration": 249,
    "start_time": "2022-04-25T08:21:32.801Z"
   },
   {
    "duration": 261,
    "start_time": "2022-04-25T08:24:56.382Z"
   },
   {
    "duration": 355,
    "start_time": "2022-04-25T08:25:43.985Z"
   },
   {
    "duration": 272,
    "start_time": "2022-04-25T08:28:04.993Z"
   },
   {
    "duration": 285,
    "start_time": "2022-04-25T08:28:40.118Z"
   },
   {
    "duration": 321,
    "start_time": "2022-04-25T08:31:31.361Z"
   },
   {
    "duration": 348,
    "start_time": "2022-04-25T08:31:44.148Z"
   },
   {
    "duration": 336,
    "start_time": "2022-04-25T08:31:49.738Z"
   },
   {
    "duration": 292,
    "start_time": "2022-04-25T08:34:03.159Z"
   },
   {
    "duration": 311,
    "start_time": "2022-04-25T08:34:20.553Z"
   },
   {
    "duration": 10,
    "start_time": "2022-04-25T08:34:53.242Z"
   },
   {
    "duration": 167,
    "start_time": "2022-04-25T08:35:14.092Z"
   },
   {
    "duration": 168,
    "start_time": "2022-04-25T08:36:00.150Z"
   },
   {
    "duration": 194,
    "start_time": "2022-04-25T08:53:55.131Z"
   },
   {
    "duration": 194,
    "start_time": "2022-04-25T08:54:42.701Z"
   },
   {
    "duration": 297,
    "start_time": "2022-04-25T08:55:10.435Z"
   },
   {
    "duration": 189,
    "start_time": "2022-04-25T08:55:42.154Z"
   },
   {
    "duration": 1782,
    "start_time": "2022-04-25T08:55:55.906Z"
   },
   {
    "duration": 81,
    "start_time": "2022-04-25T08:55:57.691Z"
   },
   {
    "duration": 27,
    "start_time": "2022-04-25T08:55:57.774Z"
   },
   {
    "duration": 42,
    "start_time": "2022-04-25T08:55:57.804Z"
   },
   {
    "duration": 9,
    "start_time": "2022-04-25T08:55:57.848Z"
   },
   {
    "duration": 11,
    "start_time": "2022-04-25T08:55:57.859Z"
   },
   {
    "duration": 79,
    "start_time": "2022-04-25T08:55:57.872Z"
   },
   {
    "duration": 16,
    "start_time": "2022-04-25T08:55:57.954Z"
   },
   {
    "duration": 57,
    "start_time": "2022-04-25T08:55:57.972Z"
   },
   {
    "duration": 43,
    "start_time": "2022-04-25T08:55:58.033Z"
   },
   {
    "duration": 468,
    "start_time": "2022-04-25T08:55:58.078Z"
   },
   {
    "duration": 197,
    "start_time": "2022-04-25T08:55:58.548Z"
   },
   {
    "duration": 326,
    "start_time": "2022-04-25T08:56:14.274Z"
   },
   {
    "duration": 198,
    "start_time": "2022-04-25T08:57:17.533Z"
   },
   {
    "duration": 1780,
    "start_time": "2022-04-25T08:57:29.605Z"
   },
   {
    "duration": 80,
    "start_time": "2022-04-25T08:57:31.388Z"
   },
   {
    "duration": 21,
    "start_time": "2022-04-25T08:57:31.471Z"
   },
   {
    "duration": 42,
    "start_time": "2022-04-25T08:57:31.496Z"
   },
   {
    "duration": 4,
    "start_time": "2022-04-25T08:57:31.541Z"
   },
   {
    "duration": 8,
    "start_time": "2022-04-25T08:57:31.548Z"
   },
   {
    "duration": 35,
    "start_time": "2022-04-25T08:57:31.558Z"
   },
   {
    "duration": 12,
    "start_time": "2022-04-25T08:57:31.625Z"
   },
   {
    "duration": 34,
    "start_time": "2022-04-25T08:57:31.639Z"
   },
   {
    "duration": 62,
    "start_time": "2022-04-25T08:57:31.676Z"
   },
   {
    "duration": 350,
    "start_time": "2022-04-25T08:57:31.741Z"
   },
   {
    "duration": 244,
    "start_time": "2022-04-25T08:57:32.094Z"
   },
   {
    "duration": 9,
    "start_time": "2022-04-25T08:58:25.466Z"
   },
   {
    "duration": 328,
    "start_time": "2022-04-25T08:58:26.250Z"
   },
   {
    "duration": 11,
    "start_time": "2022-04-25T08:58:58.902Z"
   },
   {
    "duration": 13,
    "start_time": "2022-04-25T08:59:09.242Z"
   },
   {
    "duration": 1755,
    "start_time": "2022-04-25T08:59:47.847Z"
   },
   {
    "duration": 80,
    "start_time": "2022-04-25T08:59:49.605Z"
   },
   {
    "duration": 19,
    "start_time": "2022-04-25T08:59:49.687Z"
   },
   {
    "duration": 36,
    "start_time": "2022-04-25T08:59:49.709Z"
   },
   {
    "duration": 6,
    "start_time": "2022-04-25T08:59:49.746Z"
   },
   {
    "duration": 8,
    "start_time": "2022-04-25T08:59:49.754Z"
   },
   {
    "duration": 65,
    "start_time": "2022-04-25T08:59:49.764Z"
   },
   {
    "duration": 26,
    "start_time": "2022-04-25T08:59:49.831Z"
   },
   {
    "duration": 32,
    "start_time": "2022-04-25T08:59:49.859Z"
   },
   {
    "duration": 45,
    "start_time": "2022-04-25T08:59:49.895Z"
   },
   {
    "duration": 344,
    "start_time": "2022-04-25T08:59:49.943Z"
   },
   {
    "duration": 7,
    "start_time": "2022-04-25T08:59:50.289Z"
   },
   {
    "duration": 173,
    "start_time": "2022-04-25T08:59:50.299Z"
   },
   {
    "duration": 268,
    "start_time": "2022-04-25T09:00:16.922Z"
   },
   {
    "duration": 275,
    "start_time": "2022-04-25T09:00:30.097Z"
   },
   {
    "duration": 270,
    "start_time": "2022-04-25T09:00:33.674Z"
   },
   {
    "duration": 303,
    "start_time": "2022-04-25T09:02:57.309Z"
   },
   {
    "duration": 308,
    "start_time": "2022-04-25T09:03:15.060Z"
   },
   {
    "duration": 301,
    "start_time": "2022-04-25T09:03:25.527Z"
   },
   {
    "duration": 284,
    "start_time": "2022-04-25T09:03:33.965Z"
   },
   {
    "duration": 19,
    "start_time": "2022-04-25T09:07:43.213Z"
   },
   {
    "duration": 8,
    "start_time": "2022-04-25T09:08:50.434Z"
   },
   {
    "duration": 19,
    "start_time": "2022-04-25T09:10:20.208Z"
   },
   {
    "duration": 23,
    "start_time": "2022-04-25T09:13:41.721Z"
   },
   {
    "duration": 454,
    "start_time": "2022-04-25T09:17:49.413Z"
   },
   {
    "duration": 439,
    "start_time": "2022-04-25T09:18:20.296Z"
   },
   {
    "duration": 442,
    "start_time": "2022-04-25T09:18:54.302Z"
   },
   {
    "duration": 447,
    "start_time": "2022-04-25T09:19:09.708Z"
   },
   {
    "duration": 134,
    "start_time": "2022-04-25T09:26:07.121Z"
   },
   {
    "duration": 21,
    "start_time": "2022-04-25T09:26:11.385Z"
   },
   {
    "duration": 27,
    "start_time": "2022-04-25T09:26:27.516Z"
   },
   {
    "duration": 28,
    "start_time": "2022-04-25T09:27:15.206Z"
   },
   {
    "duration": 22,
    "start_time": "2022-04-25T09:27:22.014Z"
   },
   {
    "duration": 8,
    "start_time": "2022-04-25T09:29:24.497Z"
   },
   {
    "duration": 17,
    "start_time": "2022-04-25T09:29:56.094Z"
   },
   {
    "duration": 20,
    "start_time": "2022-04-25T09:30:22.906Z"
   },
   {
    "duration": 18,
    "start_time": "2022-04-25T09:30:34.064Z"
   },
   {
    "duration": 20,
    "start_time": "2022-04-25T09:31:00.080Z"
   },
   {
    "duration": 28,
    "start_time": "2022-04-25T09:31:37.086Z"
   },
   {
    "duration": 24,
    "start_time": "2022-04-25T09:31:55.039Z"
   },
   {
    "duration": 20,
    "start_time": "2022-04-25T09:32:06.937Z"
   },
   {
    "duration": 34,
    "start_time": "2022-04-25T09:33:12.438Z"
   },
   {
    "duration": 1451,
    "start_time": "2022-04-25T09:38:26.651Z"
   },
   {
    "duration": 598,
    "start_time": "2022-04-25T09:38:55.022Z"
   },
   {
    "duration": 1741,
    "start_time": "2022-04-25T09:39:03.860Z"
   },
   {
    "duration": 1591,
    "start_time": "2022-04-25T09:43:17.244Z"
   },
   {
    "duration": 1657,
    "start_time": "2022-04-25T09:44:33.974Z"
   },
   {
    "duration": 1531,
    "start_time": "2022-04-25T09:45:00.814Z"
   },
   {
    "duration": 1665,
    "start_time": "2022-04-25T09:45:11.523Z"
   },
   {
    "duration": 559,
    "start_time": "2022-04-25T09:45:20.974Z"
   },
   {
    "duration": 1878,
    "start_time": "2022-04-25T09:47:58.943Z"
   },
   {
    "duration": 779,
    "start_time": "2022-04-25T09:55:34.304Z"
   },
   {
    "duration": 574,
    "start_time": "2022-04-25T09:55:56.339Z"
   },
   {
    "duration": 323,
    "start_time": "2022-04-25T09:56:04.864Z"
   },
   {
    "duration": 18,
    "start_time": "2022-04-25T09:56:35.257Z"
   },
   {
    "duration": 886,
    "start_time": "2022-04-25T09:58:06.914Z"
   },
   {
    "duration": 841,
    "start_time": "2022-04-25T09:59:27.841Z"
   },
   {
    "duration": 878,
    "start_time": "2022-04-25T10:00:11.149Z"
   },
   {
    "duration": 1971,
    "start_time": "2022-04-25T10:06:44.327Z"
   },
   {
    "duration": 100,
    "start_time": "2022-04-25T10:06:46.301Z"
   },
   {
    "duration": 22,
    "start_time": "2022-04-25T10:06:46.403Z"
   },
   {
    "duration": 59,
    "start_time": "2022-04-25T10:06:46.428Z"
   },
   {
    "duration": 5,
    "start_time": "2022-04-25T10:06:46.489Z"
   },
   {
    "duration": 10,
    "start_time": "2022-04-25T10:06:46.497Z"
   },
   {
    "duration": 61,
    "start_time": "2022-04-25T10:06:46.509Z"
   },
   {
    "duration": 12,
    "start_time": "2022-04-25T10:06:46.573Z"
   },
   {
    "duration": 47,
    "start_time": "2022-04-25T10:06:46.588Z"
   },
   {
    "duration": 37,
    "start_time": "2022-04-25T10:06:46.639Z"
   },
   {
    "duration": 384,
    "start_time": "2022-04-25T10:06:46.678Z"
   },
   {
    "duration": 11,
    "start_time": "2022-04-25T10:06:47.065Z"
   },
   {
    "duration": 233,
    "start_time": "2022-04-25T10:06:47.078Z"
   },
   {
    "duration": 556,
    "start_time": "2022-04-25T10:06:47.314Z"
   },
   {
    "duration": 19,
    "start_time": "2022-04-25T10:06:47.872Z"
   },
   {
    "duration": 1613,
    "start_time": "2022-04-25T10:06:47.893Z"
   },
   {
    "duration": 881,
    "start_time": "2022-04-25T10:06:49.508Z"
   },
   {
    "duration": 895,
    "start_time": "2022-04-25T10:08:59.036Z"
   },
   {
    "duration": 1184,
    "start_time": "2022-04-25T10:10:09.372Z"
   },
   {
    "duration": 56,
    "start_time": "2022-04-25T11:34:26.314Z"
   },
   {
    "duration": 1935,
    "start_time": "2022-04-25T11:34:32.372Z"
   },
   {
    "duration": 130,
    "start_time": "2022-04-25T11:34:34.310Z"
   },
   {
    "duration": 16,
    "start_time": "2022-04-25T11:34:34.442Z"
   },
   {
    "duration": 46,
    "start_time": "2022-04-25T11:34:34.461Z"
   },
   {
    "duration": 4,
    "start_time": "2022-04-25T11:34:34.511Z"
   },
   {
    "duration": 6,
    "start_time": "2022-04-25T11:34:34.517Z"
   },
   {
    "duration": 38,
    "start_time": "2022-04-25T11:34:34.526Z"
   },
   {
    "duration": 40,
    "start_time": "2022-04-25T11:34:34.566Z"
   },
   {
    "duration": 26,
    "start_time": "2022-04-25T11:34:34.608Z"
   },
   {
    "duration": 34,
    "start_time": "2022-04-25T11:34:34.636Z"
   },
   {
    "duration": 263,
    "start_time": "2022-04-25T11:34:34.671Z"
   },
   {
    "duration": 25,
    "start_time": "2022-04-25T11:34:34.936Z"
   },
   {
    "duration": 153,
    "start_time": "2022-04-25T11:34:34.966Z"
   },
   {
    "duration": 472,
    "start_time": "2022-04-25T11:34:35.122Z"
   },
   {
    "duration": 18,
    "start_time": "2022-04-25T11:34:35.596Z"
   },
   {
    "duration": 1111,
    "start_time": "2022-04-25T11:34:35.617Z"
   },
   {
    "duration": 585,
    "start_time": "2022-04-25T11:34:36.729Z"
   },
   {
    "duration": 116,
    "start_time": "2022-04-25T11:34:37.316Z"
   },
   {
    "duration": 34,
    "start_time": "2022-04-25T11:35:36.033Z"
   },
   {
    "duration": 807,
    "start_time": "2022-04-25T11:36:17.497Z"
   },
   {
    "duration": 32,
    "start_time": "2022-04-25T11:36:31.101Z"
   },
   {
    "duration": 19,
    "start_time": "2022-04-25T11:36:45.213Z"
   },
   {
    "duration": 20,
    "start_time": "2022-04-25T11:36:52.183Z"
   },
   {
    "duration": 110,
    "start_time": "2022-04-25T11:36:59.727Z"
   },
   {
    "duration": 19,
    "start_time": "2022-04-25T11:37:02.989Z"
   },
   {
    "duration": 29,
    "start_time": "2022-04-25T11:37:06.437Z"
   },
   {
    "duration": 27,
    "start_time": "2022-04-25T11:37:16.313Z"
   },
   {
    "duration": 19,
    "start_time": "2022-04-25T11:37:19.877Z"
   },
   {
    "duration": 23,
    "start_time": "2022-04-25T11:39:30.733Z"
   },
   {
    "duration": 126,
    "start_time": "2022-04-25T11:42:22.294Z"
   },
   {
    "duration": 53,
    "start_time": "2022-04-25T11:42:43.949Z"
   },
   {
    "duration": 50,
    "start_time": "2022-04-25T11:44:00.530Z"
   },
   {
    "duration": 46,
    "start_time": "2022-04-25T11:44:08.082Z"
   },
   {
    "duration": 19,
    "start_time": "2022-04-25T11:53:12.287Z"
   },
   {
    "duration": 13,
    "start_time": "2022-04-25T11:53:22.713Z"
   },
   {
    "duration": 13,
    "start_time": "2022-04-25T11:55:01.823Z"
   },
   {
    "duration": 51,
    "start_time": "2022-04-25T12:01:14.084Z"
   },
   {
    "duration": 54,
    "start_time": "2022-04-25T12:01:17.389Z"
   },
   {
    "duration": 31,
    "start_time": "2022-04-25T12:02:28.076Z"
   },
   {
    "duration": 138,
    "start_time": "2022-04-25T12:02:45.688Z"
   },
   {
    "duration": 27,
    "start_time": "2022-04-25T12:05:52.497Z"
   },
   {
    "duration": 35,
    "start_time": "2022-04-25T12:06:34.347Z"
   },
   {
    "duration": 29,
    "start_time": "2022-04-25T12:07:18.030Z"
   },
   {
    "duration": 239,
    "start_time": "2022-04-25T12:09:05.442Z"
   },
   {
    "duration": 253,
    "start_time": "2022-04-25T12:09:23.912Z"
   },
   {
    "duration": 253,
    "start_time": "2022-04-25T12:09:53.924Z"
   },
   {
    "duration": 220,
    "start_time": "2022-04-25T12:28:49.880Z"
   },
   {
    "duration": 137,
    "start_time": "2022-04-25T12:29:50.046Z"
   },
   {
    "duration": 205,
    "start_time": "2022-04-25T12:31:09.313Z"
   },
   {
    "duration": 7,
    "start_time": "2022-04-25T12:33:47.033Z"
   },
   {
    "duration": 1218,
    "start_time": "2022-04-25T12:38:26.508Z"
   },
   {
    "duration": 68,
    "start_time": "2022-04-25T12:38:27.728Z"
   },
   {
    "duration": 13,
    "start_time": "2022-04-25T12:38:27.798Z"
   },
   {
    "duration": 14,
    "start_time": "2022-04-25T12:38:27.813Z"
   },
   {
    "duration": 33,
    "start_time": "2022-04-25T12:38:27.828Z"
   },
   {
    "duration": 23,
    "start_time": "2022-04-25T12:38:27.863Z"
   },
   {
    "duration": 23,
    "start_time": "2022-04-25T12:38:27.888Z"
   },
   {
    "duration": 8,
    "start_time": "2022-04-25T12:38:27.912Z"
   },
   {
    "duration": 19,
    "start_time": "2022-04-25T12:38:27.922Z"
   },
   {
    "duration": 34,
    "start_time": "2022-04-25T12:38:27.943Z"
   },
   {
    "duration": 227,
    "start_time": "2022-04-25T12:38:27.979Z"
   },
   {
    "duration": 5,
    "start_time": "2022-04-25T12:38:28.208Z"
   },
   {
    "duration": 131,
    "start_time": "2022-04-25T12:38:28.215Z"
   },
   {
    "duration": 329,
    "start_time": "2022-04-25T12:38:28.347Z"
   },
   {
    "duration": 13,
    "start_time": "2022-04-25T12:38:28.679Z"
   },
   {
    "duration": 1210,
    "start_time": "2022-04-25T12:38:28.694Z"
   },
   {
    "duration": 490,
    "start_time": "2022-04-25T12:38:29.906Z"
   },
   {
    "duration": 56,
    "start_time": "2022-04-25T12:38:30.398Z"
   },
   {
    "duration": 328,
    "start_time": "2022-04-25T12:38:30.456Z"
   },
   {
    "duration": 268,
    "start_time": "2022-04-25T12:38:30.785Z"
   },
   {
    "duration": 10,
    "start_time": "2022-04-25T12:38:31.057Z"
   },
   {
    "duration": 143,
    "start_time": "2022-04-25T12:38:31.069Z"
   },
   {
    "duration": 5,
    "start_time": "2022-04-25T12:38:49.791Z"
   },
   {
    "duration": 13,
    "start_time": "2022-04-25T12:39:16.010Z"
   },
   {
    "duration": 260,
    "start_time": "2022-04-25T12:41:03.441Z"
   },
   {
    "duration": 8,
    "start_time": "2022-04-25T12:41:15.081Z"
   },
   {
    "duration": 6,
    "start_time": "2022-04-25T12:41:21.237Z"
   },
   {
    "duration": 11,
    "start_time": "2022-04-25T12:41:32.927Z"
   },
   {
    "duration": 247,
    "start_time": "2022-04-25T12:41:39.255Z"
   },
   {
    "duration": 273,
    "start_time": "2022-04-25T12:41:43.041Z"
   },
   {
    "duration": 9,
    "start_time": "2022-04-25T12:41:44.169Z"
   },
   {
    "duration": 9,
    "start_time": "2022-04-25T12:41:48.105Z"
   },
   {
    "duration": 1520,
    "start_time": "2022-04-25T12:41:56.504Z"
   },
   {
    "duration": 1726,
    "start_time": "2022-04-25T12:43:49.937Z"
   },
   {
    "duration": 19,
    "start_time": "2022-04-25T12:44:34.540Z"
   },
   {
    "duration": 1808,
    "start_time": "2022-04-25T12:44:52.636Z"
   },
   {
    "duration": 1228,
    "start_time": "2022-04-25T12:45:02.992Z"
   },
   {
    "duration": 71,
    "start_time": "2022-04-25T12:45:04.222Z"
   },
   {
    "duration": 12,
    "start_time": "2022-04-25T12:45:04.295Z"
   },
   {
    "duration": 13,
    "start_time": "2022-04-25T12:45:04.309Z"
   },
   {
    "duration": 3,
    "start_time": "2022-04-25T12:45:04.323Z"
   },
   {
    "duration": 24,
    "start_time": "2022-04-25T12:45:04.328Z"
   },
   {
    "duration": 50,
    "start_time": "2022-04-25T12:45:04.356Z"
   },
   {
    "duration": 8,
    "start_time": "2022-04-25T12:45:04.408Z"
   },
   {
    "duration": 18,
    "start_time": "2022-04-25T12:45:04.418Z"
   },
   {
    "duration": 22,
    "start_time": "2022-04-25T12:45:04.439Z"
   },
   {
    "duration": 196,
    "start_time": "2022-04-25T12:45:04.464Z"
   },
   {
    "duration": 12,
    "start_time": "2022-04-25T12:45:04.662Z"
   },
   {
    "duration": 125,
    "start_time": "2022-04-25T12:45:04.676Z"
   },
   {
    "duration": 281,
    "start_time": "2022-04-25T12:45:04.802Z"
   },
   {
    "duration": 11,
    "start_time": "2022-04-25T12:45:05.085Z"
   },
   {
    "duration": 899,
    "start_time": "2022-04-25T12:45:05.098Z"
   },
   {
    "duration": 480,
    "start_time": "2022-04-25T12:45:05.998Z"
   },
   {
    "duration": 46,
    "start_time": "2022-04-25T12:45:06.480Z"
   },
   {
    "duration": 273,
    "start_time": "2022-04-25T12:45:06.527Z"
   },
   {
    "duration": 209,
    "start_time": "2022-04-25T12:45:06.802Z"
   },
   {
    "duration": 12,
    "start_time": "2022-04-25T12:45:07.012Z"
   },
   {
    "duration": 112,
    "start_time": "2022-04-25T12:45:07.025Z"
   },
   {
    "duration": 23,
    "start_time": "2022-04-25T12:46:03.078Z"
   },
   {
    "duration": 22,
    "start_time": "2022-04-25T12:47:55.052Z"
   },
   {
    "duration": 20,
    "start_time": "2022-04-25T12:49:49.481Z"
   },
   {
    "duration": 25,
    "start_time": "2022-04-25T12:51:34.252Z"
   },
   {
    "duration": 1300,
    "start_time": "2022-04-25T12:52:11.031Z"
   },
   {
    "duration": 64,
    "start_time": "2022-04-25T12:52:12.333Z"
   },
   {
    "duration": 12,
    "start_time": "2022-04-25T12:52:12.399Z"
   },
   {
    "duration": 13,
    "start_time": "2022-04-25T12:52:12.413Z"
   },
   {
    "duration": 29,
    "start_time": "2022-04-25T12:52:12.428Z"
   },
   {
    "duration": 10,
    "start_time": "2022-04-25T12:52:12.459Z"
   },
   {
    "duration": 25,
    "start_time": "2022-04-25T12:52:12.470Z"
   },
   {
    "duration": 8,
    "start_time": "2022-04-25T12:52:12.497Z"
   },
   {
    "duration": 19,
    "start_time": "2022-04-25T12:52:12.506Z"
   },
   {
    "duration": 39,
    "start_time": "2022-04-25T12:52:12.527Z"
   },
   {
    "duration": 194,
    "start_time": "2022-04-25T12:52:12.568Z"
   },
   {
    "duration": 5,
    "start_time": "2022-04-25T12:52:12.764Z"
   },
   {
    "duration": 128,
    "start_time": "2022-04-25T12:52:12.771Z"
   },
   {
    "duration": 279,
    "start_time": "2022-04-25T12:52:12.900Z"
   },
   {
    "duration": 12,
    "start_time": "2022-04-25T12:52:13.181Z"
   },
   {
    "duration": 976,
    "start_time": "2022-04-25T12:52:13.194Z"
   },
   {
    "duration": 454,
    "start_time": "2022-04-25T12:52:14.172Z"
   },
   {
    "duration": 56,
    "start_time": "2022-04-25T12:52:14.628Z"
   },
   {
    "duration": 257,
    "start_time": "2022-04-25T12:52:14.686Z"
   },
   {
    "duration": 198,
    "start_time": "2022-04-25T12:52:14.945Z"
   },
   {
    "duration": 22,
    "start_time": "2022-04-25T12:52:15.144Z"
   },
   {
    "duration": 20,
    "start_time": "2022-04-25T12:52:15.167Z"
   },
   {
    "duration": 21,
    "start_time": "2022-04-25T12:55:23.940Z"
   },
   {
    "duration": 1290,
    "start_time": "2022-04-25T12:55:30.714Z"
   },
   {
    "duration": 59,
    "start_time": "2022-04-25T12:55:32.006Z"
   },
   {
    "duration": 13,
    "start_time": "2022-04-25T12:55:32.067Z"
   },
   {
    "duration": 15,
    "start_time": "2022-04-25T12:55:32.082Z"
   },
   {
    "duration": 3,
    "start_time": "2022-04-25T12:55:32.098Z"
   },
   {
    "duration": 6,
    "start_time": "2022-04-25T12:55:32.103Z"
   },
   {
    "duration": 45,
    "start_time": "2022-04-25T12:55:32.110Z"
   },
   {
    "duration": 9,
    "start_time": "2022-04-25T12:55:32.157Z"
   },
   {
    "duration": 19,
    "start_time": "2022-04-25T12:55:32.168Z"
   },
   {
    "duration": 32,
    "start_time": "2022-04-25T12:55:32.191Z"
   },
   {
    "duration": 214,
    "start_time": "2022-04-25T12:55:32.249Z"
   },
   {
    "duration": 5,
    "start_time": "2022-04-25T12:55:32.465Z"
   },
   {
    "duration": 121,
    "start_time": "2022-04-25T12:55:32.472Z"
   },
   {
    "duration": 265,
    "start_time": "2022-04-25T12:55:32.595Z"
   },
   {
    "duration": 12,
    "start_time": "2022-04-25T12:55:32.861Z"
   },
   {
    "duration": 1143,
    "start_time": "2022-04-25T12:55:32.875Z"
   },
   {
    "duration": 671,
    "start_time": "2022-04-25T12:55:34.020Z"
   },
   {
    "duration": 82,
    "start_time": "2022-04-25T12:55:34.693Z"
   },
   {
    "duration": 376,
    "start_time": "2022-04-25T12:55:34.777Z"
   },
   {
    "duration": 636,
    "start_time": "2022-04-25T12:55:35.155Z"
   },
   {
    "duration": 13,
    "start_time": "2022-04-25T12:55:35.792Z"
   },
   {
    "duration": 19,
    "start_time": "2022-04-25T12:55:35.807Z"
   },
   {
    "duration": 10,
    "start_time": "2022-04-25T12:55:57.646Z"
   },
   {
    "duration": 105,
    "start_time": "2022-04-25T12:56:07.532Z"
   },
   {
    "duration": 5,
    "start_time": "2022-04-25T12:56:18.549Z"
   },
   {
    "duration": 1500,
    "start_time": "2022-04-25T12:56:34.077Z"
   },
   {
    "duration": 10,
    "start_time": "2022-04-25T12:58:06.075Z"
   },
   {
    "duration": 1168,
    "start_time": "2022-04-25T12:58:21.435Z"
   },
   {
    "duration": 60,
    "start_time": "2022-04-25T12:58:22.605Z"
   },
   {
    "duration": 14,
    "start_time": "2022-04-25T12:58:22.666Z"
   },
   {
    "duration": 19,
    "start_time": "2022-04-25T12:58:22.682Z"
   },
   {
    "duration": 3,
    "start_time": "2022-04-25T12:58:22.702Z"
   },
   {
    "duration": 7,
    "start_time": "2022-04-25T12:58:22.707Z"
   },
   {
    "duration": 44,
    "start_time": "2022-04-25T12:58:22.715Z"
   },
   {
    "duration": 9,
    "start_time": "2022-04-25T12:58:22.761Z"
   },
   {
    "duration": 20,
    "start_time": "2022-04-25T12:58:22.772Z"
   },
   {
    "duration": 20,
    "start_time": "2022-04-25T12:58:22.796Z"
   },
   {
    "duration": 211,
    "start_time": "2022-04-25T12:58:22.818Z"
   },
   {
    "duration": 6,
    "start_time": "2022-04-25T12:58:23.030Z"
   },
   {
    "duration": 120,
    "start_time": "2022-04-25T12:58:23.037Z"
   },
   {
    "duration": 261,
    "start_time": "2022-04-25T12:58:23.159Z"
   },
   {
    "duration": 13,
    "start_time": "2022-04-25T12:58:23.421Z"
   },
   {
    "duration": 852,
    "start_time": "2022-04-25T12:58:23.436Z"
   },
   {
    "duration": 431,
    "start_time": "2022-04-25T12:58:24.289Z"
   },
   {
    "duration": 53,
    "start_time": "2022-04-25T12:58:24.722Z"
   },
   {
    "duration": 243,
    "start_time": "2022-04-25T12:58:24.776Z"
   },
   {
    "duration": 241,
    "start_time": "2022-04-25T12:58:25.020Z"
   },
   {
    "duration": 12,
    "start_time": "2022-04-25T12:58:25.262Z"
   },
   {
    "duration": 109,
    "start_time": "2022-04-25T12:58:25.275Z"
   },
   {
    "duration": 10,
    "start_time": "2022-04-25T12:59:06.312Z"
   },
   {
    "duration": 20,
    "start_time": "2022-04-25T12:59:28.692Z"
   },
   {
    "duration": 18,
    "start_time": "2022-04-25T13:00:00.214Z"
   },
   {
    "duration": 17,
    "start_time": "2022-04-25T13:00:26.377Z"
   },
   {
    "duration": 20,
    "start_time": "2022-04-25T13:00:58.845Z"
   },
   {
    "duration": 1219,
    "start_time": "2022-04-25T13:01:16.118Z"
   },
   {
    "duration": 62,
    "start_time": "2022-04-25T13:01:17.338Z"
   },
   {
    "duration": 14,
    "start_time": "2022-04-25T13:01:17.401Z"
   },
   {
    "duration": 16,
    "start_time": "2022-04-25T13:01:17.418Z"
   },
   {
    "duration": 4,
    "start_time": "2022-04-25T13:01:17.448Z"
   },
   {
    "duration": 4,
    "start_time": "2022-04-25T13:01:17.454Z"
   },
   {
    "duration": 23,
    "start_time": "2022-04-25T13:01:17.460Z"
   },
   {
    "duration": 10,
    "start_time": "2022-04-25T13:01:17.485Z"
   },
   {
    "duration": 19,
    "start_time": "2022-04-25T13:01:17.497Z"
   },
   {
    "duration": 21,
    "start_time": "2022-04-25T13:01:17.549Z"
   },
   {
    "duration": 193,
    "start_time": "2022-04-25T13:01:17.572Z"
   },
   {
    "duration": 6,
    "start_time": "2022-04-25T13:01:17.767Z"
   },
   {
    "duration": 119,
    "start_time": "2022-04-25T13:01:17.774Z"
   },
   {
    "duration": 259,
    "start_time": "2022-04-25T13:01:17.894Z"
   },
   {
    "duration": 12,
    "start_time": "2022-04-25T13:01:18.155Z"
   },
   {
    "duration": 884,
    "start_time": "2022-04-25T13:01:18.168Z"
   },
   {
    "duration": 420,
    "start_time": "2022-04-25T13:01:19.054Z"
   },
   {
    "duration": 43,
    "start_time": "2022-04-25T13:01:19.476Z"
   },
   {
    "duration": 247,
    "start_time": "2022-04-25T13:01:19.520Z"
   },
   {
    "duration": 157,
    "start_time": "2022-04-25T13:01:19.768Z"
   },
   {
    "duration": 11,
    "start_time": "2022-04-25T13:01:19.927Z"
   },
   {
    "duration": 16,
    "start_time": "2022-04-25T13:01:19.940Z"
   },
   {
    "duration": 16,
    "start_time": "2022-04-25T14:00:14.164Z"
   },
   {
    "duration": 19,
    "start_time": "2022-04-25T14:03:14.143Z"
   },
   {
    "duration": 15,
    "start_time": "2022-04-25T14:03:50.507Z"
   },
   {
    "duration": 18,
    "start_time": "2022-04-25T14:05:53.447Z"
   },
   {
    "duration": 1159,
    "start_time": "2022-04-25T14:06:24.147Z"
   },
   {
    "duration": 64,
    "start_time": "2022-04-25T14:06:25.308Z"
   },
   {
    "duration": 13,
    "start_time": "2022-04-25T14:06:25.374Z"
   },
   {
    "duration": 13,
    "start_time": "2022-04-25T14:06:25.389Z"
   },
   {
    "duration": 3,
    "start_time": "2022-04-25T14:06:25.404Z"
   },
   {
    "duration": 6,
    "start_time": "2022-04-25T14:06:25.408Z"
   },
   {
    "duration": 45,
    "start_time": "2022-04-25T14:06:25.415Z"
   },
   {
    "duration": 8,
    "start_time": "2022-04-25T14:06:25.462Z"
   },
   {
    "duration": 20,
    "start_time": "2022-04-25T14:06:25.472Z"
   },
   {
    "duration": 19,
    "start_time": "2022-04-25T14:06:25.495Z"
   },
   {
    "duration": 194,
    "start_time": "2022-04-25T14:06:25.516Z"
   },
   {
    "duration": 5,
    "start_time": "2022-04-25T14:06:25.712Z"
   },
   {
    "duration": 125,
    "start_time": "2022-04-25T14:06:25.719Z"
   },
   {
    "duration": 259,
    "start_time": "2022-04-25T14:06:25.846Z"
   },
   {
    "duration": 13,
    "start_time": "2022-04-25T14:06:26.107Z"
   },
   {
    "duration": 846,
    "start_time": "2022-04-25T14:06:26.122Z"
   },
   {
    "duration": 438,
    "start_time": "2022-04-25T14:06:26.970Z"
   },
   {
    "duration": 55,
    "start_time": "2022-04-25T14:06:27.411Z"
   },
   {
    "duration": 235,
    "start_time": "2022-04-25T14:06:27.468Z"
   },
   {
    "duration": 224,
    "start_time": "2022-04-25T14:06:27.705Z"
   },
   {
    "duration": 12,
    "start_time": "2022-04-25T14:06:27.931Z"
   },
   {
    "duration": 15,
    "start_time": "2022-04-25T14:06:27.944Z"
   },
   {
    "duration": 17,
    "start_time": "2022-04-25T14:06:27.960Z"
   },
   {
    "duration": 7,
    "start_time": "2022-04-25T14:08:11.298Z"
   },
   {
    "duration": 14,
    "start_time": "2022-04-25T14:08:30.693Z"
   },
   {
    "duration": 16,
    "start_time": "2022-04-25T14:08:48.820Z"
   },
   {
    "duration": 18,
    "start_time": "2022-04-25T14:09:41.518Z"
   },
   {
    "duration": 1292,
    "start_time": "2022-04-25T14:09:47.545Z"
   },
   {
    "duration": 62,
    "start_time": "2022-04-25T14:09:48.839Z"
   },
   {
    "duration": 15,
    "start_time": "2022-04-25T14:09:48.903Z"
   },
   {
    "duration": 31,
    "start_time": "2022-04-25T14:09:48.920Z"
   },
   {
    "duration": 3,
    "start_time": "2022-04-25T14:09:48.953Z"
   },
   {
    "duration": 7,
    "start_time": "2022-04-25T14:09:48.957Z"
   },
   {
    "duration": 24,
    "start_time": "2022-04-25T14:09:48.965Z"
   },
   {
    "duration": 9,
    "start_time": "2022-04-25T14:09:48.990Z"
   },
   {
    "duration": 21,
    "start_time": "2022-04-25T14:09:49.000Z"
   },
   {
    "duration": 41,
    "start_time": "2022-04-25T14:09:49.023Z"
   },
   {
    "duration": 189,
    "start_time": "2022-04-25T14:09:49.066Z"
   },
   {
    "duration": 5,
    "start_time": "2022-04-25T14:09:49.257Z"
   },
   {
    "duration": 124,
    "start_time": "2022-04-25T14:09:49.264Z"
   },
   {
    "duration": 282,
    "start_time": "2022-04-25T14:09:49.390Z"
   },
   {
    "duration": 13,
    "start_time": "2022-04-25T14:09:49.674Z"
   },
   {
    "duration": 912,
    "start_time": "2022-04-25T14:09:49.689Z"
   },
   {
    "duration": 444,
    "start_time": "2022-04-25T14:09:50.603Z"
   },
   {
    "duration": 45,
    "start_time": "2022-04-25T14:09:51.049Z"
   },
   {
    "duration": 251,
    "start_time": "2022-04-25T14:09:51.096Z"
   },
   {
    "duration": 179,
    "start_time": "2022-04-25T14:09:51.349Z"
   },
   {
    "duration": 12,
    "start_time": "2022-04-25T14:09:51.530Z"
   },
   {
    "duration": 16,
    "start_time": "2022-04-25T14:09:51.544Z"
   },
   {
    "duration": 18,
    "start_time": "2022-04-25T14:09:51.562Z"
   },
   {
    "duration": 1667,
    "start_time": "2022-04-25T14:09:51.582Z"
   },
   {
    "duration": 1362,
    "start_time": "2022-04-25T14:10:12.253Z"
   },
   {
    "duration": 1308,
    "start_time": "2022-04-25T14:10:25.947Z"
   },
   {
    "duration": 8,
    "start_time": "2022-04-25T14:10:40.533Z"
   },
   {
    "duration": 1489,
    "start_time": "2022-04-25T14:10:58.939Z"
   },
   {
    "duration": 1567,
    "start_time": "2022-04-25T14:11:36.221Z"
   },
   {
    "duration": 7,
    "start_time": "2022-04-25T14:12:03.674Z"
   },
   {
    "duration": 1362,
    "start_time": "2022-04-25T14:12:19.990Z"
   },
   {
    "duration": 15,
    "start_time": "2022-04-25T14:12:57.787Z"
   },
   {
    "duration": 14,
    "start_time": "2022-04-25T14:13:16.584Z"
   },
   {
    "duration": 19,
    "start_time": "2022-04-25T14:13:36.125Z"
   },
   {
    "duration": 16,
    "start_time": "2022-04-25T14:13:50.602Z"
   },
   {
    "duration": 15,
    "start_time": "2022-04-25T14:14:08.321Z"
   },
   {
    "duration": 11,
    "start_time": "2022-04-25T14:14:46.685Z"
   },
   {
    "duration": 1142,
    "start_time": "2022-04-25T14:15:53.599Z"
   },
   {
    "duration": 60,
    "start_time": "2022-04-25T14:15:54.743Z"
   },
   {
    "duration": 14,
    "start_time": "2022-04-25T14:15:54.806Z"
   },
   {
    "duration": 28,
    "start_time": "2022-04-25T14:15:54.822Z"
   },
   {
    "duration": 4,
    "start_time": "2022-04-25T14:15:54.851Z"
   },
   {
    "duration": 8,
    "start_time": "2022-04-25T14:15:54.856Z"
   },
   {
    "duration": 26,
    "start_time": "2022-04-25T14:15:54.865Z"
   },
   {
    "duration": 9,
    "start_time": "2022-04-25T14:15:54.893Z"
   },
   {
    "duration": 21,
    "start_time": "2022-04-25T14:15:54.904Z"
   },
   {
    "duration": 30,
    "start_time": "2022-04-25T14:15:54.949Z"
   },
   {
    "duration": 281,
    "start_time": "2022-04-25T14:15:54.981Z"
   },
   {
    "duration": 7,
    "start_time": "2022-04-25T14:15:55.264Z"
   },
   {
    "duration": 181,
    "start_time": "2022-04-25T14:15:55.273Z"
   },
   {
    "duration": 412,
    "start_time": "2022-04-25T14:15:55.456Z"
   },
   {
    "duration": 17,
    "start_time": "2022-04-25T14:15:55.869Z"
   },
   {
    "duration": 1280,
    "start_time": "2022-04-25T14:15:55.888Z"
   },
   {
    "duration": 678,
    "start_time": "2022-04-25T14:15:57.170Z"
   },
   {
    "duration": 58,
    "start_time": "2022-04-25T14:15:57.850Z"
   },
   {
    "duration": 248,
    "start_time": "2022-04-25T14:15:57.910Z"
   },
   {
    "duration": 193,
    "start_time": "2022-04-25T14:15:58.160Z"
   },
   {
    "duration": 12,
    "start_time": "2022-04-25T14:15:58.355Z"
   },
   {
    "duration": 18,
    "start_time": "2022-04-25T14:15:58.369Z"
   },
   {
    "duration": 19,
    "start_time": "2022-04-25T14:15:58.389Z"
   },
   {
    "duration": 43,
    "start_time": "2022-04-25T14:15:58.410Z"
   },
   {
    "duration": 103,
    "start_time": "2022-04-25T14:15:58.455Z"
   },
   {
    "duration": 7,
    "start_time": "2022-04-25T14:16:21.621Z"
   },
   {
    "duration": 9,
    "start_time": "2022-04-25T14:16:34.552Z"
   },
   {
    "duration": 16,
    "start_time": "2022-04-25T14:19:42.632Z"
   },
   {
    "duration": 7,
    "start_time": "2022-04-25T14:20:08.087Z"
   },
   {
    "duration": 13,
    "start_time": "2022-04-25T14:20:13.084Z"
   },
   {
    "duration": 13,
    "start_time": "2022-04-25T14:20:28.062Z"
   },
   {
    "duration": 6,
    "start_time": "2022-04-25T14:21:13.619Z"
   },
   {
    "duration": 6,
    "start_time": "2022-04-25T14:21:32.509Z"
   },
   {
    "duration": 15,
    "start_time": "2022-04-25T14:29:14.123Z"
   },
   {
    "duration": 13,
    "start_time": "2022-04-25T14:30:31.072Z"
   },
   {
    "duration": 21,
    "start_time": "2022-04-25T14:31:09.902Z"
   },
   {
    "duration": 8,
    "start_time": "2022-04-25T14:31:22.298Z"
   },
   {
    "duration": 8,
    "start_time": "2022-04-25T14:31:27.699Z"
   },
   {
    "duration": 1190,
    "start_time": "2022-04-25T14:32:04.549Z"
   },
   {
    "duration": 63,
    "start_time": "2022-04-25T14:32:05.741Z"
   },
   {
    "duration": 14,
    "start_time": "2022-04-25T14:32:05.806Z"
   },
   {
    "duration": 26,
    "start_time": "2022-04-25T14:32:05.822Z"
   },
   {
    "duration": 4,
    "start_time": "2022-04-25T14:32:05.849Z"
   },
   {
    "duration": 8,
    "start_time": "2022-04-25T14:32:05.855Z"
   },
   {
    "duration": 24,
    "start_time": "2022-04-25T14:32:05.864Z"
   },
   {
    "duration": 8,
    "start_time": "2022-04-25T14:32:05.890Z"
   },
   {
    "duration": 23,
    "start_time": "2022-04-25T14:32:05.899Z"
   },
   {
    "duration": 41,
    "start_time": "2022-04-25T14:32:05.924Z"
   },
   {
    "duration": 187,
    "start_time": "2022-04-25T14:32:05.966Z"
   },
   {
    "duration": 6,
    "start_time": "2022-04-25T14:32:06.155Z"
   },
   {
    "duration": 134,
    "start_time": "2022-04-25T14:32:06.162Z"
   },
   {
    "duration": 280,
    "start_time": "2022-04-25T14:32:06.298Z"
   },
   {
    "duration": 13,
    "start_time": "2022-04-25T14:32:06.580Z"
   },
   {
    "duration": 874,
    "start_time": "2022-04-25T14:32:06.595Z"
   },
   {
    "duration": 423,
    "start_time": "2022-04-25T14:32:07.471Z"
   },
   {
    "duration": 57,
    "start_time": "2022-04-25T14:32:07.895Z"
   },
   {
    "duration": 239,
    "start_time": "2022-04-25T14:32:07.953Z"
   },
   {
    "duration": 253,
    "start_time": "2022-04-25T14:32:08.193Z"
   },
   {
    "duration": 12,
    "start_time": "2022-04-25T14:32:08.448Z"
   },
   {
    "duration": 19,
    "start_time": "2022-04-25T14:32:08.461Z"
   },
   {
    "duration": 19,
    "start_time": "2022-04-25T14:32:08.481Z"
   },
   {
    "duration": 12,
    "start_time": "2022-04-25T14:32:08.502Z"
   },
   {
    "duration": 4,
    "start_time": "2022-04-25T14:32:08.516Z"
   },
   {
    "duration": 20,
    "start_time": "2022-04-25T14:32:08.548Z"
   },
   {
    "duration": 9,
    "start_time": "2022-04-25T14:32:08.570Z"
   },
   {
    "duration": 5,
    "start_time": "2022-04-25T14:33:16.689Z"
   },
   {
    "duration": 15,
    "start_time": "2022-04-25T14:33:20.860Z"
   },
   {
    "duration": 16,
    "start_time": "2022-04-25T14:33:34.257Z"
   },
   {
    "duration": 12,
    "start_time": "2022-04-25T14:34:47.393Z"
   },
   {
    "duration": 237,
    "start_time": "2022-04-25T14:36:42.826Z"
   },
   {
    "duration": 165,
    "start_time": "2022-04-25T14:39:03.943Z"
   },
   {
    "duration": 261,
    "start_time": "2022-04-25T14:41:21.091Z"
   },
   {
    "duration": 159,
    "start_time": "2022-04-25T14:41:32.868Z"
   },
   {
    "duration": 323,
    "start_time": "2022-04-25T14:41:51.096Z"
   },
   {
    "duration": 481,
    "start_time": "2022-04-25T14:43:29.663Z"
   },
   {
    "duration": 469,
    "start_time": "2022-04-25T14:43:57.300Z"
   },
   {
    "duration": 520,
    "start_time": "2022-04-25T14:44:14.376Z"
   },
   {
    "duration": 523,
    "start_time": "2022-04-25T14:44:21.318Z"
   },
   {
    "duration": 183,
    "start_time": "2022-04-25T14:44:51.658Z"
   },
   {
    "duration": 84,
    "start_time": "2022-04-25T14:45:24.662Z"
   },
   {
    "duration": 117,
    "start_time": "2022-04-25T14:45:32.693Z"
   },
   {
    "duration": 241,
    "start_time": "2022-04-25T14:50:12.052Z"
   },
   {
    "duration": 645,
    "start_time": "2022-04-25T14:50:42.686Z"
   },
   {
    "duration": 10,
    "start_time": "2022-04-25T14:53:07.043Z"
   },
   {
    "duration": 281,
    "start_time": "2022-04-25T14:55:06.534Z"
   },
   {
    "duration": 206,
    "start_time": "2022-04-25T14:55:32.955Z"
   },
   {
    "duration": 1185,
    "start_time": "2022-04-25T15:35:48.204Z"
   },
   {
    "duration": 96,
    "start_time": "2022-04-25T15:35:49.391Z"
   },
   {
    "duration": 23,
    "start_time": "2022-04-25T15:35:49.489Z"
   },
   {
    "duration": 48,
    "start_time": "2022-04-25T15:35:49.515Z"
   },
   {
    "duration": 5,
    "start_time": "2022-04-25T15:35:49.565Z"
   },
   {
    "duration": 8,
    "start_time": "2022-04-25T15:35:49.571Z"
   },
   {
    "duration": 26,
    "start_time": "2022-04-25T15:35:49.581Z"
   },
   {
    "duration": 8,
    "start_time": "2022-04-25T15:35:49.609Z"
   },
   {
    "duration": 45,
    "start_time": "2022-04-25T15:35:49.619Z"
   },
   {
    "duration": 21,
    "start_time": "2022-04-25T15:35:49.667Z"
   },
   {
    "duration": 198,
    "start_time": "2022-04-25T15:35:49.690Z"
   },
   {
    "duration": 6,
    "start_time": "2022-04-25T15:35:49.890Z"
   },
   {
    "duration": 125,
    "start_time": "2022-04-25T15:35:49.898Z"
   },
   {
    "duration": 270,
    "start_time": "2022-04-25T15:35:50.025Z"
   },
   {
    "duration": 13,
    "start_time": "2022-04-25T15:35:50.297Z"
   },
   {
    "duration": 898,
    "start_time": "2022-04-25T15:35:50.312Z"
   },
   {
    "duration": 750,
    "start_time": "2022-04-25T15:35:51.212Z"
   },
   {
    "duration": 48,
    "start_time": "2022-04-25T15:35:51.964Z"
   },
   {
    "duration": 423,
    "start_time": "2022-04-25T15:35:52.014Z"
   },
   {
    "duration": 261,
    "start_time": "2022-04-25T15:35:52.440Z"
   },
   {
    "duration": 15,
    "start_time": "2022-04-25T15:35:52.703Z"
   },
   {
    "duration": 20,
    "start_time": "2022-04-25T15:35:52.720Z"
   },
   {
    "duration": 20,
    "start_time": "2022-04-25T15:35:52.742Z"
   },
   {
    "duration": 15,
    "start_time": "2022-04-25T15:35:52.764Z"
   },
   {
    "duration": 5,
    "start_time": "2022-04-25T15:35:52.780Z"
   },
   {
    "duration": 24,
    "start_time": "2022-04-25T15:35:52.786Z"
   },
   {
    "duration": 253,
    "start_time": "2022-04-25T15:35:52.812Z"
   },
   {
    "duration": 448,
    "start_time": "2022-04-25T15:35:53.069Z"
   },
   {
    "duration": 1232,
    "start_time": "2022-04-25T15:53:12.903Z"
   },
   {
    "duration": 71,
    "start_time": "2022-04-25T15:53:14.137Z"
   },
   {
    "duration": 38,
    "start_time": "2022-04-25T15:53:14.211Z"
   },
   {
    "duration": 20,
    "start_time": "2022-04-25T15:53:14.252Z"
   },
   {
    "duration": 5,
    "start_time": "2022-04-25T15:53:14.275Z"
   },
   {
    "duration": 6,
    "start_time": "2022-04-25T15:53:14.283Z"
   },
   {
    "duration": 30,
    "start_time": "2022-04-25T15:53:14.291Z"
   },
   {
    "duration": 31,
    "start_time": "2022-04-25T15:53:14.323Z"
   },
   {
    "duration": 22,
    "start_time": "2022-04-25T15:53:14.357Z"
   },
   {
    "duration": 23,
    "start_time": "2022-04-25T15:53:14.382Z"
   },
   {
    "duration": 317,
    "start_time": "2022-04-25T15:53:14.407Z"
   },
   {
    "duration": 8,
    "start_time": "2022-04-25T15:53:14.726Z"
   },
   {
    "duration": 132,
    "start_time": "2022-04-25T15:53:14.736Z"
   },
   {
    "duration": 457,
    "start_time": "2022-04-25T15:53:14.869Z"
   },
   {
    "duration": 29,
    "start_time": "2022-04-25T15:53:15.328Z"
   },
   {
    "duration": 1109,
    "start_time": "2022-04-25T15:53:15.359Z"
   },
   {
    "duration": 467,
    "start_time": "2022-04-25T15:53:16.470Z"
   },
   {
    "duration": 56,
    "start_time": "2022-04-25T15:53:16.938Z"
   },
   {
    "duration": 270,
    "start_time": "2022-04-25T15:53:16.995Z"
   },
   {
    "duration": 181,
    "start_time": "2022-04-25T15:53:17.268Z"
   },
   {
    "duration": 12,
    "start_time": "2022-04-25T15:53:17.451Z"
   },
   {
    "duration": 18,
    "start_time": "2022-04-25T15:53:17.464Z"
   },
   {
    "duration": 20,
    "start_time": "2022-04-25T15:53:17.484Z"
   },
   {
    "duration": 47,
    "start_time": "2022-04-25T15:53:17.506Z"
   },
   {
    "duration": 4,
    "start_time": "2022-04-25T15:53:17.555Z"
   },
   {
    "duration": 22,
    "start_time": "2022-04-25T15:53:17.561Z"
   },
   {
    "duration": 155,
    "start_time": "2022-04-25T15:53:17.585Z"
   },
   {
    "duration": 279,
    "start_time": "2022-04-25T15:53:17.743Z"
   },
   {
    "duration": 1825,
    "start_time": "2022-04-26T17:51:06.196Z"
   },
   {
    "duration": 85,
    "start_time": "2022-04-26T17:51:08.026Z"
   },
   {
    "duration": 24,
    "start_time": "2022-04-26T17:51:08.113Z"
   },
   {
    "duration": 24,
    "start_time": "2022-04-26T17:51:08.140Z"
   },
   {
    "duration": 4,
    "start_time": "2022-04-26T17:51:08.165Z"
   },
   {
    "duration": 9,
    "start_time": "2022-04-26T17:51:08.192Z"
   },
   {
    "duration": 53,
    "start_time": "2022-04-26T17:51:08.204Z"
   },
   {
    "duration": 14,
    "start_time": "2022-04-26T17:51:08.259Z"
   },
   {
    "duration": 41,
    "start_time": "2022-04-26T17:51:08.275Z"
   },
   {
    "duration": 36,
    "start_time": "2022-04-26T17:51:08.320Z"
   },
   {
    "duration": 313,
    "start_time": "2022-04-26T17:51:08.359Z"
   },
   {
    "duration": 8,
    "start_time": "2022-04-26T17:51:08.675Z"
   },
   {
    "duration": 154,
    "start_time": "2022-04-26T17:51:08.693Z"
   },
   {
    "duration": 534,
    "start_time": "2022-04-26T17:51:08.850Z"
   },
   {
    "duration": 18,
    "start_time": "2022-04-26T17:51:09.386Z"
   },
   {
    "duration": 1330,
    "start_time": "2022-04-26T17:51:09.406Z"
   },
   {
    "duration": 156,
    "start_time": "2022-04-26T17:51:10.739Z"
   },
   {
    "duration": 0,
    "start_time": "2022-04-26T17:51:10.897Z"
   },
   {
    "duration": 0,
    "start_time": "2022-04-26T17:51:10.898Z"
   },
   {
    "duration": 0,
    "start_time": "2022-04-26T17:51:10.900Z"
   },
   {
    "duration": 0,
    "start_time": "2022-04-26T17:51:10.902Z"
   },
   {
    "duration": 0,
    "start_time": "2022-04-26T17:51:10.904Z"
   },
   {
    "duration": 0,
    "start_time": "2022-04-26T17:51:10.905Z"
   },
   {
    "duration": 0,
    "start_time": "2022-04-26T17:51:10.907Z"
   },
   {
    "duration": 0,
    "start_time": "2022-04-26T17:51:10.909Z"
   },
   {
    "duration": 0,
    "start_time": "2022-04-26T17:51:10.910Z"
   },
   {
    "duration": 0,
    "start_time": "2022-04-26T17:51:10.911Z"
   },
   {
    "duration": 0,
    "start_time": "2022-04-26T17:51:10.912Z"
   },
   {
    "duration": 0,
    "start_time": "2022-04-26T17:51:10.913Z"
   },
   {
    "duration": 0,
    "start_time": "2022-04-26T17:51:10.914Z"
   },
   {
    "duration": 756,
    "start_time": "2022-04-26T17:51:35.018Z"
   },
   {
    "duration": 859,
    "start_time": "2022-04-26T17:52:21.004Z"
   },
   {
    "duration": 1377,
    "start_time": "2022-04-26T17:52:45.118Z"
   },
   {
    "duration": 76,
    "start_time": "2022-04-26T17:52:46.497Z"
   },
   {
    "duration": 24,
    "start_time": "2022-04-26T17:52:46.575Z"
   },
   {
    "duration": 36,
    "start_time": "2022-04-26T17:52:46.602Z"
   },
   {
    "duration": 10,
    "start_time": "2022-04-26T17:52:46.640Z"
   },
   {
    "duration": 30,
    "start_time": "2022-04-26T17:52:46.652Z"
   },
   {
    "duration": 49,
    "start_time": "2022-04-26T17:52:46.684Z"
   },
   {
    "duration": 10,
    "start_time": "2022-04-26T17:52:46.735Z"
   },
   {
    "duration": 43,
    "start_time": "2022-04-26T17:52:46.748Z"
   },
   {
    "duration": 41,
    "start_time": "2022-04-26T17:52:46.798Z"
   },
   {
    "duration": 338,
    "start_time": "2022-04-26T17:52:46.841Z"
   },
   {
    "duration": 14,
    "start_time": "2022-04-26T17:52:47.181Z"
   },
   {
    "duration": 173,
    "start_time": "2022-04-26T17:52:47.197Z"
   },
   {
    "duration": 340,
    "start_time": "2022-04-26T17:52:47.372Z"
   },
   {
    "duration": 16,
    "start_time": "2022-04-26T17:52:47.714Z"
   },
   {
    "duration": 1138,
    "start_time": "2022-04-26T17:52:47.732Z"
   },
   {
    "duration": 622,
    "start_time": "2022-04-26T17:52:48.872Z"
   },
   {
    "duration": 597,
    "start_time": "2022-04-26T17:52:49.496Z"
   },
   {
    "duration": 61,
    "start_time": "2022-04-26T17:52:50.094Z"
   },
   {
    "duration": 467,
    "start_time": "2022-04-26T17:52:50.157Z"
   },
   {
    "duration": 228,
    "start_time": "2022-04-26T17:52:50.626Z"
   },
   {
    "duration": 18,
    "start_time": "2022-04-26T17:52:50.856Z"
   },
   {
    "duration": 29,
    "start_time": "2022-04-26T17:52:50.876Z"
   },
   {
    "duration": 29,
    "start_time": "2022-04-26T17:52:50.908Z"
   },
   {
    "duration": 17,
    "start_time": "2022-04-26T17:52:50.939Z"
   },
   {
    "duration": 36,
    "start_time": "2022-04-26T17:52:50.958Z"
   },
   {
    "duration": 37,
    "start_time": "2022-04-26T17:52:50.999Z"
   },
   {
    "duration": 225,
    "start_time": "2022-04-26T17:52:51.040Z"
   },
   {
    "duration": 391,
    "start_time": "2022-04-26T17:52:51.268Z"
   },
   {
    "duration": 157,
    "start_time": "2022-04-26T17:54:58.542Z"
   },
   {
    "duration": 816,
    "start_time": "2022-04-26T17:55:32.831Z"
   },
   {
    "duration": 1400,
    "start_time": "2022-04-26T17:56:24.557Z"
   },
   {
    "duration": 77,
    "start_time": "2022-04-26T17:56:25.959Z"
   },
   {
    "duration": 15,
    "start_time": "2022-04-26T17:56:26.037Z"
   },
   {
    "duration": 16,
    "start_time": "2022-04-26T17:56:26.054Z"
   },
   {
    "duration": 3,
    "start_time": "2022-04-26T17:56:26.072Z"
   },
   {
    "duration": 39,
    "start_time": "2022-04-26T17:56:26.077Z"
   },
   {
    "duration": 27,
    "start_time": "2022-04-26T17:56:26.118Z"
   },
   {
    "duration": 8,
    "start_time": "2022-04-26T17:56:26.147Z"
   },
   {
    "duration": 21,
    "start_time": "2022-04-26T17:56:26.157Z"
   },
   {
    "duration": 30,
    "start_time": "2022-04-26T17:56:26.180Z"
   },
   {
    "duration": 234,
    "start_time": "2022-04-26T17:56:26.212Z"
   },
   {
    "duration": 7,
    "start_time": "2022-04-26T17:56:26.448Z"
   },
   {
    "duration": 167,
    "start_time": "2022-04-26T17:56:26.457Z"
   },
   {
    "duration": 335,
    "start_time": "2022-04-26T17:56:26.626Z"
   },
   {
    "duration": 31,
    "start_time": "2022-04-26T17:56:26.963Z"
   },
   {
    "duration": 1069,
    "start_time": "2022-04-26T17:56:26.997Z"
   },
   {
    "duration": 596,
    "start_time": "2022-04-26T17:56:28.068Z"
   },
   {
    "duration": 858,
    "start_time": "2022-04-26T17:56:28.666Z"
   },
   {
    "duration": 71,
    "start_time": "2022-04-26T17:56:29.526Z"
   },
   {
    "duration": 326,
    "start_time": "2022-04-26T17:56:29.600Z"
   },
   {
    "duration": 226,
    "start_time": "2022-04-26T17:56:29.929Z"
   },
   {
    "duration": 15,
    "start_time": "2022-04-26T17:56:30.157Z"
   },
   {
    "duration": 37,
    "start_time": "2022-04-26T17:56:30.173Z"
   },
   {
    "duration": 69,
    "start_time": "2022-04-26T17:56:30.213Z"
   },
   {
    "duration": 21,
    "start_time": "2022-04-26T17:56:30.285Z"
   },
   {
    "duration": 26,
    "start_time": "2022-04-26T17:56:30.308Z"
   },
   {
    "duration": 29,
    "start_time": "2022-04-26T17:56:30.336Z"
   },
   {
    "duration": 174,
    "start_time": "2022-04-26T17:56:30.370Z"
   },
   {
    "duration": 490,
    "start_time": "2022-04-26T17:56:30.546Z"
   }
  ],
  "kernelspec": {
   "display_name": "Python 3 (ipykernel)",
   "language": "python",
   "name": "python3"
  },
  "language_info": {
   "codemirror_mode": {
    "name": "ipython",
    "version": 3
   },
   "file_extension": ".py",
   "mimetype": "text/x-python",
   "name": "python",
   "nbconvert_exporter": "python",
   "pygments_lexer": "ipython3",
   "version": "3.9.7"
  },
  "toc": {
   "base_numbering": 1,
   "nav_menu": {},
   "number_sections": true,
   "sideBar": true,
   "skip_h1_title": true,
   "title_cell": "Содержание",
   "title_sidebar": "Contents",
   "toc_cell": true,
   "toc_position": {},
   "toc_section_display": true,
   "toc_window_display": true
  }
 },
 "nbformat": 4,
 "nbformat_minor": 2
}
